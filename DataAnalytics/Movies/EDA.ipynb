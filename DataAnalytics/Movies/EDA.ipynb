{
 "cells": [
  {
   "cell_type": "markdown",
   "metadata": {
    "id": "7z3jGuDd-bof"
   },
   "source": [
    "# Imports"
   ]
  },
  {
   "cell_type": "code",
   "execution_count": 1,
   "metadata": {
    "id": "xpeZwy_w5Y5v"
   },
   "outputs": [],
   "source": [
    "import pandas as pd"
   ]
  },
  {
   "cell_type": "markdown",
   "metadata": {
    "id": "rwt5RFcM5SZJ"
   },
   "source": [
    "# Data import and first inspection"
   ]
  },
  {
   "cell_type": "code",
   "execution_count": 21,
   "metadata": {
    "colab": {
     "base_uri": "https://localhost:8080/",
     "height": 374
    },
    "id": "0pUvkddW7LVx",
    "outputId": "dbfbcb16-19ef-4531-b3ab-6ea033ccdfa0"
   },
   "outputs": [],
   "source": [
    "data = pd.read_csv(r\"C:\\Users\\CPL17\\OneDrive\\Documents\\Data\\movies_complete.csv\")\\\n",
    "         .dropna(subset=['revenue_musd','budget_musd'])"
   ]
  },
  {
   "cell_type": "markdown",
   "metadata": {
    "id": "ukyEa_VA5SZK"
   },
   "source": [
    "* **id:** The ID of the movie (clear/unique identifier).\n",
    "* **title:** The Official Title of the movie.\n",
    "* **tagline:** The tagline of the movie.\n",
    "* **release_date:** Theatrical Release Date of the movie.\n",
    "* **genres:** Genres associated with the movie.\n",
    "* **belongs_to_collection:** Gives information on the movie series/franchise the particular film belongs to.\n",
    "* **original_language:** The language in which the movie was originally shot in.\n",
    "* **budget_musd:** The budget of the movie in million dollars.\n",
    "* **revenue_musd:** The total revenue of the movie in million dollars.\n",
    "* **production_companies:** Production companies involved with the making of the movie.\n",
    "* **production_countries:** Countries where the movie was shot/produced in.\n",
    "* **vote_count:** The number of votes by users, as counted by TMDB.\n",
    "* **vote_average:** The average rating of the movie.\n",
    "* **popularity:** The Popularity Score assigned by TMDB.\n",
    "* **runtime:** The runtime of the movie in minutes.\n",
    "* **overview:** A brief blurb of the movie.\n",
    "* **spoken_languages:** Spoken languages in the film.\n",
    "* **poster_path:** The URL of the poster image.\n",
    "* **cast:** (Main) Actors appearing in the movie.\n",
    "* **cast_size:** number of Actors appearing in the movie.\n",
    "* **director:** Director of the movie.\n",
    "* **crew_size:** Size of the film crew (incl. director, excl. actors)."
   ]
  },
  {
   "cell_type": "markdown",
   "metadata": {
    "colab": {
     "base_uri": "https://localhost:8080/"
    },
    "id": "-a8cG_Z_5SZL",
    "outputId": "c0c170f4-5d2c-4666-b80d-a8e837cd669c"
   },
   "source": [
    "data.columns"
   ]
  },
  {
   "cell_type": "code",
   "execution_count": 22,
   "metadata": {},
   "outputs": [
    {
     "data": {
      "text/html": [
       "<div>\n",
       "<style scoped>\n",
       "    .dataframe tbody tr th:only-of-type {\n",
       "        vertical-align: middle;\n",
       "    }\n",
       "\n",
       "    .dataframe tbody tr th {\n",
       "        vertical-align: top;\n",
       "    }\n",
       "\n",
       "    .dataframe thead th {\n",
       "        text-align: right;\n",
       "    }\n",
       "</style>\n",
       "<table border=\"1\" class=\"dataframe\">\n",
       "  <thead>\n",
       "    <tr style=\"text-align: right;\">\n",
       "      <th></th>\n",
       "      <th>id</th>\n",
       "      <th>title</th>\n",
       "      <th>tagline</th>\n",
       "      <th>release_date</th>\n",
       "      <th>genres</th>\n",
       "      <th>belongs_to_collection</th>\n",
       "      <th>original_language</th>\n",
       "      <th>budget_musd</th>\n",
       "      <th>revenue_musd</th>\n",
       "      <th>production_companies</th>\n",
       "      <th>...</th>\n",
       "      <th>vote_average</th>\n",
       "      <th>popularity</th>\n",
       "      <th>runtime</th>\n",
       "      <th>overview</th>\n",
       "      <th>spoken_languages</th>\n",
       "      <th>poster_path</th>\n",
       "      <th>cast</th>\n",
       "      <th>cast_size</th>\n",
       "      <th>crew_size</th>\n",
       "      <th>director</th>\n",
       "    </tr>\n",
       "  </thead>\n",
       "  <tbody>\n",
       "    <tr>\n",
       "      <th>0</th>\n",
       "      <td>862</td>\n",
       "      <td>Toy Story</td>\n",
       "      <td>NaN</td>\n",
       "      <td>1995-10-30</td>\n",
       "      <td>Animation|Comedy|Family</td>\n",
       "      <td>Toy Story Collection</td>\n",
       "      <td>en</td>\n",
       "      <td>30.0</td>\n",
       "      <td>373.554033</td>\n",
       "      <td>Pixar Animation Studios</td>\n",
       "      <td>...</td>\n",
       "      <td>7.7</td>\n",
       "      <td>21.946943</td>\n",
       "      <td>81.0</td>\n",
       "      <td>Led by Woody, Andy's toys live happily in his ...</td>\n",
       "      <td>English</td>\n",
       "      <td>&lt;img src='http://image.tmdb.org/t/p/w185//uXDf...</td>\n",
       "      <td>Tom Hanks|Tim Allen|Don Rickles|Jim Varney|Wal...</td>\n",
       "      <td>13</td>\n",
       "      <td>106</td>\n",
       "      <td>John Lasseter</td>\n",
       "    </tr>\n",
       "    <tr>\n",
       "      <th>1</th>\n",
       "      <td>8844</td>\n",
       "      <td>Jumanji</td>\n",
       "      <td>Roll the dice and unleash the excitement!</td>\n",
       "      <td>1995-12-15</td>\n",
       "      <td>Adventure|Fantasy|Family</td>\n",
       "      <td>NaN</td>\n",
       "      <td>en</td>\n",
       "      <td>65.0</td>\n",
       "      <td>262.797249</td>\n",
       "      <td>TriStar Pictures|Teitler Film|Interscope Commu...</td>\n",
       "      <td>...</td>\n",
       "      <td>6.9</td>\n",
       "      <td>17.015539</td>\n",
       "      <td>104.0</td>\n",
       "      <td>When siblings Judy and Peter discover an encha...</td>\n",
       "      <td>English|Français</td>\n",
       "      <td>&lt;img src='http://image.tmdb.org/t/p/w185//vgpX...</td>\n",
       "      <td>Robin Williams|Jonathan Hyde|Kirsten Dunst|Bra...</td>\n",
       "      <td>26</td>\n",
       "      <td>16</td>\n",
       "      <td>Joe Johnston</td>\n",
       "    </tr>\n",
       "    <tr>\n",
       "      <th>3</th>\n",
       "      <td>31357</td>\n",
       "      <td>Waiting to Exhale</td>\n",
       "      <td>Friends are the people who let you be yourself...</td>\n",
       "      <td>1995-12-22</td>\n",
       "      <td>Comedy|Drama|Romance</td>\n",
       "      <td>NaN</td>\n",
       "      <td>en</td>\n",
       "      <td>16.0</td>\n",
       "      <td>81.452156</td>\n",
       "      <td>Twentieth Century Fox Film Corporation</td>\n",
       "      <td>...</td>\n",
       "      <td>6.1</td>\n",
       "      <td>3.859495</td>\n",
       "      <td>127.0</td>\n",
       "      <td>Cheated on, mistreated and stepped on, the wom...</td>\n",
       "      <td>English</td>\n",
       "      <td>&lt;img src='http://image.tmdb.org/t/p/w185//4wjG...</td>\n",
       "      <td>Whitney Houston|Angela Bassett|Loretta Devine|...</td>\n",
       "      <td>10</td>\n",
       "      <td>10</td>\n",
       "      <td>Forest Whitaker</td>\n",
       "    </tr>\n",
       "  </tbody>\n",
       "</table>\n",
       "<p>3 rows × 22 columns</p>\n",
       "</div>"
      ],
      "text/plain": [
       "      id              title  \\\n",
       "0    862          Toy Story   \n",
       "1   8844            Jumanji   \n",
       "3  31357  Waiting to Exhale   \n",
       "\n",
       "                                             tagline release_date  \\\n",
       "0                                                NaN   1995-10-30   \n",
       "1          Roll the dice and unleash the excitement!   1995-12-15   \n",
       "3  Friends are the people who let you be yourself...   1995-12-22   \n",
       "\n",
       "                     genres belongs_to_collection original_language  \\\n",
       "0   Animation|Comedy|Family  Toy Story Collection                en   \n",
       "1  Adventure|Fantasy|Family                   NaN                en   \n",
       "3      Comedy|Drama|Romance                   NaN                en   \n",
       "\n",
       "   budget_musd  revenue_musd  \\\n",
       "0         30.0    373.554033   \n",
       "1         65.0    262.797249   \n",
       "3         16.0     81.452156   \n",
       "\n",
       "                                production_companies  ... vote_average  \\\n",
       "0                            Pixar Animation Studios  ...          7.7   \n",
       "1  TriStar Pictures|Teitler Film|Interscope Commu...  ...          6.9   \n",
       "3             Twentieth Century Fox Film Corporation  ...          6.1   \n",
       "\n",
       "   popularity  runtime                                           overview  \\\n",
       "0   21.946943     81.0  Led by Woody, Andy's toys live happily in his ...   \n",
       "1   17.015539    104.0  When siblings Judy and Peter discover an encha...   \n",
       "3    3.859495    127.0  Cheated on, mistreated and stepped on, the wom...   \n",
       "\n",
       "   spoken_languages                                        poster_path  \\\n",
       "0           English  <img src='http://image.tmdb.org/t/p/w185//uXDf...   \n",
       "1  English|Français  <img src='http://image.tmdb.org/t/p/w185//vgpX...   \n",
       "3           English  <img src='http://image.tmdb.org/t/p/w185//4wjG...   \n",
       "\n",
       "                                                cast cast_size crew_size  \\\n",
       "0  Tom Hanks|Tim Allen|Don Rickles|Jim Varney|Wal...        13       106   \n",
       "1  Robin Williams|Jonathan Hyde|Kirsten Dunst|Bra...        26        16   \n",
       "3  Whitney Houston|Angela Bassett|Loretta Devine|...        10        10   \n",
       "\n",
       "          director  \n",
       "0    John Lasseter  \n",
       "1     Joe Johnston  \n",
       "3  Forest Whitaker  \n",
       "\n",
       "[3 rows x 22 columns]"
      ]
     },
     "execution_count": 22,
     "metadata": {},
     "output_type": "execute_result"
    }
   ],
   "source": [
    "data.head(3)"
   ]
  },
  {
   "cell_type": "markdown",
   "metadata": {
    "id": "CmEek0zQ5SZM"
   },
   "source": [
    "## The best and the worst movies"
   ]
  },
  {
   "cell_type": "code",
   "execution_count": 14,
   "metadata": {
    "id": "aYpUE0rSJqM5"
   },
   "outputs": [],
   "source": [
    "# udf to get top/lowest entries in a column\n",
    "\n",
    "def high_low(col, n, dataframe = data, bottom=False, condition=None, column_name=None):\n",
    "\n",
    "  df = dataframe.copy()\n",
    "\n",
    "  if not isinstance(col,str):\n",
    "\n",
    "    if column_name is None:\n",
    "      \n",
    "      return 'Need column name'\n",
    "\n",
    "    col.name = column_name\n",
    "    df[col.name] = col\n",
    "    col = col.name\n",
    "\n",
    "  if condition:\n",
    "    df = df.query(condition)\n",
    "  \n",
    "  return df.sort_values(ascending=bottom,by=col).head(n).loc[:,['title',col]]"
   ]
  },
  {
   "cell_type": "markdown",
   "metadata": {
    "id": "pNgsR-KY5SZO"
   },
   "source": [
    "__Movies Top 5 - Highest Revenue__"
   ]
  },
  {
   "cell_type": "code",
   "execution_count": 15,
   "metadata": {
    "colab": {
     "base_uri": "https://localhost:8080/",
     "height": 204
    },
    "id": "yKbkCSQG5SZP",
    "outputId": "51f20548-03fa-4d1e-9de4-b30edcd0f25d"
   },
   "outputs": [
    {
     "data": {
      "text/html": [
       "<div>\n",
       "<style scoped>\n",
       "    .dataframe tbody tr th:only-of-type {\n",
       "        vertical-align: middle;\n",
       "    }\n",
       "\n",
       "    .dataframe tbody tr th {\n",
       "        vertical-align: top;\n",
       "    }\n",
       "\n",
       "    .dataframe thead th {\n",
       "        text-align: right;\n",
       "    }\n",
       "</style>\n",
       "<table border=\"1\" class=\"dataframe\">\n",
       "  <thead>\n",
       "    <tr style=\"text-align: right;\">\n",
       "      <th></th>\n",
       "      <th>title</th>\n",
       "      <th>revenue_musd</th>\n",
       "    </tr>\n",
       "  </thead>\n",
       "  <tbody>\n",
       "    <tr>\n",
       "      <th>14448</th>\n",
       "      <td>Avatar</td>\n",
       "      <td>2787.965087</td>\n",
       "    </tr>\n",
       "    <tr>\n",
       "      <th>26265</th>\n",
       "      <td>Star Wars: The Force Awakens</td>\n",
       "      <td>2068.223624</td>\n",
       "    </tr>\n",
       "    <tr>\n",
       "      <th>1620</th>\n",
       "      <td>Titanic</td>\n",
       "      <td>1845.034188</td>\n",
       "    </tr>\n",
       "    <tr>\n",
       "      <th>17669</th>\n",
       "      <td>The Avengers</td>\n",
       "      <td>1519.557910</td>\n",
       "    </tr>\n",
       "    <tr>\n",
       "      <th>24812</th>\n",
       "      <td>Jurassic World</td>\n",
       "      <td>1513.528810</td>\n",
       "    </tr>\n",
       "  </tbody>\n",
       "</table>\n",
       "</div>"
      ],
      "text/plain": [
       "                              title  revenue_musd\n",
       "14448                        Avatar   2787.965087\n",
       "26265  Star Wars: The Force Awakens   2068.223624\n",
       "1620                        Titanic   1845.034188\n",
       "17669                  The Avengers   1519.557910\n",
       "24812                Jurassic World   1513.528810"
      ]
     },
     "execution_count": 15,
     "metadata": {},
     "output_type": "execute_result"
    }
   ],
   "source": [
    "high_low('revenue_musd',5)"
   ]
  },
  {
   "cell_type": "markdown",
   "metadata": {
    "id": "ZLPykaB05SZP"
   },
   "source": [
    "__Movies Top 5 - Highest Budget__"
   ]
  },
  {
   "cell_type": "code",
   "execution_count": 10,
   "metadata": {
    "colab": {
     "base_uri": "https://localhost:8080/"
    },
    "id": "Kv5S8fVp5SZQ",
    "outputId": "1813c352-7adb-4e0e-e0d0-361995bdb310"
   },
   "outputs": [
    {
     "data": {
      "text/html": [
       "<div>\n",
       "<style scoped>\n",
       "    .dataframe tbody tr th:only-of-type {\n",
       "        vertical-align: middle;\n",
       "    }\n",
       "\n",
       "    .dataframe tbody tr th {\n",
       "        vertical-align: top;\n",
       "    }\n",
       "\n",
       "    .dataframe thead th {\n",
       "        text-align: right;\n",
       "    }\n",
       "</style>\n",
       "<table border=\"1\" class=\"dataframe\">\n",
       "  <thead>\n",
       "    <tr style=\"text-align: right;\">\n",
       "      <th></th>\n",
       "      <th>title</th>\n",
       "      <th>budget_musd</th>\n",
       "    </tr>\n",
       "  </thead>\n",
       "  <tbody>\n",
       "    <tr>\n",
       "      <th>16986</th>\n",
       "      <td>Pirates of the Caribbean: On Stranger Tides</td>\n",
       "      <td>380.0</td>\n",
       "    </tr>\n",
       "    <tr>\n",
       "      <th>11743</th>\n",
       "      <td>Pirates of the Caribbean: At World's End</td>\n",
       "      <td>300.0</td>\n",
       "    </tr>\n",
       "    <tr>\n",
       "      <th>26268</th>\n",
       "      <td>Avengers: Age of Ultron</td>\n",
       "      <td>280.0</td>\n",
       "    </tr>\n",
       "    <tr>\n",
       "      <th>10985</th>\n",
       "      <td>Superman Returns</td>\n",
       "      <td>270.0</td>\n",
       "    </tr>\n",
       "    <tr>\n",
       "      <th>16006</th>\n",
       "      <td>Tangled</td>\n",
       "      <td>260.0</td>\n",
       "    </tr>\n",
       "  </tbody>\n",
       "</table>\n",
       "</div>"
      ],
      "text/plain": [
       "                                             title  budget_musd\n",
       "16986  Pirates of the Caribbean: On Stranger Tides        380.0\n",
       "11743     Pirates of the Caribbean: At World's End        300.0\n",
       "26268                      Avengers: Age of Ultron        280.0\n",
       "10985                             Superman Returns        270.0\n",
       "16006                                      Tangled        260.0"
      ]
     },
     "execution_count": 10,
     "metadata": {},
     "output_type": "execute_result"
    }
   ],
   "source": [
    "high_low('budget_musd',5)"
   ]
  },
  {
   "cell_type": "markdown",
   "metadata": {
    "id": "1A6JmZuS5SZR"
   },
   "source": [
    "__Movies Top 5 - Highest ROI__"
   ]
  },
  {
   "cell_type": "code",
   "execution_count": 6,
   "metadata": {
    "colab": {
     "base_uri": "https://localhost:8080/",
     "height": 204
    },
    "id": "-_-U84T95SZS",
    "outputId": "8e95cd43-7e66-472e-a5a5-063336a7fb7f"
   },
   "outputs": [
    {
     "data": {
      "text/html": [
       "<div>\n",
       "<style scoped>\n",
       "    .dataframe tbody tr th:only-of-type {\n",
       "        vertical-align: middle;\n",
       "    }\n",
       "\n",
       "    .dataframe tbody tr th {\n",
       "        vertical-align: top;\n",
       "    }\n",
       "\n",
       "    .dataframe thead th {\n",
       "        text-align: right;\n",
       "    }\n",
       "</style>\n",
       "<table border=\"1\" class=\"dataframe\">\n",
       "  <thead>\n",
       "    <tr style=\"text-align: right;\">\n",
       "      <th></th>\n",
       "      <th>title</th>\n",
       "      <th>roi</th>\n",
       "    </tr>\n",
       "  </thead>\n",
       "  <tbody>\n",
       "    <tr>\n",
       "      <th>1055</th>\n",
       "      <td>E.T. the Extra-Terrestrial</td>\n",
       "      <td>75.520507</td>\n",
       "    </tr>\n",
       "    <tr>\n",
       "      <th>255</th>\n",
       "      <td>Star Wars</td>\n",
       "      <td>70.490728</td>\n",
       "    </tr>\n",
       "    <tr>\n",
       "      <th>588</th>\n",
       "      <td>Pretty Woman</td>\n",
       "      <td>33.071429</td>\n",
       "    </tr>\n",
       "    <tr>\n",
       "      <th>18300</th>\n",
       "      <td>The Intouchables</td>\n",
       "      <td>32.806221</td>\n",
       "    </tr>\n",
       "    <tr>\n",
       "      <th>1144</th>\n",
       "      <td>The Empire Strikes Back</td>\n",
       "      <td>29.911111</td>\n",
       "    </tr>\n",
       "  </tbody>\n",
       "</table>\n",
       "</div>"
      ],
      "text/plain": [
       "                            title        roi\n",
       "1055   E.T. the Extra-Terrestrial  75.520507\n",
       "255                     Star Wars  70.490728\n",
       "588                  Pretty Woman  33.071429\n",
       "18300            The Intouchables  32.806221\n",
       "1144      The Empire Strikes Back  29.911111"
      ]
     },
     "execution_count": 6,
     "metadata": {},
     "output_type": "execute_result"
    }
   ],
   "source": [
    "roi = data['revenue_musd']/ data['budget_musd']\n",
    "roi\n",
    "high_low(roi,5,condition='budget_musd > 10',column_name= 'roi')"
   ]
  },
  {
   "cell_type": "markdown",
   "metadata": {
    "id": "AHyOLb5P5SZU"
   },
   "source": [
    "__Movies Top 5 - Lowest Rating__"
   ]
  },
  {
   "cell_type": "code",
   "execution_count": 16,
   "metadata": {
    "colab": {
     "base_uri": "https://localhost:8080/",
     "height": 204
    },
    "id": "cxsuRGbq5SZV",
    "outputId": "0489055a-de12-4845-dfb7-5bf73a632875"
   },
   "outputs": [
    {
     "data": {
      "text/html": [
       "<div>\n",
       "<style scoped>\n",
       "    .dataframe tbody tr th:only-of-type {\n",
       "        vertical-align: middle;\n",
       "    }\n",
       "\n",
       "    .dataframe tbody tr th {\n",
       "        vertical-align: top;\n",
       "    }\n",
       "\n",
       "    .dataframe thead th {\n",
       "        text-align: right;\n",
       "    }\n",
       "</style>\n",
       "<table border=\"1\" class=\"dataframe\">\n",
       "  <thead>\n",
       "    <tr style=\"text-align: right;\">\n",
       "      <th></th>\n",
       "      <th>title</th>\n",
       "      <th>vote_average</th>\n",
       "    </tr>\n",
       "  </thead>\n",
       "  <tbody>\n",
       "    <tr>\n",
       "      <th>25451</th>\n",
       "      <td>Foodfight!</td>\n",
       "      <td>2.3</td>\n",
       "    </tr>\n",
       "    <tr>\n",
       "      <th>6665</th>\n",
       "      <td>House of the Dead</td>\n",
       "      <td>2.8</td>\n",
       "    </tr>\n",
       "    <tr>\n",
       "      <th>8484</th>\n",
       "      <td>Eegah</td>\n",
       "      <td>2.8</td>\n",
       "    </tr>\n",
       "    <tr>\n",
       "      <th>3439</th>\n",
       "      <td>Battlefield Earth</td>\n",
       "      <td>3.0</td>\n",
       "    </tr>\n",
       "    <tr>\n",
       "      <th>6281</th>\n",
       "      <td>From Justin to Kelly</td>\n",
       "      <td>3.0</td>\n",
       "    </tr>\n",
       "  </tbody>\n",
       "</table>\n",
       "</div>"
      ],
      "text/plain": [
       "                      title  vote_average\n",
       "25451            Foodfight!           2.3\n",
       "6665      House of the Dead           2.8\n",
       "8484                  Eegah           2.8\n",
       "3439      Battlefield Earth           3.0\n",
       "6281   From Justin to Kelly           3.0"
      ]
     },
     "execution_count": 16,
     "metadata": {},
     "output_type": "execute_result"
    }
   ],
   "source": [
    "high_low('vote_average',5,bottom=True,condition='vote_count > 10')"
   ]
  },
  {
   "cell_type": "markdown",
   "metadata": {
    "id": "wHgwLeKi5SZV"
   },
   "source": [
    "__Movies Top 5 - Most Popular__"
   ]
  },
  {
   "cell_type": "code",
   "execution_count": 17,
   "metadata": {
    "colab": {
     "base_uri": "https://localhost:8080/"
    },
    "id": "uPLJRSjj5SZV",
    "outputId": "9cd97b79-ae68-4a6a-ec37-09ee50298cb9"
   },
   "outputs": [
    {
     "data": {
      "text/html": [
       "<div>\n",
       "<style scoped>\n",
       "    .dataframe tbody tr th:only-of-type {\n",
       "        vertical-align: middle;\n",
       "    }\n",
       "\n",
       "    .dataframe tbody tr th {\n",
       "        vertical-align: top;\n",
       "    }\n",
       "\n",
       "    .dataframe thead th {\n",
       "        text-align: right;\n",
       "    }\n",
       "</style>\n",
       "<table border=\"1\" class=\"dataframe\">\n",
       "  <thead>\n",
       "    <tr style=\"text-align: right;\">\n",
       "      <th></th>\n",
       "      <th>title</th>\n",
       "      <th>popularity</th>\n",
       "    </tr>\n",
       "  </thead>\n",
       "  <tbody>\n",
       "    <tr>\n",
       "      <th>30330</th>\n",
       "      <td>Minions</td>\n",
       "      <td>547.488298</td>\n",
       "    </tr>\n",
       "    <tr>\n",
       "      <th>32927</th>\n",
       "      <td>Wonder Woman</td>\n",
       "      <td>294.337037</td>\n",
       "    </tr>\n",
       "    <tr>\n",
       "      <th>41556</th>\n",
       "      <td>Beauty and the Beast</td>\n",
       "      <td>287.253654</td>\n",
       "    </tr>\n",
       "    <tr>\n",
       "      <th>42940</th>\n",
       "      <td>Baby Driver</td>\n",
       "      <td>228.032744</td>\n",
       "    </tr>\n",
       "    <tr>\n",
       "      <th>24187</th>\n",
       "      <td>Big Hero 6</td>\n",
       "      <td>213.849907</td>\n",
       "    </tr>\n",
       "  </tbody>\n",
       "</table>\n",
       "</div>"
      ],
      "text/plain": [
       "                      title  popularity\n",
       "30330               Minions  547.488298\n",
       "32927          Wonder Woman  294.337037\n",
       "41556  Beauty and the Beast  287.253654\n",
       "42940           Baby Driver  228.032744\n",
       "24187            Big Hero 6  213.849907"
      ]
     },
     "execution_count": 17,
     "metadata": {},
     "output_type": "execute_result"
    }
   ],
   "source": [
    "high_low('popularity',5)"
   ]
  },
  {
   "cell_type": "markdown",
   "metadata": {
    "id": "xM0vV8lv5SZV"
   },
   "source": [
    "## Find your next Movie"
   ]
  },
  {
   "cell_type": "markdown",
   "metadata": {
    "id": "V24LAg-tpZue"
   },
   "source": [
    "#### Wrangle to useful format"
   ]
  },
  {
   "cell_type": "code",
   "execution_count": 18,
   "metadata": {
    "cellView": "form",
    "id": "eUPHsFshnU3V"
   },
   "outputs": [],
   "source": [
    "data2 = data.copy()\n",
    "columns = ['genres','cast','production_companies']\n",
    "\n",
    "for col in columns:\n",
    "\n",
    "  data2[col] = data[col].str.split('|')\n",
    "  data2.dropna(subset=[col],inplace=True)\n"
   ]
  },
  {
   "cell_type": "code",
   "execution_count": 26,
   "metadata": {},
   "outputs": [
    {
     "data": {
      "text/html": [
       "<div>\n",
       "<style scoped>\n",
       "    .dataframe tbody tr th:only-of-type {\n",
       "        vertical-align: middle;\n",
       "    }\n",
       "\n",
       "    .dataframe tbody tr th {\n",
       "        vertical-align: top;\n",
       "    }\n",
       "\n",
       "    .dataframe thead th {\n",
       "        text-align: right;\n",
       "    }\n",
       "</style>\n",
       "<table border=\"1\" class=\"dataframe\">\n",
       "  <thead>\n",
       "    <tr style=\"text-align: right;\">\n",
       "      <th></th>\n",
       "      <th>id</th>\n",
       "      <th>title</th>\n",
       "      <th>tagline</th>\n",
       "      <th>release_date</th>\n",
       "      <th>genres</th>\n",
       "      <th>belongs_to_collection</th>\n",
       "      <th>original_language</th>\n",
       "      <th>budget_musd</th>\n",
       "      <th>revenue_musd</th>\n",
       "      <th>production_companies</th>\n",
       "      <th>...</th>\n",
       "      <th>vote_average</th>\n",
       "      <th>popularity</th>\n",
       "      <th>runtime</th>\n",
       "      <th>overview</th>\n",
       "      <th>spoken_languages</th>\n",
       "      <th>poster_path</th>\n",
       "      <th>cast</th>\n",
       "      <th>cast_size</th>\n",
       "      <th>crew_size</th>\n",
       "      <th>director</th>\n",
       "    </tr>\n",
       "  </thead>\n",
       "  <tbody>\n",
       "    <tr>\n",
       "      <th>0</th>\n",
       "      <td>862</td>\n",
       "      <td>Toy Story</td>\n",
       "      <td>NaN</td>\n",
       "      <td>1995-10-30</td>\n",
       "      <td>[Animation, Comedy, Family]</td>\n",
       "      <td>Toy Story Collection</td>\n",
       "      <td>en</td>\n",
       "      <td>30.0</td>\n",
       "      <td>373.554033</td>\n",
       "      <td>[Pixar Animation Studios]</td>\n",
       "      <td>...</td>\n",
       "      <td>7.7</td>\n",
       "      <td>21.946943</td>\n",
       "      <td>81.0</td>\n",
       "      <td>Led by Woody, Andy's toys live happily in his ...</td>\n",
       "      <td>English</td>\n",
       "      <td>&lt;img src='http://image.tmdb.org/t/p/w185//uXDf...</td>\n",
       "      <td>[Tom Hanks, Tim Allen, Don Rickles, Jim Varney...</td>\n",
       "      <td>13</td>\n",
       "      <td>106</td>\n",
       "      <td>John Lasseter</td>\n",
       "    </tr>\n",
       "  </tbody>\n",
       "</table>\n",
       "<p>1 rows × 22 columns</p>\n",
       "</div>"
      ],
      "text/plain": [
       "    id      title tagline release_date                       genres  \\\n",
       "0  862  Toy Story     NaN   1995-10-30  [Animation, Comedy, Family]   \n",
       "\n",
       "  belongs_to_collection original_language  budget_musd  revenue_musd  \\\n",
       "0  Toy Story Collection                en         30.0    373.554033   \n",
       "\n",
       "        production_companies  ... vote_average  popularity  runtime  \\\n",
       "0  [Pixar Animation Studios]  ...          7.7   21.946943     81.0   \n",
       "\n",
       "                                            overview  spoken_languages  \\\n",
       "0  Led by Woody, Andy's toys live happily in his ...           English   \n",
       "\n",
       "                                         poster_path  \\\n",
       "0  <img src='http://image.tmdb.org/t/p/w185//uXDf...   \n",
       "\n",
       "                                                cast cast_size crew_size  \\\n",
       "0  [Tom Hanks, Tim Allen, Don Rickles, Jim Varney...        13       106   \n",
       "\n",
       "        director  \n",
       "0  John Lasseter  \n",
       "\n",
       "[1 rows x 22 columns]"
      ]
     },
     "execution_count": 26,
     "metadata": {},
     "output_type": "execute_result"
    }
   ],
   "source": [
    "data2[:1]"
   ]
  },
  {
   "cell_type": "markdown",
   "metadata": {
    "id": "mMpjw5ly5SZW"
   },
   "source": [
    "__Search 1: Science Fiction Action Movie with Bruce Willis (sorted from high to low Rating)__"
   ]
  },
  {
   "cell_type": "code",
   "execution_count": null,
   "metadata": {
    "colab": {
     "base_uri": "https://localhost:8080/",
     "height": 352
    },
    "id": "E2XYVXWhe6IR",
    "outputId": "98cd76ee-6112-46fd-c17e-d50cec8be63d"
   },
   "outputs": [
    {
     "data": {
      "text/html": [
       "<div>\n",
       "<style scoped>\n",
       "    .dataframe tbody tr th:only-of-type {\n",
       "        vertical-align: middle;\n",
       "    }\n",
       "\n",
       "    .dataframe tbody tr th {\n",
       "        vertical-align: top;\n",
       "    }\n",
       "\n",
       "    .dataframe thead th {\n",
       "        text-align: right;\n",
       "    }\n",
       "</style>\n",
       "<table border=\"1\" class=\"dataframe\">\n",
       "  <thead>\n",
       "    <tr style=\"text-align: right;\">\n",
       "      <th></th>\n",
       "      <th>id</th>\n",
       "      <th>title</th>\n",
       "      <th>tagline</th>\n",
       "      <th>release_date</th>\n",
       "      <th>genres</th>\n",
       "      <th>belongs_to_collection</th>\n",
       "      <th>original_language</th>\n",
       "      <th>budget_musd</th>\n",
       "      <th>revenue_musd</th>\n",
       "      <th>production_companies</th>\n",
       "      <th>production_countries</th>\n",
       "      <th>vote_count</th>\n",
       "      <th>vote_average</th>\n",
       "      <th>popularity</th>\n",
       "      <th>runtime</th>\n",
       "      <th>overview</th>\n",
       "      <th>spoken_languages</th>\n",
       "      <th>poster_path</th>\n",
       "      <th>cast</th>\n",
       "      <th>cast_size</th>\n",
       "      <th>crew_size</th>\n",
       "      <th>director</th>\n",
       "    </tr>\n",
       "  </thead>\n",
       "  <tbody>\n",
       "    <tr>\n",
       "      <th>1448</th>\n",
       "      <td>18</td>\n",
       "      <td>The Fifth Element</td>\n",
       "      <td>There is no future without it.</td>\n",
       "      <td>1997-05-07</td>\n",
       "      <td>[Adventure, Fantasy, Action, Thriller, Science...</td>\n",
       "      <td>NaN</td>\n",
       "      <td>en</td>\n",
       "      <td>90.0</td>\n",
       "      <td>263.92018</td>\n",
       "      <td>[Columbia Pictures, Gaumont]</td>\n",
       "      <td>France</td>\n",
       "      <td>3962.0</td>\n",
       "      <td>7.3</td>\n",
       "      <td>24.305260</td>\n",
       "      <td>126.0</td>\n",
       "      <td>In 2257, a taxi driver is unintentionally give...</td>\n",
       "      <td>English|svenska|Deutsch</td>\n",
       "      <td>&lt;img src='http://image.tmdb.org/t/p/w185//fPtl...</td>\n",
       "      <td>[Bruce Willis, Gary Oldman, Ian Holm, Milla Jo...</td>\n",
       "      <td>114</td>\n",
       "      <td>134</td>\n",
       "      <td>Luc Besson</td>\n",
       "    </tr>\n",
       "    <tr>\n",
       "      <th>19218</th>\n",
       "      <td>59967</td>\n",
       "      <td>Looper</td>\n",
       "      <td>Hunted By Your Future, Haunted By Your Past</td>\n",
       "      <td>2012-09-26</td>\n",
       "      <td>[Action, Thriller, Science Fiction]</td>\n",
       "      <td>NaN</td>\n",
       "      <td>en</td>\n",
       "      <td>30.0</td>\n",
       "      <td>47.04200</td>\n",
       "      <td>[Endgame Entertainment, FilmDistrict, DMG Ente...</td>\n",
       "      <td>China|United States of America</td>\n",
       "      <td>4777.0</td>\n",
       "      <td>6.6</td>\n",
       "      <td>12.727269</td>\n",
       "      <td>118.0</td>\n",
       "      <td>In the futuristic action thriller Looper, time...</td>\n",
       "      <td>English</td>\n",
       "      <td>&lt;img src='http://image.tmdb.org/t/p/w185//sNjL...</td>\n",
       "      <td>[Joseph Gordon-Levitt, Bruce Willis, Emily Blu...</td>\n",
       "      <td>34</td>\n",
       "      <td>42</td>\n",
       "      <td>Rian Johnson</td>\n",
       "    </tr>\n",
       "  </tbody>\n",
       "</table>\n",
       "</div>"
      ],
      "text/plain": [
       "          id              title  ... crew_size      director\n",
       "1448      18  The Fifth Element  ...       134    Luc Besson\n",
       "19218  59967             Looper  ...        42  Rian Johnson\n",
       "\n",
       "[2 rows x 22 columns]"
      ]
     },
     "execution_count": 237,
     "metadata": {
      "tags": []
     },
     "output_type": "execute_result"
    }
   ],
   "source": [
    "filter1 = lambda x: True if (('Science Fiction' in x) & ('Action' in x))  else False\n",
    "cond1 = data2.genres.apply(filter)\n",
    "\n",
    "filter2 = lambda x: True if 'Bruce Willis' in x else False\n",
    "cond2 = data2.cast.apply(filter2)\n",
    "\n",
    "data2[cond1 & cond2].sort_values('vote_average',ascending=False).head(2)"
   ]
  },
  {
   "cell_type": "markdown",
   "metadata": {
    "id": "gQxI5aS_5SZW"
   },
   "source": [
    "__Search 2: Movies with Uma Thurman and directed by Quentin Tarantino (sorted from short to long runtime)__"
   ]
  },
  {
   "cell_type": "code",
   "execution_count": 29,
   "metadata": {
    "colab": {
     "base_uri": "https://localhost:8080/",
     "height": 369
    },
    "id": "QYhmFs7NtxNV",
    "outputId": "0eed5d85-63ef-4c66-e56d-e20cf58c64df"
   },
   "outputs": [
    {
     "name": "stderr",
     "output_type": "stream",
     "text": [
      "<ipython-input-29-a451455c7817>:5: UserWarning: Boolean Series key will be reindexed to match DataFrame index.\n",
      "  data2[cond1 & cond2].sort_values('vote_average',ascending=False).head(2)\n"
     ]
    },
    {
     "data": {
      "text/html": [
       "<div>\n",
       "<style scoped>\n",
       "    .dataframe tbody tr th:only-of-type {\n",
       "        vertical-align: middle;\n",
       "    }\n",
       "\n",
       "    .dataframe tbody tr th {\n",
       "        vertical-align: top;\n",
       "    }\n",
       "\n",
       "    .dataframe thead th {\n",
       "        text-align: right;\n",
       "    }\n",
       "</style>\n",
       "<table border=\"1\" class=\"dataframe\">\n",
       "  <thead>\n",
       "    <tr style=\"text-align: right;\">\n",
       "      <th></th>\n",
       "      <th>id</th>\n",
       "      <th>title</th>\n",
       "      <th>tagline</th>\n",
       "      <th>release_date</th>\n",
       "      <th>genres</th>\n",
       "      <th>belongs_to_collection</th>\n",
       "      <th>original_language</th>\n",
       "      <th>budget_musd</th>\n",
       "      <th>revenue_musd</th>\n",
       "      <th>production_companies</th>\n",
       "      <th>...</th>\n",
       "      <th>vote_average</th>\n",
       "      <th>popularity</th>\n",
       "      <th>runtime</th>\n",
       "      <th>overview</th>\n",
       "      <th>spoken_languages</th>\n",
       "      <th>poster_path</th>\n",
       "      <th>cast</th>\n",
       "      <th>cast_size</th>\n",
       "      <th>crew_size</th>\n",
       "      <th>director</th>\n",
       "    </tr>\n",
       "  </thead>\n",
       "  <tbody>\n",
       "    <tr>\n",
       "      <th>291</th>\n",
       "      <td>680</td>\n",
       "      <td>Pulp Fiction</td>\n",
       "      <td>Just because you are a character doesn't mean ...</td>\n",
       "      <td>1994-09-10</td>\n",
       "      <td>[Thriller, Crime]</td>\n",
       "      <td>NaN</td>\n",
       "      <td>en</td>\n",
       "      <td>8.0</td>\n",
       "      <td>213.928762</td>\n",
       "      <td>[Miramax Films, A Band Apart, Jersey Films]</td>\n",
       "      <td>...</td>\n",
       "      <td>8.3</td>\n",
       "      <td>140.950236</td>\n",
       "      <td>154.0</td>\n",
       "      <td>A burger-loving hit man, his philosophical par...</td>\n",
       "      <td>English|Español|Français</td>\n",
       "      <td>&lt;img src='http://image.tmdb.org/t/p/w185//d5iI...</td>\n",
       "      <td>[John Travolta, Samuel L. Jackson, Uma Thurman...</td>\n",
       "      <td>54</td>\n",
       "      <td>87</td>\n",
       "      <td>Quentin Tarantino</td>\n",
       "    </tr>\n",
       "    <tr>\n",
       "      <th>6667</th>\n",
       "      <td>24</td>\n",
       "      <td>Kill Bill: Vol. 1</td>\n",
       "      <td>Go for the kill.</td>\n",
       "      <td>2003-10-10</td>\n",
       "      <td>[Action, Crime]</td>\n",
       "      <td>Kill Bill Collection</td>\n",
       "      <td>en</td>\n",
       "      <td>30.0</td>\n",
       "      <td>180.949000</td>\n",
       "      <td>[Miramax Films, A Band Apart, Super Cool ManChu]</td>\n",
       "      <td>...</td>\n",
       "      <td>7.7</td>\n",
       "      <td>25.261865</td>\n",
       "      <td>111.0</td>\n",
       "      <td>An assassin is shot at the altar by her ruthle...</td>\n",
       "      <td>English|日本語|Français</td>\n",
       "      <td>&lt;img src='http://image.tmdb.org/t/p/w185//v7Ta...</td>\n",
       "      <td>[Uma Thurman, Lucy Liu, Vivica A. Fox, Daryl H...</td>\n",
       "      <td>36</td>\n",
       "      <td>161</td>\n",
       "      <td>Quentin Tarantino</td>\n",
       "    </tr>\n",
       "  </tbody>\n",
       "</table>\n",
       "<p>2 rows × 22 columns</p>\n",
       "</div>"
      ],
      "text/plain": [
       "       id              title  \\\n",
       "291   680       Pulp Fiction   \n",
       "6667   24  Kill Bill: Vol. 1   \n",
       "\n",
       "                                                tagline release_date  \\\n",
       "291   Just because you are a character doesn't mean ...   1994-09-10   \n",
       "6667                                   Go for the kill.   2003-10-10   \n",
       "\n",
       "                 genres belongs_to_collection original_language  budget_musd  \\\n",
       "291   [Thriller, Crime]                   NaN                en          8.0   \n",
       "6667    [Action, Crime]  Kill Bill Collection                en         30.0   \n",
       "\n",
       "      revenue_musd                              production_companies  ...  \\\n",
       "291     213.928762       [Miramax Films, A Band Apart, Jersey Films]  ...   \n",
       "6667    180.949000  [Miramax Films, A Band Apart, Super Cool ManChu]  ...   \n",
       "\n",
       "     vote_average  popularity  runtime  \\\n",
       "291           8.3  140.950236    154.0   \n",
       "6667          7.7   25.261865    111.0   \n",
       "\n",
       "                                               overview  \\\n",
       "291   A burger-loving hit man, his philosophical par...   \n",
       "6667  An assassin is shot at the altar by her ruthle...   \n",
       "\n",
       "              spoken_languages  \\\n",
       "291   English|Español|Français   \n",
       "6667      English|日本語|Français   \n",
       "\n",
       "                                            poster_path  \\\n",
       "291   <img src='http://image.tmdb.org/t/p/w185//d5iI...   \n",
       "6667  <img src='http://image.tmdb.org/t/p/w185//v7Ta...   \n",
       "\n",
       "                                                   cast cast_size crew_size  \\\n",
       "291   [John Travolta, Samuel L. Jackson, Uma Thurman...        54        87   \n",
       "6667  [Uma Thurman, Lucy Liu, Vivica A. Fox, Daryl H...        36       161   \n",
       "\n",
       "               director  \n",
       "291   Quentin Tarantino  \n",
       "6667  Quentin Tarantino  \n",
       "\n",
       "[2 rows x 22 columns]"
      ]
     },
     "execution_count": 29,
     "metadata": {},
     "output_type": "execute_result"
    }
   ],
   "source": [
    "cond1 = data['director'] == 'Quentin Tarantino'\n",
    "\n",
    "cond2 = data['cast'].str.contains('Uma Thurman')\n",
    "\n",
    "data2[cond1 & cond2].sort_values('vote_average',ascending=False).head(2)"
   ]
  },
  {
   "cell_type": "markdown",
   "metadata": {
    "id": "tkWoQNac5SZW"
   },
   "source": [
    "__Search 3: Most Successful Pixar Studio Movies between 2010 and 2015 (sorted from high to low Revenue)__"
   ]
  },
  {
   "cell_type": "code",
   "execution_count": null,
   "metadata": {
    "colab": {
     "base_uri": "https://localhost:8080/",
     "height": 550
    },
    "id": "E2Ip7MRQuKs-",
    "outputId": "90a3bdc5-8870-4c12-d0c5-8da5533a26b3"
   },
   "outputs": [
    {
     "data": {
      "text/html": [
       "<div>\n",
       "<style scoped>\n",
       "    .dataframe tbody tr th:only-of-type {\n",
       "        vertical-align: middle;\n",
       "    }\n",
       "\n",
       "    .dataframe tbody tr th {\n",
       "        vertical-align: top;\n",
       "    }\n",
       "\n",
       "    .dataframe thead th {\n",
       "        text-align: right;\n",
       "    }\n",
       "</style>\n",
       "<table border=\"1\" class=\"dataframe\">\n",
       "  <thead>\n",
       "    <tr style=\"text-align: right;\">\n",
       "      <th></th>\n",
       "      <th>id</th>\n",
       "      <th>title</th>\n",
       "      <th>tagline</th>\n",
       "      <th>release_date</th>\n",
       "      <th>genres</th>\n",
       "      <th>belongs_to_collection</th>\n",
       "      <th>original_language</th>\n",
       "      <th>budget_musd</th>\n",
       "      <th>revenue_musd</th>\n",
       "      <th>production_companies</th>\n",
       "      <th>production_countries</th>\n",
       "      <th>vote_count</th>\n",
       "      <th>vote_average</th>\n",
       "      <th>popularity</th>\n",
       "      <th>runtime</th>\n",
       "      <th>overview</th>\n",
       "      <th>spoken_languages</th>\n",
       "      <th>poster_path</th>\n",
       "      <th>cast</th>\n",
       "      <th>cast_size</th>\n",
       "      <th>crew_size</th>\n",
       "      <th>director</th>\n",
       "    </tr>\n",
       "  </thead>\n",
       "  <tbody>\n",
       "    <tr>\n",
       "      <th>15236</th>\n",
       "      <td>10193</td>\n",
       "      <td>Toy Story 3</td>\n",
       "      <td>No toy gets left behind.</td>\n",
       "      <td>2010-06-16</td>\n",
       "      <td>[Animation, Family, Comedy]</td>\n",
       "      <td>Toy Story Collection</td>\n",
       "      <td>en</td>\n",
       "      <td>200.0</td>\n",
       "      <td>1066.969703</td>\n",
       "      <td>[Walt Disney Pictures, Pixar Animation Studios]</td>\n",
       "      <td>United States of America</td>\n",
       "      <td>4710.0</td>\n",
       "      <td>7.6</td>\n",
       "      <td>16.966470</td>\n",
       "      <td>103.0</td>\n",
       "      <td>Woody, Buzz, and the rest of Andy's toys haven...</td>\n",
       "      <td>English|Español</td>\n",
       "      <td>&lt;img src='http://image.tmdb.org/t/p/w185//amY0...</td>\n",
       "      <td>[Tom Hanks, Tim Allen, Ned Beatty, Joan Cusack...</td>\n",
       "      <td>45</td>\n",
       "      <td>38</td>\n",
       "      <td>Lee Unkrich</td>\n",
       "    </tr>\n",
       "    <tr>\n",
       "      <th>17220</th>\n",
       "      <td>49013</td>\n",
       "      <td>Cars 2</td>\n",
       "      <td>Ka-ciao!</td>\n",
       "      <td>2011-06-11</td>\n",
       "      <td>[Animation, Family, Adventure, Comedy]</td>\n",
       "      <td>Cars Collection</td>\n",
       "      <td>en</td>\n",
       "      <td>200.0</td>\n",
       "      <td>559.852396</td>\n",
       "      <td>[Walt Disney Pictures, Pixar Animation Studios]</td>\n",
       "      <td>United States of America</td>\n",
       "      <td>2088.0</td>\n",
       "      <td>5.8</td>\n",
       "      <td>13.693002</td>\n",
       "      <td>106.0</td>\n",
       "      <td>Star race car Lightning McQueen and his pal Ma...</td>\n",
       "      <td>English|日本語|Italiano|Français</td>\n",
       "      <td>&lt;img src='http://image.tmdb.org/t/p/w185//okIz...</td>\n",
       "      <td>[Owen Wilson, Larry the Cable Guy, Michael Cai...</td>\n",
       "      <td>47</td>\n",
       "      <td>40</td>\n",
       "      <td>John Lasseter</td>\n",
       "    </tr>\n",
       "    <tr>\n",
       "      <th>18900</th>\n",
       "      <td>62177</td>\n",
       "      <td>Brave</td>\n",
       "      <td>Change your fate.</td>\n",
       "      <td>2012-06-21</td>\n",
       "      <td>[Animation, Adventure, Comedy, Family, Action,...</td>\n",
       "      <td>NaN</td>\n",
       "      <td>en</td>\n",
       "      <td>185.0</td>\n",
       "      <td>538.983207</td>\n",
       "      <td>[Walt Disney Pictures, Pixar Animation Studios]</td>\n",
       "      <td>United States of America</td>\n",
       "      <td>4760.0</td>\n",
       "      <td>6.7</td>\n",
       "      <td>15.876341</td>\n",
       "      <td>93.0</td>\n",
       "      <td>Brave is set in the mystical Scottish Highland...</td>\n",
       "      <td>English</td>\n",
       "      <td>&lt;img src='http://image.tmdb.org/t/p/w185//8l0p...</td>\n",
       "      <td>[Kelly Macdonald, Billy Connolly, Emma Thompso...</td>\n",
       "      <td>15</td>\n",
       "      <td>44</td>\n",
       "      <td>Brenda Chapman</td>\n",
       "    </tr>\n",
       "    <tr>\n",
       "      <th>20888</th>\n",
       "      <td>62211</td>\n",
       "      <td>Monsters University</td>\n",
       "      <td>School never looked this scary.</td>\n",
       "      <td>2013-06-20</td>\n",
       "      <td>[Animation, Family]</td>\n",
       "      <td>Monsters, Inc. Collection</td>\n",
       "      <td>en</td>\n",
       "      <td>200.0</td>\n",
       "      <td>743.559607</td>\n",
       "      <td>[Walt Disney Pictures, Pixar Animation Studios]</td>\n",
       "      <td>United States of America</td>\n",
       "      <td>3622.0</td>\n",
       "      <td>7.0</td>\n",
       "      <td>16.267502</td>\n",
       "      <td>104.0</td>\n",
       "      <td>A look at the relationship between Mike and Su...</td>\n",
       "      <td>English</td>\n",
       "      <td>&lt;img src='http://image.tmdb.org/t/p/w185//tyHH...</td>\n",
       "      <td>[Billy Crystal, John Goodman, Steve Buscemi, H...</td>\n",
       "      <td>24</td>\n",
       "      <td>13</td>\n",
       "      <td>Dan Scanlon</td>\n",
       "    </tr>\n",
       "  </tbody>\n",
       "</table>\n",
       "</div>"
      ],
      "text/plain": [
       "          id                title  ... crew_size        director\n",
       "15236  10193          Toy Story 3  ...        38     Lee Unkrich\n",
       "17220  49013               Cars 2  ...        40   John Lasseter\n",
       "18900  62177                Brave  ...        44  Brenda Chapman\n",
       "20888  62211  Monsters University  ...        13     Dan Scanlon\n",
       "\n",
       "[4 rows x 22 columns]"
      ]
     },
     "execution_count": 271,
     "metadata": {
      "tags": []
     },
     "output_type": "execute_result"
    }
   ],
   "source": [
    "cond1 = data.production_companies.str.contains('Pixar').fillna(False)\n",
    "cond2 = data.release_date.between('2010-01-01','2015-01-01')\n",
    "\n",
    "data2.loc[cond1 & cond2]"
   ]
  },
  {
   "cell_type": "markdown",
   "metadata": {
    "id": "icmFthrt5SZX"
   },
   "source": [
    "__Search 4: Action or Thriller Movie with original language English and minimum Rating of 7.5 (most recent movies first)__"
   ]
  },
  {
   "cell_type": "code",
   "execution_count": null,
   "metadata": {
    "colab": {
     "base_uri": "https://localhost:8080/",
     "height": 284
    },
    "id": "_1itfSOK5SZX",
    "outputId": "0597a7e3-4482-46da-9444-10321cc9b4e9"
   },
   "outputs": [
    {
     "data": {
      "text/html": [
       "<div>\n",
       "<style scoped>\n",
       "    .dataframe tbody tr th:only-of-type {\n",
       "        vertical-align: middle;\n",
       "    }\n",
       "\n",
       "    .dataframe tbody tr th {\n",
       "        vertical-align: top;\n",
       "    }\n",
       "\n",
       "    .dataframe thead th {\n",
       "        text-align: right;\n",
       "    }\n",
       "</style>\n",
       "<table border=\"1\" class=\"dataframe\">\n",
       "  <thead>\n",
       "    <tr style=\"text-align: right;\">\n",
       "      <th></th>\n",
       "      <th>id</th>\n",
       "      <th>title</th>\n",
       "      <th>tagline</th>\n",
       "      <th>release_date</th>\n",
       "      <th>genres</th>\n",
       "      <th>belongs_to_collection</th>\n",
       "      <th>original_language</th>\n",
       "      <th>budget_musd</th>\n",
       "      <th>revenue_musd</th>\n",
       "      <th>production_companies</th>\n",
       "      <th>production_countries</th>\n",
       "      <th>vote_count</th>\n",
       "      <th>vote_average</th>\n",
       "      <th>popularity</th>\n",
       "      <th>runtime</th>\n",
       "      <th>overview</th>\n",
       "      <th>spoken_languages</th>\n",
       "      <th>poster_path</th>\n",
       "      <th>cast</th>\n",
       "      <th>cast_size</th>\n",
       "      <th>crew_size</th>\n",
       "      <th>director</th>\n",
       "    </tr>\n",
       "  </thead>\n",
       "  <tbody>\n",
       "    <tr>\n",
       "      <th>5</th>\n",
       "      <td>949</td>\n",
       "      <td>Heat</td>\n",
       "      <td>A Los Angeles Crime Saga</td>\n",
       "      <td>1995-12-15</td>\n",
       "      <td>Action|Crime|Drama|Thriller</td>\n",
       "      <td>NaN</td>\n",
       "      <td>en</td>\n",
       "      <td>60.0</td>\n",
       "      <td>187.436818</td>\n",
       "      <td>Regency Enterprises|Forward Pass|Warner Bros.</td>\n",
       "      <td>United States of America</td>\n",
       "      <td>1886.0</td>\n",
       "      <td>7.7</td>\n",
       "      <td>17.924927</td>\n",
       "      <td>170.0</td>\n",
       "      <td>Obsessive master thief, Neil McCauley leads a ...</td>\n",
       "      <td>English|Español</td>\n",
       "      <td>&lt;img src='http://image.tmdb.org/t/p/w185//lbf2...</td>\n",
       "      <td>Al Pacino|Robert De Niro|Val Kilmer|Jon Voight...</td>\n",
       "      <td>65</td>\n",
       "      <td>71</td>\n",
       "      <td>Michael Mann</td>\n",
       "    </tr>\n",
       "    <tr>\n",
       "      <th>46</th>\n",
       "      <td>807</td>\n",
       "      <td>Se7en</td>\n",
       "      <td>Seven deadly sins. Seven ways to die.</td>\n",
       "      <td>1995-09-22</td>\n",
       "      <td>Crime|Mystery|Thriller</td>\n",
       "      <td>NaN</td>\n",
       "      <td>en</td>\n",
       "      <td>33.0</td>\n",
       "      <td>327.311859</td>\n",
       "      <td>New Line Cinema|Juno Pix|Cecchi Gori Pictures</td>\n",
       "      <td>United States of America</td>\n",
       "      <td>5915.0</td>\n",
       "      <td>8.1</td>\n",
       "      <td>18.457430</td>\n",
       "      <td>127.0</td>\n",
       "      <td>Two homicide detectives are on a desperate hun...</td>\n",
       "      <td>English</td>\n",
       "      <td>&lt;img src='http://image.tmdb.org/t/p/w185//GQP6...</td>\n",
       "      <td>Brad Pitt|Morgan Freeman|Gwyneth Paltrow|John ...</td>\n",
       "      <td>49</td>\n",
       "      <td>91</td>\n",
       "      <td>David Fincher</td>\n",
       "    </tr>\n",
       "  </tbody>\n",
       "</table>\n",
       "</div>"
      ],
      "text/plain": [
       "     id  title  ... crew_size       director\n",
       "5   949   Heat  ...        71   Michael Mann\n",
       "46  807  Se7en  ...        91  David Fincher\n",
       "\n",
       "[2 rows x 22 columns]"
      ]
     },
     "execution_count": 276,
     "metadata": {
      "tags": []
     },
     "output_type": "execute_result"
    }
   ],
   "source": [
    "cond1 = data.genres.str.contains('Action') | data.genres.str.contains('Thriller')\n",
    "cond2 = data.original_language == 'en'\n",
    "\n",
    "data2.loc[cond1 & cond2].loc[data2.vote_average > 7.5].head(2)"
   ]
  },
  {
   "cell_type": "markdown",
   "metadata": {
    "id": "c_fal1Ko5SZX"
   },
   "source": [
    "## Are Franchises more successful?"
   ]
  },
  {
   "cell_type": "code",
   "execution_count": 30,
   "metadata": {
    "id": "fzlPR_4Ozc_2"
   },
   "outputs": [],
   "source": [
    "new_data = data.copy()\n",
    "\n",
    "# Add Franchise and ROI columns \n",
    "new_data['franchise'] = new_data['belongs_to_collection'].isna().apply(lambda x: 'Franchise' if x == False else 'Not')\n",
    "new_data['ROI'] = new_data.budget_musd.div(new_data.revenue_musd)"
   ]
  },
  {
   "cell_type": "markdown",
   "metadata": {
    "id": "Rw1xzcdS5SZZ"
   },
   "source": [
    "__Franchise vs. Stand-alone: Average Revenue__"
   ]
  },
  {
   "cell_type": "code",
   "execution_count": null,
   "metadata": {
    "colab": {
     "base_uri": "https://localhost:8080/"
    },
    "id": "UOvTcA8U5SZZ",
    "outputId": "eb050295-98a0-4360-9bb9-4bbf572380ea"
   },
   "outputs": [
    {
     "data": {
      "text/plain": [
       "franchise\n",
       "Franchise    195.700276\n",
       "Not           59.457777\n",
       "Name: revenue_musd, dtype: float64"
      ]
     },
     "execution_count": 303,
     "metadata": {
      "tags": []
     },
     "output_type": "execute_result"
    }
   ],
   "source": [
    "new_data.groupby(['franchise'])['revenue_musd'].mean()"
   ]
  },
  {
   "cell_type": "markdown",
   "metadata": {
    "id": "dHnTLXwtAUIf"
   },
   "source": [
    "__Franchise vs. Stand-alone: Multiple Metrics__"
   ]
  },
  {
   "cell_type": "code",
   "execution_count": null,
   "metadata": {
    "colab": {
     "base_uri": "https://localhost:8080/",
     "height": 142
    },
    "id": "o0ulut7u_aPY",
    "outputId": "15b2d869-f807-4f0f-d3b6-0a80fd8d4f18"
   },
   "outputs": [
    {
     "data": {
      "text/html": [
       "<div>\n",
       "<style scoped>\n",
       "    .dataframe tbody tr th:only-of-type {\n",
       "        vertical-align: middle;\n",
       "    }\n",
       "\n",
       "    .dataframe tbody tr th {\n",
       "        vertical-align: top;\n",
       "    }\n",
       "\n",
       "    .dataframe thead th {\n",
       "        text-align: right;\n",
       "    }\n",
       "</style>\n",
       "<table border=\"1\" class=\"dataframe\">\n",
       "  <thead>\n",
       "    <tr style=\"text-align: right;\">\n",
       "      <th></th>\n",
       "      <th>ROI</th>\n",
       "      <th>budget_musd</th>\n",
       "      <th>popularity</th>\n",
       "      <th>vote_average</th>\n",
       "    </tr>\n",
       "    <tr>\n",
       "      <th>franchise</th>\n",
       "      <th></th>\n",
       "      <th></th>\n",
       "      <th></th>\n",
       "      <th></th>\n",
       "    </tr>\n",
       "  </thead>\n",
       "  <tbody>\n",
       "    <tr>\n",
       "      <th>Franchise</th>\n",
       "      <td>0.269600</td>\n",
       "      <td>46.821294</td>\n",
       "      <td>13.759869</td>\n",
       "      <td>6.201555</td>\n",
       "    </tr>\n",
       "    <tr>\n",
       "      <th>Not</th>\n",
       "      <td>0.617399</td>\n",
       "      <td>26.507128</td>\n",
       "      <td>8.614566</td>\n",
       "      <td>6.305118</td>\n",
       "    </tr>\n",
       "  </tbody>\n",
       "</table>\n",
       "</div>"
      ],
      "text/plain": [
       "                ROI  budget_musd  popularity  vote_average\n",
       "franchise                                                 \n",
       "Franchise  0.269600    46.821294   13.759869      6.201555\n",
       "Not        0.617399    26.507128    8.614566      6.305118"
      ]
     },
     "execution_count": 308,
     "metadata": {
      "tags": []
     },
     "output_type": "execute_result"
    }
   ],
   "source": [
    "agg_dict = {'ROI':pd.Series.median, \n",
    "       'budget_musd':pd.Series.mean,\n",
    "       'popularity': pd.Series.mean,\n",
    "       'vote_average':pd.Series.mean\n",
    "       }\n",
    "\n",
    "new_data.groupby('franchise').agg(agg_dict)"
   ]
  },
  {
   "cell_type": "markdown",
   "metadata": {
    "id": "BDmMAqMF5SZc"
   },
   "source": [
    "## Most Successful Franchises"
   ]
  },
  {
   "cell_type": "code",
   "execution_count": 33,
   "metadata": {
    "id": "FM7OEaFBFDwV"
   },
   "outputs": [],
   "source": [
    "franchises = new_data.groupby(\"belongs_to_collection\").agg({\"title\":\"count\", \"budget_musd\": [\"sum\", \"mean\"], \n",
    "                                                      \"revenue_musd\": [\"sum\", \"mean\"],\n",
    "                                                      \"vote_average\": \"mean\", \"popularity\": \"mean\",\n",
    "                                                      \"ROI\":\"median\", \n",
    "                                                      \"vote_count\":\"mean\"})\n",
    "\n",
    "franchises.index.name = \"Franchise\""
   ]
  },
  {
   "cell_type": "code",
   "execution_count": 34,
   "metadata": {
    "colab": {
     "base_uri": "https://localhost:8080/",
     "height": 204
    },
    "id": "IOL3lrVQFPHc",
    "outputId": "15023ad5-ed58-4b8b-8d21-7d0744693069"
   },
   "outputs": [
    {
     "data": {
      "text/html": [
       "<div>\n",
       "<style scoped>\n",
       "    .dataframe tbody tr th:only-of-type {\n",
       "        vertical-align: middle;\n",
       "    }\n",
       "\n",
       "    .dataframe tbody tr th {\n",
       "        vertical-align: top;\n",
       "    }\n",
       "\n",
       "    .dataframe thead tr th {\n",
       "        text-align: left;\n",
       "    }\n",
       "\n",
       "    .dataframe thead tr:last-of-type th {\n",
       "        text-align: right;\n",
       "    }\n",
       "</style>\n",
       "<table border=\"1\" class=\"dataframe\">\n",
       "  <thead>\n",
       "    <tr>\n",
       "      <th></th>\n",
       "      <th>title</th>\n",
       "      <th colspan=\"2\" halign=\"left\">budget_musd</th>\n",
       "      <th colspan=\"2\" halign=\"left\">revenue_musd</th>\n",
       "      <th>vote_average</th>\n",
       "      <th>popularity</th>\n",
       "      <th>ROI</th>\n",
       "      <th>vote_count</th>\n",
       "    </tr>\n",
       "    <tr>\n",
       "      <th></th>\n",
       "      <th>count</th>\n",
       "      <th>sum</th>\n",
       "      <th>mean</th>\n",
       "      <th>sum</th>\n",
       "      <th>mean</th>\n",
       "      <th>mean</th>\n",
       "      <th>mean</th>\n",
       "      <th>median</th>\n",
       "      <th>mean</th>\n",
       "    </tr>\n",
       "    <tr>\n",
       "      <th>Franchise</th>\n",
       "      <th></th>\n",
       "      <th></th>\n",
       "      <th></th>\n",
       "      <th></th>\n",
       "      <th></th>\n",
       "      <th></th>\n",
       "      <th></th>\n",
       "      <th></th>\n",
       "      <th></th>\n",
       "    </tr>\n",
       "  </thead>\n",
       "  <tbody>\n",
       "    <tr>\n",
       "      <th>Tangled Collection</th>\n",
       "      <td>1</td>\n",
       "      <td>260.0</td>\n",
       "      <td>260.0</td>\n",
       "      <td>591.794936</td>\n",
       "      <td>591.794936</td>\n",
       "      <td>7.40</td>\n",
       "      <td>14.684761</td>\n",
       "      <td>0.439341</td>\n",
       "      <td>3419.0</td>\n",
       "    </tr>\n",
       "    <tr>\n",
       "      <th>Pirates of the Caribbean Collection</th>\n",
       "      <td>5</td>\n",
       "      <td>1250.0</td>\n",
       "      <td>250.0</td>\n",
       "      <td>4521.576826</td>\n",
       "      <td>904.315365</td>\n",
       "      <td>6.88</td>\n",
       "      <td>53.972237</td>\n",
       "      <td>0.289603</td>\n",
       "      <td>5016.0</td>\n",
       "    </tr>\n",
       "    <tr>\n",
       "      <th>The Avengers Collection</th>\n",
       "      <td>2</td>\n",
       "      <td>500.0</td>\n",
       "      <td>250.0</td>\n",
       "      <td>2924.961604</td>\n",
       "      <td>1462.480802</td>\n",
       "      <td>7.35</td>\n",
       "      <td>63.633534</td>\n",
       "      <td>0.172005</td>\n",
       "      <td>9454.0</td>\n",
       "    </tr>\n",
       "  </tbody>\n",
       "</table>\n",
       "</div>"
      ],
      "text/plain": [
       "                                    title budget_musd        revenue_musd  \\\n",
       "                                    count         sum   mean          sum   \n",
       "Franchise                                                                   \n",
       "Tangled Collection                      1       260.0  260.0   591.794936   \n",
       "Pirates of the Caribbean Collection     5      1250.0  250.0  4521.576826   \n",
       "The Avengers Collection                 2       500.0  250.0  2924.961604   \n",
       "\n",
       "                                                 vote_average popularity  \\\n",
       "                                            mean         mean       mean   \n",
       "Franchise                                                                  \n",
       "Tangled Collection                    591.794936         7.40  14.684761   \n",
       "Pirates of the Caribbean Collection   904.315365         6.88  53.972237   \n",
       "The Avengers Collection              1462.480802         7.35  63.633534   \n",
       "\n",
       "                                          ROI vote_count  \n",
       "                                       median       mean  \n",
       "Franchise                                                 \n",
       "Tangled Collection                   0.439341     3419.0  \n",
       "Pirates of the Caribbean Collection  0.289603     5016.0  \n",
       "The Avengers Collection              0.172005     9454.0  "
      ]
     },
     "execution_count": 34,
     "metadata": {},
     "output_type": "execute_result"
    }
   ],
   "source": [
    "# Largest average budget for a franchise \n",
    "\n",
    "franchises.nlargest(3, ('budget_musd','mean'))"
   ]
  },
  {
   "cell_type": "code",
   "execution_count": null,
   "metadata": {
    "colab": {
     "base_uri": "https://localhost:8080/",
     "height": 142
    },
    "id": "NuVAzl-BFwj5",
    "outputId": "ab04c0b6-7a48-4622-e37a-f1679c1f3f6f"
   },
   "outputs": [
    {
     "data": {
      "text/html": [
       "<div>\n",
       "<style scoped>\n",
       "    .dataframe tbody tr th:only-of-type {\n",
       "        vertical-align: middle;\n",
       "    }\n",
       "\n",
       "    .dataframe tbody tr th {\n",
       "        vertical-align: top;\n",
       "    }\n",
       "\n",
       "    .dataframe thead tr th {\n",
       "        text-align: left;\n",
       "    }\n",
       "\n",
       "    .dataframe thead tr:last-of-type th {\n",
       "        text-align: right;\n",
       "    }\n",
       "</style>\n",
       "<table border=\"1\" class=\"dataframe\">\n",
       "  <thead>\n",
       "    <tr>\n",
       "      <th></th>\n",
       "      <th>title</th>\n",
       "      <th colspan=\"2\" halign=\"left\">budget_musd</th>\n",
       "      <th colspan=\"2\" halign=\"left\">revenue_musd</th>\n",
       "      <th>vote_average</th>\n",
       "      <th>popularity</th>\n",
       "      <th>ROI</th>\n",
       "      <th>vote_count</th>\n",
       "    </tr>\n",
       "    <tr>\n",
       "      <th></th>\n",
       "      <th>count</th>\n",
       "      <th>sum</th>\n",
       "      <th>mean</th>\n",
       "      <th>sum</th>\n",
       "      <th>mean</th>\n",
       "      <th>mean</th>\n",
       "      <th>mean</th>\n",
       "      <th>median</th>\n",
       "      <th>mean</th>\n",
       "    </tr>\n",
       "    <tr>\n",
       "      <th>belongs_to_collection</th>\n",
       "      <th></th>\n",
       "      <th></th>\n",
       "      <th></th>\n",
       "      <th></th>\n",
       "      <th></th>\n",
       "      <th></th>\n",
       "      <th></th>\n",
       "      <th></th>\n",
       "      <th></th>\n",
       "    </tr>\n",
       "  </thead>\n",
       "  <tbody>\n",
       "    <tr>\n",
       "      <th>Tangled Collection</th>\n",
       "      <td>1</td>\n",
       "      <td>260.0</td>\n",
       "      <td>260.0</td>\n",
       "      <td>591.794936</td>\n",
       "      <td>591.794936</td>\n",
       "      <td>7.4</td>\n",
       "      <td>14.684761</td>\n",
       "      <td>0.439341</td>\n",
       "      <td>3419.0</td>\n",
       "    </tr>\n",
       "  </tbody>\n",
       "</table>\n",
       "</div>"
      ],
      "text/plain": [
       "                      title budget_musd         ... popularity       ROI vote_count\n",
       "                      count         sum   mean  ...       mean    median       mean\n",
       "belongs_to_collection                           ...                                \n",
       "Tangled Collection        1       260.0  260.0  ...  14.684761  0.439341     3419.0\n",
       "\n",
       "[1 rows x 9 columns]"
      ]
     },
     "execution_count": 343,
     "metadata": {
      "tags": []
     },
     "output_type": "execute_result"
    }
   ],
   "source": [
    "franchises[franchises[('budget_musd','mean')] > 250]"
   ]
  },
  {
   "cell_type": "markdown",
   "metadata": {
    "id": "lHQ2b-9y5SZe"
   },
   "source": [
    "## Most Successful Directors"
   ]
  },
  {
   "cell_type": "code",
   "execution_count": 36,
   "metadata": {
    "id": "VBxkoAMb5SZg"
   },
   "outputs": [],
   "source": [
    "director_facts = new_data.groupby('director').agg({'title':'count','revenue_musd':'sum','vote_average':'mean'})"
   ]
  },
  {
   "cell_type": "code",
   "execution_count": 37,
   "metadata": {
    "id": "__DwI4kOGUYt"
   },
   "outputs": [],
   "source": [
    "cols = director_facts.columns\n",
    "summary_df = pd.DataFrame()\n",
    "for stat in cols:\n",
    "  temp = director_facts.nlargest(3,stat).reset_index()\n",
    "  summary_df[stat + '_rankings'] = temp[['director', stat]].apply(tuple, axis=1)"
   ]
  },
  {
   "cell_type": "code",
   "execution_count": 38,
   "metadata": {
    "colab": {
     "base_uri": "https://localhost:8080/",
     "height": 142
    },
    "id": "9GD_ISpvHvIV",
    "outputId": "35b6a93e-6ed0-4ffb-a8d7-b1ff83cb04f2"
   },
   "outputs": [
    {
     "data": {
      "text/html": [
       "<div>\n",
       "<style scoped>\n",
       "    .dataframe tbody tr th:only-of-type {\n",
       "        vertical-align: middle;\n",
       "    }\n",
       "\n",
       "    .dataframe tbody tr th {\n",
       "        vertical-align: top;\n",
       "    }\n",
       "\n",
       "    .dataframe thead th {\n",
       "        text-align: right;\n",
       "    }\n",
       "</style>\n",
       "<table border=\"1\" class=\"dataframe\">\n",
       "  <thead>\n",
       "    <tr style=\"text-align: right;\">\n",
       "      <th></th>\n",
       "      <th>title_rankings</th>\n",
       "      <th>revenue_musd_rankings</th>\n",
       "      <th>vote_average_rankings</th>\n",
       "    </tr>\n",
       "  </thead>\n",
       "  <tbody>\n",
       "    <tr>\n",
       "      <th>0</th>\n",
       "      <td>(Steven Spielberg, 30)</td>\n",
       "      <td>(Steven Spielberg, 9256.621422)</td>\n",
       "      <td>(Aditya Chopra, 9.1)</td>\n",
       "    </tr>\n",
       "    <tr>\n",
       "      <th>1</th>\n",
       "      <td>(Clint Eastwood, 27)</td>\n",
       "      <td>(Peter Jackson, 6528.244659)</td>\n",
       "      <td>(Alain Fresnot, 9.0)</td>\n",
       "    </tr>\n",
       "    <tr>\n",
       "      <th>2</th>\n",
       "      <td>(Woody Allen, 24)</td>\n",
       "      <td>(Michael Bay, 6437.466781)</td>\n",
       "      <td>(Subodh Bhave, 9.0)</td>\n",
       "    </tr>\n",
       "  </tbody>\n",
       "</table>\n",
       "</div>"
      ],
      "text/plain": [
       "           title_rankings            revenue_musd_rankings  \\\n",
       "0  (Steven Spielberg, 30)  (Steven Spielberg, 9256.621422)   \n",
       "1    (Clint Eastwood, 27)     (Peter Jackson, 6528.244659)   \n",
       "2       (Woody Allen, 24)       (Michael Bay, 6437.466781)   \n",
       "\n",
       "  vote_average_rankings  \n",
       "0  (Aditya Chopra, 9.1)  \n",
       "1  (Alain Fresnot, 9.0)  \n",
       "2   (Subodh Bhave, 9.0)  "
      ]
     },
     "execution_count": 38,
     "metadata": {},
     "output_type": "execute_result"
    }
   ],
   "source": [
    "summary_df"
   ]
  }
 ],
 "metadata": {
  "colab": {
   "collapsed_sections": [],
   "name": "Basic Operations - Movie Data.ipynb",
   "provenance": [],
   "toc_visible": true
  },
  "kernelspec": {
   "display_name": "Python 3",
   "language": "python",
   "name": "python3"
  },
  "language_info": {
   "codemirror_mode": {
    "name": "ipython",
    "version": 3
   },
   "file_extension": ".py",
   "mimetype": "text/x-python",
   "name": "python",
   "nbconvert_exporter": "python",
   "pygments_lexer": "ipython3",
   "version": "3.8.5"
  }
 },
 "nbformat": 4,
 "nbformat_minor": 4
}
