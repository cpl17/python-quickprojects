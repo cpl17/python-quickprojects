{
 "cells": [
  {
   "cell_type": "markdown",
   "metadata": {
    "id": "afbCS6YJ5Wuc"
   },
   "source": [
    "# Imports"
   ]
  },
  {
   "cell_type": "code",
   "execution_count": 1,
   "metadata": {
    "id": "czw7S54A6IFg"
   },
   "outputs": [],
   "source": [
    "import pandas as pd\n",
    "import numpy as np\n",
    "import ast"
   ]
  },
  {
   "cell_type": "markdown",
   "metadata": {
    "id": "ci6_i9rQ5Wui"
   },
   "source": [
    "# Loading the Data"
   ]
  },
  {
   "cell_type": "code",
   "execution_count": 3,
   "metadata": {
    "colab": {
     "base_uri": "https://localhost:8080/"
    },
    "id": "BacPA87U50T2",
    "outputId": "36bee7c8-43ac-40f8-c0df-4d406871a5aa"
   },
   "outputs": [
    {
     "name": "stderr",
     "output_type": "stream",
     "text": [
      "C:\\Users\\CPL17\\anaconda3\\lib\\site-packages\\IPython\\core\\interactiveshell.py:3146: DtypeWarning: Columns (10) have mixed types.Specify dtype option on import or set low_memory=False.\n",
      "  has_raised = await self.run_ast_nodes(code_ast.body, cell_name,\n"
     ]
    }
   ],
   "source": [
    "messy_data = pd.read_csv(r\"C:\\Users\\CPL17\\OneDrive\\Documents\\Data\\movies_metadata.csv\")"
   ]
  },
  {
   "cell_type": "code",
   "execution_count": 5,
   "metadata": {
    "colab": {
     "base_uri": "https://localhost:8080/",
     "height": 163
    },
    "id": "YUXcBpU_6Gqr",
    "outputId": "fbfd0927-9f01-4552-e08c-9a856b7d385e"
   },
   "outputs": [
    {
     "data": {
      "text/html": [
       "<div>\n",
       "<style scoped>\n",
       "    .dataframe tbody tr th:only-of-type {\n",
       "        vertical-align: middle;\n",
       "    }\n",
       "\n",
       "    .dataframe tbody tr th {\n",
       "        vertical-align: top;\n",
       "    }\n",
       "\n",
       "    .dataframe thead th {\n",
       "        text-align: right;\n",
       "    }\n",
       "</style>\n",
       "<table border=\"1\" class=\"dataframe\">\n",
       "  <thead>\n",
       "    <tr style=\"text-align: right;\">\n",
       "      <th></th>\n",
       "      <th>adult</th>\n",
       "      <th>belongs_to_collection</th>\n",
       "      <th>budget</th>\n",
       "      <th>genres</th>\n",
       "      <th>homepage</th>\n",
       "      <th>id</th>\n",
       "      <th>imdb_id</th>\n",
       "      <th>original_language</th>\n",
       "      <th>original_title</th>\n",
       "      <th>overview</th>\n",
       "      <th>...</th>\n",
       "      <th>release_date</th>\n",
       "      <th>revenue</th>\n",
       "      <th>runtime</th>\n",
       "      <th>spoken_languages</th>\n",
       "      <th>status</th>\n",
       "      <th>tagline</th>\n",
       "      <th>title</th>\n",
       "      <th>video</th>\n",
       "      <th>vote_average</th>\n",
       "      <th>vote_count</th>\n",
       "    </tr>\n",
       "  </thead>\n",
       "  <tbody>\n",
       "    <tr>\n",
       "      <th>0</th>\n",
       "      <td>False</td>\n",
       "      <td>{'id': 10194, 'name': 'Toy Story Collection', ...</td>\n",
       "      <td>30000000</td>\n",
       "      <td>[{'id': 16, 'name': 'Animation'}, {'id': 35, '...</td>\n",
       "      <td>http://toystory.disney.com/toy-story</td>\n",
       "      <td>862</td>\n",
       "      <td>tt0114709</td>\n",
       "      <td>en</td>\n",
       "      <td>Toy Story</td>\n",
       "      <td>Led by Woody, Andy's toys live happily in his ...</td>\n",
       "      <td>...</td>\n",
       "      <td>1995-10-30</td>\n",
       "      <td>373554033.0</td>\n",
       "      <td>81.0</td>\n",
       "      <td>[{'iso_639_1': 'en', 'name': 'English'}]</td>\n",
       "      <td>Released</td>\n",
       "      <td>NaN</td>\n",
       "      <td>Toy Story</td>\n",
       "      <td>False</td>\n",
       "      <td>7.7</td>\n",
       "      <td>5415.0</td>\n",
       "    </tr>\n",
       "  </tbody>\n",
       "</table>\n",
       "<p>1 rows × 24 columns</p>\n",
       "</div>"
      ],
      "text/plain": [
       "   adult                              belongs_to_collection    budget  \\\n",
       "0  False  {'id': 10194, 'name': 'Toy Story Collection', ...  30000000   \n",
       "\n",
       "                                              genres  \\\n",
       "0  [{'id': 16, 'name': 'Animation'}, {'id': 35, '...   \n",
       "\n",
       "                               homepage   id    imdb_id original_language  \\\n",
       "0  http://toystory.disney.com/toy-story  862  tt0114709                en   \n",
       "\n",
       "  original_title                                           overview  ...  \\\n",
       "0      Toy Story  Led by Woody, Andy's toys live happily in his ...  ...   \n",
       "\n",
       "  release_date      revenue runtime                          spoken_languages  \\\n",
       "0   1995-10-30  373554033.0    81.0  [{'iso_639_1': 'en', 'name': 'English'}]   \n",
       "\n",
       "     status  tagline      title  video vote_average vote_count  \n",
       "0  Released      NaN  Toy Story  False          7.7     5415.0  \n",
       "\n",
       "[1 rows x 24 columns]"
      ]
     },
     "execution_count": 5,
     "metadata": {},
     "output_type": "execute_result"
    }
   ],
   "source": [
    "messy_data[:1]"
   ]
  },
  {
   "cell_type": "code",
   "execution_count": 6,
   "metadata": {
    "id": "FTj7lPJv5Wuj"
   },
   "outputs": [],
   "source": [
    "messy_data.drop(axis=1,columns=['adult', 'imdb_id', 'original_title', 'video','homepage'],inplace=True)"
   ]
  },
  {
   "cell_type": "markdown",
   "metadata": {
    "id": "p3zbgZnh6Veb"
   },
   "source": [
    "The following have nested data:\n",
    "\n",
    "* belongs_to_collection\n",
    "* genres\n",
    "* production_companies\n",
    "* production_countries\n",
    "* spoken_languages\t"
   ]
  },
  {
   "cell_type": "code",
   "execution_count": 7,
   "metadata": {
    "id": "ojAPNCxMJsTW"
   },
   "outputs": [],
   "source": [
    "json_cols = ['belongs_to_collection','genres', 'production_companies', 'production_countries', 'spoken_languages']"
   ]
  },
  {
   "cell_type": "markdown",
   "metadata": {
    "id": "FyCKDeMw5Wuj"
   },
   "source": [
    "# Transform JSON Columns"
   ]
  },
  {
   "cell_type": "markdown",
   "metadata": {},
   "source": [
    "### Convert strings to python object"
   ]
  },
  {
   "cell_type": "code",
   "execution_count": null,
   "metadata": {
    "colab": {
     "base_uri": "https://localhost:8080/",
     "height": 35
    },
    "id": "93o5LinZ7L6d",
    "outputId": "ff42659e-27d9-467a-9c5f-2c7e6056f3f6"
   },
   "outputs": [
    {
     "data": {
      "application/vnd.google.colaboratory.intrinsic+json": {
       "type": "string"
      },
      "text/plain": [
       "\"[{'id': 16, 'name': 'Animation'}, {'id': 35, 'name': 'Comedy'}, {'id': 10751, 'name': 'Family'}]\""
      ]
     },
     "execution_count": 277,
     "metadata": {
      "tags": []
     },
     "output_type": "execute_result"
    }
   ],
   "source": [
    "#Example column \n",
    "messy_data.genres[0] "
   ]
  },
  {
   "cell_type": "code",
   "execution_count": 8,
   "metadata": {
    "id": "qNaSU8mzG3On"
   },
   "outputs": [],
   "source": [
    "# Evaluate string to convert to python objects \n",
    "\n",
    "for col in  ['belongs_to_collection','genres', 'production_companies', 'production_countries', 'spoken_languages']:\n",
    "  messy_data[col] = messy_data[col].apply(lambda x: ast.literal_eval(x) if isinstance(x,str) else np.nan)"
   ]
  },
  {
   "cell_type": "code",
   "execution_count": 11,
   "metadata": {
    "colab": {
     "base_uri": "https://localhost:8080/",
     "height": 434
    },
    "id": "IikLujQmIkAT",
    "outputId": "48e56826-d5b7-4151-e5d4-467a2b2603bd"
   },
   "outputs": [
    {
     "data": {
      "text/plain": [
       "belongs_to_collection    {'id': 10194, 'name': 'Toy Story Collection', ...\n",
       "Name: 0, dtype: object"
      ]
     },
     "execution_count": 11,
     "metadata": {},
     "output_type": "execute_result"
    }
   ],
   "source": [
    "messy_data.loc[0,[\"belongs_to_collection\"]]"
   ]
  },
  {
   "cell_type": "markdown",
   "metadata": {
    "id": "9iqrlTIN5Wuk"
   },
   "source": [
    "### Flatten nested columns"
   ]
  },
  {
   "cell_type": "code",
   "execution_count": null,
   "metadata": {
    "colab": {
     "base_uri": "https://localhost:8080/"
    },
    "id": "jmhth5o5Jl2C",
    "outputId": "a2511e6e-cb12-4b93-c32f-24b8187d3afc"
   },
   "outputs": [
    {
     "name": "stdout",
     "output_type": "stream",
     "text": [
      "belongs_to_collection <class 'dict'>\n",
      "genres <class 'list'>\n",
      "production_companies <class 'list'>\n",
      "production_countries <class 'list'>\n",
      "spoken_languages <class 'list'>\n"
     ]
    }
   ],
   "source": [
    "# Structure of for each col in json_cols:\n",
    "  print(col,type(messy_data[col][0]))"
   ]
  },
  {
   "cell_type": "code",
   "execution_count": 12,
   "metadata": {
    "colab": {
     "base_uri": "https://localhost:8080/",
     "height": 434
    },
    "id": "0nqjIywqFK43",
    "outputId": "d6e76522-4d65-48b8-80c8-c30a752c6aac"
   },
   "outputs": [
    {
     "data": {
      "text/plain": [
       "belongs_to_collection       Toy Story Collection\n",
       "genres                   Animation|Comedy|Family\n",
       "Name: 0, dtype: object"
      ]
     },
     "execution_count": 12,
     "metadata": {},
     "output_type": "execute_result"
    }
   ],
   "source": [
    "## Dict\n",
    "messy_data.belongs_to_collection = messy_data.belongs_to_collection.apply(lambda x: x['name'] if isinstance(x,dict) else np.nan)\n",
    "\n",
    "## Lists\n",
    "\n",
    "json_cols.remove('belongs_to_collection')\n",
    "for col in json_cols:\n",
    "  messy_data[col] = messy_data[col].apply(lambda x: \"|\".join(i['name'] for i in x) if isinstance(x,list) else np.nan)\n",
    "\n",
    "messy_data.loc[0,[\"belongs_to_collection\",\"genres\"]]"
   ]
  },
  {
   "cell_type": "code",
   "execution_count": null,
   "metadata": {
    "colab": {
     "base_uri": "https://localhost:8080/"
    },
    "id": "0PDhCjtB5Wum",
    "outputId": "f66c3e33-ab09-4d69-c0c9-845796482db6"
   },
   "outputs": [
    {
     "data": {
      "text/plain": [
       "                             11875\n",
       "Metro-Goldwyn-Mayer (MGM)      742\n",
       "Warner Bros.                   540\n",
       "Name: production_companies, dtype: int64"
      ]
     },
     "execution_count": 284,
     "metadata": {
      "tags": []
     },
     "output_type": "execute_result"
    }
   ],
   "source": [
    "# Empty strings not marked as missing in production_companies\n",
    "\n",
    "messy_data.production_companies.value_counts(dropna = False).head(3) "
   ]
  },
  {
   "cell_type": "code",
   "execution_count": 13,
   "metadata": {
    "id": "FGdUG4ViM53A"
   },
   "outputs": [],
   "source": [
    "messy_data.production_companies.replace(\"\", np.nan, inplace = True)"
   ]
  },
  {
   "cell_type": "markdown",
   "metadata": {
    "id": "b9H0gEDG5Wum"
   },
   "source": [
    "## Cleaning Numerical Columns"
   ]
  },
  {
   "cell_type": "code",
   "execution_count": null,
   "metadata": {
    "colab": {
     "base_uri": "https://localhost:8080/"
    },
    "id": "UBUscrwnUXwc",
    "outputId": "b1b848a0-d252-433a-973a-d677545e65b7"
   },
   "outputs": [
    {
     "data": {
      "text/plain": [
       "belongs_to_collection     object\n",
       "budget                    object\n",
       "genres                    object\n",
       "id                        object\n",
       "original_language         object\n",
       "overview                  object\n",
       "popularity                object\n",
       "poster_path               object\n",
       "production_companies      object\n",
       "production_countries      object\n",
       "release_date              object\n",
       "revenue                  float64\n",
       "runtime                  float64\n",
       "spoken_languages          object\n",
       "status                    object\n",
       "tagline                   object\n",
       "title                     object\n",
       "vote_average             float64\n",
       "vote_count               float64\n",
       "dtype: object"
      ]
     },
     "execution_count": 287,
     "metadata": {
      "tags": []
     },
     "output_type": "execute_result"
    }
   ],
   "source": [
    "messy_data.dtypes"
   ]
  },
  {
   "cell_type": "markdown",
   "metadata": {
    "id": "h73vKrEvFelO"
   },
   "source": [
    "### Deal with incorrectly entered data"
   ]
  },
  {
   "cell_type": "code",
   "execution_count": null,
   "metadata": {
    "id": "SazNWs8sfEaz"
   },
   "outputs": [],
   "source": [
    "# Problems with budget and id "
   ]
  },
  {
   "cell_type": "code",
   "execution_count": null,
   "metadata": {
    "colab": {
     "base_uri": "https://localhost:8080/",
     "height": 151
    },
    "id": "uGQlYuohWqOT",
    "outputId": "b990004d-fbc9-4def-fb9d-408ea13d5761"
   },
   "outputs": [
    {
     "data": {
      "text/html": [
       "<div>\n",
       "<style scoped>\n",
       "    .dataframe tbody tr th:only-of-type {\n",
       "        vertical-align: middle;\n",
       "    }\n",
       "\n",
       "    .dataframe tbody tr th {\n",
       "        vertical-align: top;\n",
       "    }\n",
       "\n",
       "    .dataframe thead th {\n",
       "        text-align: right;\n",
       "    }\n",
       "</style>\n",
       "<table border=\"1\" class=\"dataframe\">\n",
       "  <thead>\n",
       "    <tr style=\"text-align: right;\">\n",
       "      <th></th>\n",
       "      <th>belongs_to_collection</th>\n",
       "      <th>budget</th>\n",
       "      <th>genres</th>\n",
       "      <th>id</th>\n",
       "      <th>original_language</th>\n",
       "      <th>overview</th>\n",
       "      <th>popularity</th>\n",
       "      <th>poster_path</th>\n",
       "      <th>production_companies</th>\n",
       "      <th>production_countries</th>\n",
       "      <th>release_date</th>\n",
       "      <th>revenue</th>\n",
       "      <th>runtime</th>\n",
       "      <th>spoken_languages</th>\n",
       "      <th>status</th>\n",
       "      <th>tagline</th>\n",
       "      <th>title</th>\n",
       "      <th>vote_average</th>\n",
       "      <th>vote_count</th>\n",
       "    </tr>\n",
       "  </thead>\n",
       "  <tbody>\n",
       "    <tr>\n",
       "      <th>19730</th>\n",
       "      <td>NaN</td>\n",
       "      <td>/ff9qCepilowshEtG2GYWwzt2bs4.jpg</td>\n",
       "      <td>Carousel Productions|Vision View Entertainment...</td>\n",
       "      <td>1997-08-20</td>\n",
       "      <td>104.0</td>\n",
       "      <td>Released</td>\n",
       "      <td>NaN</td>\n",
       "      <td>Midnight Man</td>\n",
       "      <td>NaN</td>\n",
       "      <td>NaN</td>\n",
       "      <td>1</td>\n",
       "      <td>NaN</td>\n",
       "      <td>NaN</td>\n",
       "      <td>NaN</td>\n",
       "      <td>NaN</td>\n",
       "      <td>NaN</td>\n",
       "      <td>NaN</td>\n",
       "      <td>NaN</td>\n",
       "      <td>NaN</td>\n",
       "    </tr>\n",
       "  </tbody>\n",
       "</table>\n",
       "</div>"
      ],
      "text/plain": [
       "      belongs_to_collection  ... vote_count\n",
       "19730                   NaN  ...        NaN\n",
       "\n",
       "[1 rows x 19 columns]"
      ]
     },
     "execution_count": 290,
     "metadata": {
      "tags": []
     },
     "output_type": "execute_result"
    }
   ],
   "source": [
    "messy_data[messy_data.budget == '/ff9qCepilowshEtG2GYWwzt2bs4.jpg']"
   ]
  },
  {
   "cell_type": "code",
   "execution_count": null,
   "metadata": {
    "colab": {
     "base_uri": "https://localhost:8080/"
    },
    "id": "D_SxG-YkW88I",
    "outputId": "37db53b8-eb7d-4922-af49-66ee826bcca6"
   },
   "outputs": [
    {
     "data": {
      "text/plain": [
       "3"
      ]
     },
     "execution_count": 291,
     "metadata": {
      "tags": []
     },
     "output_type": "execute_result"
    }
   ],
   "source": [
    "messy_data.budget.str.contains('jpg').sum()"
   ]
  },
  {
   "cell_type": "code",
   "execution_count": null,
   "metadata": {
    "colab": {
     "base_uri": "https://localhost:8080/"
    },
    "id": "BaUGGr1ZZ2m3",
    "outputId": "fb30e635-31d6-4ea2-9c4d-4c6df8d91a15"
   },
   "outputs": [
    {
     "data": {
      "text/plain": [
       "3"
      ]
     },
     "execution_count": 292,
     "metadata": {
      "tags": []
     },
     "output_type": "execute_result"
    }
   ],
   "source": [
    "messy_data.id.str.contains('-').sum() "
   ]
  },
  {
   "cell_type": "code",
   "execution_count": 19,
   "metadata": {
    "id": "l-Wz5j7saBre"
   },
   "outputs": [],
   "source": [
    "# Assume they are the same entries\n",
    "\n",
    "s = messy_data.id.str.contains('-')\n",
    "messy_data = messy_data[~s]"
   ]
  },
  {
   "cell_type": "markdown",
   "metadata": {
    "id": "kgVz87xm5Wum"
   },
   "source": [
    "### Convert columns and check dtype"
   ]
  },
  {
   "cell_type": "code",
   "execution_count": 30,
   "metadata": {
    "id": "uO-FY1k3UkmF"
   },
   "outputs": [
    {
     "name": "stdout",
     "output_type": "stream",
     "text": [
      "int64\n",
      "int64\n",
      "float64\n"
     ]
    }
   ],
   "source": [
    "# Converting budget, id and popularity\n",
    "\n",
    "cols = [\"budget\",\"id\",\"popularity\"]\n",
    "\n",
    "for col in cols:\n",
    "    messy_data[col] = pd.to_numeric(messy_data[col],errors='coerce')\n",
    "    print(messy_data[col].dtype)"
   ]
  },
  {
   "cell_type": "code",
   "execution_count": 36,
   "metadata": {
    "colab": {
     "base_uri": "https://localhost:8080/"
    },
    "id": "pWP8nP9GkYzR",
    "outputId": "d3671728-703f-426f-f01e-7c6e788075a6"
   },
   "outputs": [],
   "source": [
    "messy_data = messy_data[~(messy_data.popularity.isna())]"
   ]
  },
  {
   "cell_type": "markdown",
   "metadata": {
    "id": "FAcy4EuM5Wum"
   },
   "source": [
    "## Update values in budget, runtime and popularity with zero values"
   ]
  },
  {
   "cell_type": "markdown",
   "metadata": {
    "id": "n77bWH3enC3Z"
   },
   "source": [
    "# Change runtime zeroes to mean of non-zero entries\n",
    "\n",
    "s = messy_data.runtime\n",
    "mean = s[s!=0].mean()\n",
    "\n",
    "messy_data.loc[s == 0,'runtime'] = mean"
   ]
  },
  {
   "cell_type": "markdown",
   "metadata": {
    "id": "nkDGgHm1s7L6"
   },
   "source": [
    "### Use regression to predict budget and revenue"
   ]
  },
  {
   "cell_type": "code",
   "execution_count": 40,
   "metadata": {
    "id": "lGJP_GCnmwo6"
   },
   "outputs": [],
   "source": [
    "from sklearn.linear_model import LinearRegression\n",
    "\n",
    "predictors = ['popularity','vote_count','vote_average']\n",
    "predictor_df = messy_data[predictors].dropna() #To maintain consistency with response vector lengths\n",
    "\n",
    "# Get a training df with no-nonzero entries \n",
    "\n",
    "for column in predictors:\n",
    "  predictor_df = predictor_df[predictor_df[column]!=0]\n",
    "\n",
    "train = predictor_df.sample(5000).values\n"
   ]
  },
  {
   "cell_type": "code",
   "execution_count": 41,
   "metadata": {
    "id": "egMC87wR1ekY"
   },
   "outputs": [],
   "source": [
    "# Function to predict zeroes of specified column \n",
    "\n",
    "def predict_zeros(column:str,data,predictors,n_train):\n",
    "\n",
    "  col = cata[col]\n",
    "\n",
    "  train_responses = col[col!=0].dropna().sample(n_train).values\n",
    "  test = data.loc[col==0,predictors].values\n",
    "\n",
    "  lm = LinearRegression()\n",
    "  lm.fit(train,train_responses)\n",
    "\n",
    "  revenue_pred = lm.predict(test)\n",
    "\n",
    "  return revenue_pred"
   ]
  },
  {
   "cell_type": "code",
   "execution_count": 44,
   "metadata": {
    "id": "3ODQsjtTsuF6"
   },
   "outputs": [],
   "source": [
    "# Predict Revenue zero values \n",
    "\n",
    "revenue = messy_data['revenue']\n",
    "\n",
    "train_responses = revenue[revenue!=0].dropna().sample(5000).values\n",
    "test = messy_data.loc[revenue==0,predictors].values\n",
    "\n",
    "lm = LinearRegression()\n",
    "lm.fit(train,train_responses)\n",
    "\n",
    "revenue_pred = lm.predict(test)"
   ]
  },
  {
   "cell_type": "code",
   "execution_count": 45,
   "metadata": {
    "id": "bQqDfPqWur_o"
   },
   "outputs": [],
   "source": [
    "messy_data.loc[revenue==0,'revenue'] = revenue_pred"
   ]
  },
  {
   "cell_type": "code",
   "execution_count": 46,
   "metadata": {
    "id": "a5e9r3xhpZWI"
   },
   "outputs": [],
   "source": [
    "# Predict Budget \n",
    "\n",
    "budget = messy_data['budget']\n",
    "\n",
    "train_responses = budget[budget!=0].dropna().sample(5000).values\n",
    "test = messy_data.loc[budget==0,predictors].dropna().values\n",
    "idx = messy_data.loc[budget==0,predictors].dropna().index\n",
    "\n",
    "lm = LinearRegression()\n",
    "lm.fit(train,train_responses)\n",
    "budget_pred = lm.predict(test)"
   ]
  },
  {
   "cell_type": "code",
   "execution_count": 48,
   "metadata": {
    "id": "lhtRuP-hw2ye"
   },
   "outputs": [],
   "source": [
    "messy_data.loc[idx ,'budget'] = budget_pred"
   ]
  },
  {
   "cell_type": "markdown",
   "metadata": {
    "id": "aNZeXI5S5Wum"
   },
   "source": [
    "12. The columns \"budget\" and \"revenue\" shall show values in Million USD. __Convert and Overwrite__!"
   ]
  },
  {
   "cell_type": "code",
   "execution_count": 49,
   "metadata": {
    "id": "goPSc_vHyHcA"
   },
   "outputs": [],
   "source": [
    "# Convert to units in millions \n",
    "\n",
    "messy_data.budget = messy_data.budget / 1000000\n",
    "messy_data.revenue = messy_data.revenue / 1000000"
   ]
  },
  {
   "cell_type": "code",
   "execution_count": null,
   "metadata": {
    "id": "B7hAjOBSyz1V"
   },
   "outputs": [],
   "source": [
    "# Some movies have a vote count of 0, can't have an average of a zero vote. \n",
    "\n",
    "messy_data.loc[messy_data.vote_count==0,'vote_average'] = np.nan "
   ]
  },
  {
   "cell_type": "markdown",
   "metadata": {
    "id": "jHbru91a5Wun"
   },
   "source": [
    "## Cleaning DateTime Columns"
   ]
  },
  {
   "cell_type": "code",
   "execution_count": 50,
   "metadata": {
    "id": "g8xg3qdw5Wun"
   },
   "outputs": [],
   "source": [
    "messy_data.release_date = pd.to_datetime(messy_data.release_date, errors='coerce')"
   ]
  },
  {
   "cell_type": "code",
   "execution_count": null,
   "metadata": {
    "colab": {
     "base_uri": "https://localhost:8080/"
    },
    "id": "mCUbwGxv44sE",
    "outputId": "bdfc7db0-75e2-4b5a-aae6-1dce3224dc25"
   },
   "outputs": [
    {
     "data": {
      "text/plain": [
       "dtype('<M8[ns]')"
      ]
     },
     "execution_count": 318,
     "metadata": {
      "tags": []
     },
     "output_type": "execute_result"
    }
   ],
   "source": [
    "messy_data.release_date.dtype"
   ]
  },
  {
   "cell_type": "markdown",
   "metadata": {
    "id": "F6x9rlOk5Wun"
   },
   "source": [
    "## Cleaning Text / String Columns"
   ]
  },
  {
   "cell_type": "markdown",
   "metadata": {
    "id": "tP_Iwwpm5Wun"
   },
   "source": [
    "15. __Analyze__ the text columns \"overview\" and \"tagline\". Try to identify __missing data that is not represented by NaN__ (e.g. \"No Data\"). __Replace as NaN__ (np.nan)!"
   ]
  },
  {
   "cell_type": "code",
   "execution_count": 57,
   "metadata": {
    "colab": {
     "base_uri": "https://localhost:8080/"
    },
    "id": "R7hYIG4T5Wuo",
    "outputId": "dc27376b-1c6b-4d78-8d13-4cb83d9ac694"
   },
   "outputs": [
    {
     "data": {
      "text/plain": [
       "NaN                                                                                                                                                                                                                                                                                                                                                                                                                                                                                                                                                                                        1102\n",
       "Adaptation of the Jane Austen novel.                                                                                                                                                                                                                                                                                                                                                                                                                                                                                                                                                          3\n",
       "A few funny little novels about different aspects of life.                                                                                                                                                                                                                                                                                                                                                                                                                                                                                                                                    3\n",
       "Poor but happy, young Nello and his grandfather live alone, delivering milk as a livelihood, in the outskirts of Antwerp, a city in Flanders (the Flemish or Dutch-speaking part of modern-day Belgium). They discover a beaten dog (a Bouvier, a large sturdy dog native to Flanders) and adopt it and nurse it back to health, naming it Patrasche, the middle name of Nello's mother Mary, who died when Nello was very young. Nello's mother was a talented artist, and like his mother, he delights in drawing, and his friend Aloise is his model and greatest fan and supporter.       2\n",
       "Funny, entertaining comedy with a few storylines. All of them have one thing in common - a resort town of Rimini in Italy.                                                                                                                                                                                                                                                                                                                                                                                                                                                                    2\n",
       "With friends like these, who needs enemies? That's the question bad guy Porter is left asking after his wife and partner steal his heist money and leave him for dead -- or so they think. Five months and an endless reservoir of bitterness later, Porter's partners and the crooked cops on his tail learn how bad payback can be.                                                                                                                                                                                                                                                         2\n",
       "Blanche Dubois goes to visit her pregnant sister and husband Stanley in New Orleans. Stanley doesn't like her, and starts pushing her for information on some property he know was left to the sisters. He discovers she has mortgaged the place and spent all the money, and wants to find out all he can about her. Even more friction develops between the two while they are in the apartment together...                                                                                                                                                                                 2\n",
       "Karol has everything. He has three mistresses in addition to the bride. He is charming, loves sex and enslaves women in the blink of an eye. He's also well aware of that women like and uses it for his benefits.                                                                                                                                                                                                                                                                                                                                                                            2\n",
       "Nick Carraway, a young Midwesterner now living on Long Island, finds himself fascinated by the mysterious past and lavish lifestyle of his neighbor, the nouveau riche Jay Gatsby. He is drawn into Gatsby's circle, becoming a witness to obsession and tragedy.                                                                                                                                                                                                                                                                                                                             2\n",
       "Alien pods come to Earth and, naturally, start taking over Human Hosts. One such pod only manages to take over one human's, Shin Izumi, right arm. Together they grow and co-exist, all the while the other aliens are making meals of other humans; Shin feels he must put a stop to it all, but his alien, Migi, doesn't see why.                                                                                                                                                                                                                                                           2\n",
       "Name: overview, dtype: int64"
      ]
     },
     "execution_count": 57,
     "metadata": {},
     "output_type": "execute_result"
    }
   ],
   "source": [
    "# Some missing values are enconded incorrectly \n",
    "\n",
    "messy_data.overview.value_counts(dropna = False).head(10) "
   ]
  },
  {
   "cell_type": "code",
   "execution_count": 58,
   "metadata": {
    "id": "bQZHmQcu6T7y"
   },
   "outputs": [],
   "source": [
    "messy_data.overview.replace(\"No overview found.\", np.nan, inplace = True)\n",
    "messy_data.overview.replace(\"No Overview\", np.nan, inplace = True)\n",
    "messy_data.overview.replace(\"No movie overview available.\", np.nan, inplace = True)\n",
    "messy_data.overview.replace(\" \", np.nan, inplace = True)\n",
    "messy_data.tagline.replace(\"-\", np.nan, inplace = True)"
   ]
  },
  {
   "cell_type": "markdown",
   "metadata": {
    "id": "S5tWlHBU5Wuo"
   },
   "source": [
    "## Removing Duplicates"
   ]
  },
  {
   "cell_type": "code",
   "execution_count": 59,
   "metadata": {
    "id": "RBpVnN955Wuo"
   },
   "outputs": [],
   "source": [
    "messy_data.drop_duplicates(subset = \"id\", inplace = True)"
   ]
  },
  {
   "cell_type": "markdown",
   "metadata": {
    "id": "FnDjhhOd5Wuo"
   },
   "source": [
    "## Handling Other Missing Values & Removing Observations"
   ]
  },
  {
   "cell_type": "code",
   "execution_count": 60,
   "metadata": {
    "id": "ZeDGFoIT7XGP"
   },
   "outputs": [],
   "source": [
    "# Drop all rows/movies with unknown id or title\n",
    "messy_data.loc[:,[\"id\", \"title\"]].dropna(inplace = True)"
   ]
  },
  {
   "cell_type": "code",
   "execution_count": 61,
   "metadata": {
    "colab": {
     "base_uri": "https://localhost:8080/",
     "height": 983
    },
    "id": "47qq6uuH5Wup",
    "outputId": "cf839e4f-c4bc-434f-ba71-d3a568d99ed1"
   },
   "outputs": [],
   "source": [
    "# Keep rows with less than 10 non-NAN values \n",
    "messy_data.dropna(thresh=10,inplace=True)"
   ]
  },
  {
   "cell_type": "markdown",
   "metadata": {
    "id": "M6p8Su_25Wup"
   },
   "source": [
    "## Final (Cleaning) Steps"
   ]
  },
  {
   "cell_type": "code",
   "execution_count": 62,
   "metadata": {
    "id": "imcKGdUv83gw"
   },
   "outputs": [],
   "source": [
    "# Only keep already release movies \n",
    "\n",
    "df = messy_data.loc[messy_data.status == \"Released\"].copy()\n",
    "df.drop(columns = [\"status\"], inplace = True)"
   ]
  },
  {
   "cell_type": "code",
   "execution_count": 63,
   "metadata": {
    "id": "F0vHFluu5Wup"
   },
   "outputs": [],
   "source": [
    "# Rearange order of columns \n",
    "\n",
    "cols = [\"id\", \"title\", \"tagline\", \"release_date\", \"genres\", \"belongs_to_collection\", \n",
    "\"original_language\", \"budget\", \"revenue\", \"production_companies\",\n",
    "\"production_countries\", \"vote_count\", \"vote_average\", \"popularity\", \"runtime\",\n",
    "\"overview\", \"spoken_languages\", \"poster_path\"]\n",
    "\n",
    "df = df.loc[:,cols]"
   ]
  },
  {
   "cell_type": "code",
   "execution_count": 64,
   "metadata": {
    "id": "al-lQt159RgY"
   },
   "outputs": [],
   "source": [
    "# Reset index \n",
    "\n",
    "df.reset_index(drop = True, inplace =True)"
   ]
  },
  {
   "cell_type": "code",
   "execution_count": 67,
   "metadata": {
    "id": "jpnucZLe9SP6"
   },
   "outputs": [],
   "source": [
    "# Update poster path \n",
    "\n",
    "base_poster_url = 'http://image.tmdb.org/t/p/w185/'\n",
    "df.poster_path = \"<img src='\" + base_poster_url + df.poster_path + \"' style='height:100px;'>\""
   ]
  },
  {
   "cell_type": "code",
   "execution_count": 71,
   "metadata": {},
   "outputs": [
    {
     "data": {
      "text/html": [
       "<div>\n",
       "<style scoped>\n",
       "    .dataframe tbody tr th:only-of-type {\n",
       "        vertical-align: middle;\n",
       "    }\n",
       "\n",
       "    .dataframe tbody tr th {\n",
       "        vertical-align: top;\n",
       "    }\n",
       "\n",
       "    .dataframe thead th {\n",
       "        text-align: right;\n",
       "    }\n",
       "</style>\n",
       "<table border=\"1\" class=\"dataframe\">\n",
       "  <thead>\n",
       "    <tr style=\"text-align: right;\">\n",
       "      <th></th>\n",
       "      <th>id</th>\n",
       "      <th>title</th>\n",
       "      <th>tagline</th>\n",
       "      <th>release_date</th>\n",
       "      <th>genres</th>\n",
       "      <th>belongs_to_collection</th>\n",
       "      <th>original_language</th>\n",
       "      <th>budget</th>\n",
       "      <th>revenue</th>\n",
       "      <th>production_companies</th>\n",
       "      <th>production_countries</th>\n",
       "      <th>vote_count</th>\n",
       "      <th>vote_average</th>\n",
       "      <th>popularity</th>\n",
       "      <th>runtime</th>\n",
       "      <th>overview</th>\n",
       "      <th>spoken_languages</th>\n",
       "      <th>poster_path</th>\n",
       "    </tr>\n",
       "  </thead>\n",
       "  <tbody>\n",
       "    <tr>\n",
       "      <th>0</th>\n",
       "      <td>862</td>\n",
       "      <td>Toy Story</td>\n",
       "      <td>NaN</td>\n",
       "      <td>1995-10-30</td>\n",
       "      <td>Animation|Comedy|Family</td>\n",
       "      <td>Toy Story Collection</td>\n",
       "      <td>en</td>\n",
       "      <td>30.000000</td>\n",
       "      <td>373.554033</td>\n",
       "      <td>Pixar Animation Studios</td>\n",
       "      <td>United States of America</td>\n",
       "      <td>5415.0</td>\n",
       "      <td>7.7</td>\n",
       "      <td>21.946943</td>\n",
       "      <td>81.0</td>\n",
       "      <td>Led by Woody, Andy's toys live happily in his ...</td>\n",
       "      <td>English</td>\n",
       "      <td>&lt;img src='http://image.tmdb.org/t/p/w185/&lt;img ...</td>\n",
       "    </tr>\n",
       "    <tr>\n",
       "      <th>1</th>\n",
       "      <td>8844</td>\n",
       "      <td>Jumanji</td>\n",
       "      <td>Roll the dice and unleash the excitement!</td>\n",
       "      <td>1995-12-15</td>\n",
       "      <td>Adventure|Fantasy|Family</td>\n",
       "      <td>NaN</td>\n",
       "      <td>en</td>\n",
       "      <td>65.000000</td>\n",
       "      <td>262.797249</td>\n",
       "      <td>TriStar Pictures|Teitler Film|Interscope Commu...</td>\n",
       "      <td>United States of America</td>\n",
       "      <td>2413.0</td>\n",
       "      <td>6.9</td>\n",
       "      <td>17.015539</td>\n",
       "      <td>104.0</td>\n",
       "      <td>When siblings Judy and Peter discover an encha...</td>\n",
       "      <td>English|Français</td>\n",
       "      <td>&lt;img src='http://image.tmdb.org/t/p/w185/&lt;img ...</td>\n",
       "    </tr>\n",
       "    <tr>\n",
       "      <th>2</th>\n",
       "      <td>15602</td>\n",
       "      <td>Grumpier Old Men</td>\n",
       "      <td>Still Yelling. Still Fighting. Still Ready for...</td>\n",
       "      <td>1995-12-22</td>\n",
       "      <td>Romance|Comedy</td>\n",
       "      <td>Grumpy Old Men Collection</td>\n",
       "      <td>en</td>\n",
       "      <td>21.476312</td>\n",
       "      <td>67.282594</td>\n",
       "      <td>Warner Bros.|Lancaster Gate</td>\n",
       "      <td>United States of America</td>\n",
       "      <td>92.0</td>\n",
       "      <td>6.5</td>\n",
       "      <td>11.712900</td>\n",
       "      <td>101.0</td>\n",
       "      <td>A family wedding reignites the ancient feud be...</td>\n",
       "      <td>English</td>\n",
       "      <td>&lt;img src='http://image.tmdb.org/t/p/w185/&lt;img ...</td>\n",
       "    </tr>\n",
       "    <tr>\n",
       "      <th>3</th>\n",
       "      <td>31357</td>\n",
       "      <td>Waiting to Exhale</td>\n",
       "      <td>Friends are the people who let you be yourself...</td>\n",
       "      <td>1995-12-22</td>\n",
       "      <td>Comedy|Drama|Romance</td>\n",
       "      <td>NaN</td>\n",
       "      <td>en</td>\n",
       "      <td>16.000000</td>\n",
       "      <td>81.452156</td>\n",
       "      <td>Twentieth Century Fox Film Corporation</td>\n",
       "      <td>United States of America</td>\n",
       "      <td>34.0</td>\n",
       "      <td>6.1</td>\n",
       "      <td>3.859495</td>\n",
       "      <td>127.0</td>\n",
       "      <td>Cheated on, mistreated and stepped on, the wom...</td>\n",
       "      <td>English</td>\n",
       "      <td>&lt;img src='http://image.tmdb.org/t/p/w185/&lt;img ...</td>\n",
       "    </tr>\n",
       "    <tr>\n",
       "      <th>4</th>\n",
       "      <td>11862</td>\n",
       "      <td>Father of the Bride Part II</td>\n",
       "      <td>Just When His World Is Back To Normal... He's ...</td>\n",
       "      <td>1995-02-10</td>\n",
       "      <td>Comedy</td>\n",
       "      <td>Father of the Bride Collection</td>\n",
       "      <td>en</td>\n",
       "      <td>21.825495</td>\n",
       "      <td>76.578911</td>\n",
       "      <td>Sandollar Productions|Touchstone Pictures</td>\n",
       "      <td>United States of America</td>\n",
       "      <td>173.0</td>\n",
       "      <td>5.7</td>\n",
       "      <td>8.387519</td>\n",
       "      <td>106.0</td>\n",
       "      <td>Just when George Banks has recovered from his ...</td>\n",
       "      <td>English</td>\n",
       "      <td>&lt;img src='http://image.tmdb.org/t/p/w185/&lt;img ...</td>\n",
       "    </tr>\n",
       "  </tbody>\n",
       "</table>\n",
       "</div>"
      ],
      "text/plain": [
       "      id                        title  \\\n",
       "0    862                    Toy Story   \n",
       "1   8844                      Jumanji   \n",
       "2  15602             Grumpier Old Men   \n",
       "3  31357            Waiting to Exhale   \n",
       "4  11862  Father of the Bride Part II   \n",
       "\n",
       "                                             tagline release_date  \\\n",
       "0                                                NaN   1995-10-30   \n",
       "1          Roll the dice and unleash the excitement!   1995-12-15   \n",
       "2  Still Yelling. Still Fighting. Still Ready for...   1995-12-22   \n",
       "3  Friends are the people who let you be yourself...   1995-12-22   \n",
       "4  Just When His World Is Back To Normal... He's ...   1995-02-10   \n",
       "\n",
       "                     genres           belongs_to_collection original_language  \\\n",
       "0   Animation|Comedy|Family            Toy Story Collection                en   \n",
       "1  Adventure|Fantasy|Family                             NaN                en   \n",
       "2            Romance|Comedy       Grumpy Old Men Collection                en   \n",
       "3      Comedy|Drama|Romance                             NaN                en   \n",
       "4                    Comedy  Father of the Bride Collection                en   \n",
       "\n",
       "      budget     revenue                               production_companies  \\\n",
       "0  30.000000  373.554033                            Pixar Animation Studios   \n",
       "1  65.000000  262.797249  TriStar Pictures|Teitler Film|Interscope Commu...   \n",
       "2  21.476312   67.282594                        Warner Bros.|Lancaster Gate   \n",
       "3  16.000000   81.452156             Twentieth Century Fox Film Corporation   \n",
       "4  21.825495   76.578911          Sandollar Productions|Touchstone Pictures   \n",
       "\n",
       "       production_countries  vote_count  vote_average  popularity  runtime  \\\n",
       "0  United States of America      5415.0           7.7   21.946943     81.0   \n",
       "1  United States of America      2413.0           6.9   17.015539    104.0   \n",
       "2  United States of America        92.0           6.5   11.712900    101.0   \n",
       "3  United States of America        34.0           6.1    3.859495    127.0   \n",
       "4  United States of America       173.0           5.7    8.387519    106.0   \n",
       "\n",
       "                                            overview  spoken_languages  \\\n",
       "0  Led by Woody, Andy's toys live happily in his ...           English   \n",
       "1  When siblings Judy and Peter discover an encha...  English|Français   \n",
       "2  A family wedding reignites the ancient feud be...           English   \n",
       "3  Cheated on, mistreated and stepped on, the wom...           English   \n",
       "4  Just when George Banks has recovered from his ...           English   \n",
       "\n",
       "                                         poster_path  \n",
       "0  <img src='http://image.tmdb.org/t/p/w185/<img ...  \n",
       "1  <img src='http://image.tmdb.org/t/p/w185/<img ...  \n",
       "2  <img src='http://image.tmdb.org/t/p/w185/<img ...  \n",
       "3  <img src='http://image.tmdb.org/t/p/w185/<img ...  \n",
       "4  <img src='http://image.tmdb.org/t/p/w185/<img ...  "
      ]
     },
     "execution_count": 71,
     "metadata": {},
     "output_type": "execute_result"
    }
   ],
   "source": [
    "df.head()"
   ]
  }
 ],
 "metadata": {
  "colab": {
   "collapsed_sections": [],
   "name": "Cleaning Json Data.ipynb",
   "provenance": []
  },
  "kernelspec": {
   "display_name": "Python 3",
   "language": "python",
   "name": "python3"
  },
  "language_info": {
   "codemirror_mode": {
    "name": "ipython",
    "version": 3
   },
   "file_extension": ".py",
   "mimetype": "text/x-python",
   "name": "python",
   "nbconvert_exporter": "python",
   "pygments_lexer": "ipython3",
   "version": "3.8.5"
  }
 },
 "nbformat": 4,
 "nbformat_minor": 4
}
