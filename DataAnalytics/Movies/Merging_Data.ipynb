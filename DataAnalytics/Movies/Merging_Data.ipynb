{
 "cells": [
  {
   "cell_type": "markdown",
   "metadata": {
    "id": "Im6M3csjHpf0"
   },
   "source": [
    "# Imports"
   ]
  },
  {
   "cell_type": "code",
   "execution_count": 9,
   "metadata": {},
   "outputs": [],
   "source": [
    "import pandas as pd\n",
    "import numpy as np\n",
    "import ast"
   ]
  },
  {
   "cell_type": "markdown",
   "metadata": {},
   "source": [
    "# Data"
   ]
  },
  {
   "cell_type": "code",
   "execution_count": 4,
   "metadata": {
    "id": "O6udoOv4H61L"
   },
   "outputs": [],
   "source": [
    "movies = pd.read_csv(r\"C:\\Users\\CPL17\\OneDrive\\Documents\\Data\\movies_clean.csv\")\n",
    "credits = pd.read_csv(r\"C:\\Users\\CPL17\\OneDrive\\Documents\\Data\\credits.csv\")"
   ]
  },
  {
   "cell_type": "code",
   "execution_count": 5,
   "metadata": {
    "colab": {
     "base_uri": "https://localhost:8080/",
     "height": 185
    },
    "id": "J3sLifX0IOYj",
    "outputId": "f5758b98-aa95-4681-9fb1-8887a2865415"
   },
   "outputs": [
    {
     "data": {
      "text/html": [
       "<div>\n",
       "<style scoped>\n",
       "    .dataframe tbody tr th:only-of-type {\n",
       "        vertical-align: middle;\n",
       "    }\n",
       "\n",
       "    .dataframe tbody tr th {\n",
       "        vertical-align: top;\n",
       "    }\n",
       "\n",
       "    .dataframe thead th {\n",
       "        text-align: right;\n",
       "    }\n",
       "</style>\n",
       "<table border=\"1\" class=\"dataframe\">\n",
       "  <thead>\n",
       "    <tr style=\"text-align: right;\">\n",
       "      <th></th>\n",
       "      <th>id</th>\n",
       "      <th>title</th>\n",
       "      <th>tagline</th>\n",
       "      <th>release_date</th>\n",
       "      <th>genres</th>\n",
       "      <th>belongs_to_collection</th>\n",
       "      <th>original_language</th>\n",
       "      <th>budget_musd</th>\n",
       "      <th>revenue_musd</th>\n",
       "      <th>production_companies</th>\n",
       "      <th>production_countries</th>\n",
       "      <th>vote_count</th>\n",
       "      <th>vote_average</th>\n",
       "      <th>popularity</th>\n",
       "      <th>runtime</th>\n",
       "      <th>overview</th>\n",
       "      <th>spoken_languages</th>\n",
       "      <th>poster_path</th>\n",
       "    </tr>\n",
       "  </thead>\n",
       "  <tbody>\n",
       "    <tr>\n",
       "      <th>0</th>\n",
       "      <td>862</td>\n",
       "      <td>Toy Story</td>\n",
       "      <td>NaN</td>\n",
       "      <td>1995-10-30</td>\n",
       "      <td>Animation|Comedy|Family</td>\n",
       "      <td>Toy Story Collection</td>\n",
       "      <td>en</td>\n",
       "      <td>30.0</td>\n",
       "      <td>373.554033</td>\n",
       "      <td>Pixar Animation Studios</td>\n",
       "      <td>United States of America</td>\n",
       "      <td>5415.0</td>\n",
       "      <td>7.7</td>\n",
       "      <td>21.946943</td>\n",
       "      <td>81.0</td>\n",
       "      <td>Led by Woody, Andy's toys live happily in his ...</td>\n",
       "      <td>English</td>\n",
       "      <td>&lt;img src='http://image.tmdb.org/t/p/w185//rhIR...</td>\n",
       "    </tr>\n",
       "  </tbody>\n",
       "</table>\n",
       "</div>"
      ],
      "text/plain": [
       "    id      title tagline release_date                   genres  \\\n",
       "0  862  Toy Story     NaN   1995-10-30  Animation|Comedy|Family   \n",
       "\n",
       "  belongs_to_collection original_language  budget_musd  revenue_musd  \\\n",
       "0  Toy Story Collection                en         30.0    373.554033   \n",
       "\n",
       "      production_companies      production_countries  vote_count  \\\n",
       "0  Pixar Animation Studios  United States of America      5415.0   \n",
       "\n",
       "   vote_average  popularity  runtime  \\\n",
       "0           7.7   21.946943     81.0   \n",
       "\n",
       "                                            overview spoken_languages  \\\n",
       "0  Led by Woody, Andy's toys live happily in his ...          English   \n",
       "\n",
       "                                         poster_path  \n",
       "0  <img src='http://image.tmdb.org/t/p/w185//rhIR...  "
      ]
     },
     "execution_count": 5,
     "metadata": {},
     "output_type": "execute_result"
    }
   ],
   "source": [
    "movies[:1]"
   ]
  },
  {
   "cell_type": "code",
   "execution_count": 6,
   "metadata": {
    "colab": {
     "base_uri": "https://localhost:8080/",
     "height": 80
    },
    "id": "OefvtcjDIRcy",
    "outputId": "98f6c600-a155-4658-eb8b-7ed538bf5429"
   },
   "outputs": [
    {
     "data": {
      "text/html": [
       "<div>\n",
       "<style scoped>\n",
       "    .dataframe tbody tr th:only-of-type {\n",
       "        vertical-align: middle;\n",
       "    }\n",
       "\n",
       "    .dataframe tbody tr th {\n",
       "        vertical-align: top;\n",
       "    }\n",
       "\n",
       "    .dataframe thead th {\n",
       "        text-align: right;\n",
       "    }\n",
       "</style>\n",
       "<table border=\"1\" class=\"dataframe\">\n",
       "  <thead>\n",
       "    <tr style=\"text-align: right;\">\n",
       "      <th></th>\n",
       "      <th>cast</th>\n",
       "      <th>crew</th>\n",
       "      <th>id</th>\n",
       "    </tr>\n",
       "  </thead>\n",
       "  <tbody>\n",
       "    <tr>\n",
       "      <th>0</th>\n",
       "      <td>[{'cast_id': 14, 'character': 'Woody (voice)',...</td>\n",
       "      <td>[{'credit_id': '52fe4284c3a36847f8024f49', 'de...</td>\n",
       "      <td>862</td>\n",
       "    </tr>\n",
       "  </tbody>\n",
       "</table>\n",
       "</div>"
      ],
      "text/plain": [
       "                                                cast  \\\n",
       "0  [{'cast_id': 14, 'character': 'Woody (voice)',...   \n",
       "\n",
       "                                                crew   id  \n",
       "0  [{'credit_id': '52fe4284c3a36847f8024f49', 'de...  862  "
      ]
     },
     "execution_count": 6,
     "metadata": {},
     "output_type": "execute_result"
    }
   ],
   "source": [
    "credits[:1]"
   ]
  },
  {
   "cell_type": "code",
   "execution_count": 7,
   "metadata": {
    "id": "w3c74vedHpf1"
   },
   "outputs": [],
   "source": [
    "credits.drop_duplicates(subset=['id'],inplace=True)"
   ]
  },
  {
   "cell_type": "markdown",
   "metadata": {
    "id": "9-qWMLw4Hpf1"
   },
   "source": [
    "## Merging the Data"
   ]
  },
  {
   "cell_type": "code",
   "execution_count": null,
   "metadata": {
    "colab": {
     "base_uri": "https://localhost:8080/"
    },
    "id": "hEDPthJsKYwz",
    "outputId": "e5d7c795-0dc6-4b81-84b6-dac438a2ecce"
   },
   "outputs": [
    {
     "data": {
      "text/plain": [
       "0"
      ]
     },
     "execution_count": 44,
     "metadata": {
      "tags": []
     },
     "output_type": "execute_result"
    }
   ],
   "source": [
    "(~movies.id.isin(credits.id)).sum()"
   ]
  },
  {
   "cell_type": "code",
   "execution_count": null,
   "metadata": {
    "colab": {
     "base_uri": "https://localhost:8080/"
    },
    "id": "qNgd8sKnJfyd",
    "outputId": "74684c2d-9e6a-4714-c728-a0f406723008"
   },
   "outputs": [
    {
     "data": {
      "text/plain": [
       "741"
      ]
     },
     "execution_count": 45,
     "metadata": {
      "tags": []
     },
     "output_type": "execute_result"
    }
   ],
   "source": [
    "(~credits.id.isin(movies.id)).sum() # there are credit ids not in movies "
   ]
  },
  {
   "cell_type": "code",
   "execution_count": 8,
   "metadata": {
    "id": "AT2xoGh2Hpf2"
   },
   "outputs": [],
   "source": [
    "movies_full = pd.merge(movies,credits,how='left',on='id')"
   ]
  },
  {
   "cell_type": "code",
   "execution_count": null,
   "metadata": {
    "colab": {
     "base_uri": "https://localhost:8080/",
     "height": 434
    },
    "id": "X1h79iw-KrX_",
    "outputId": "dfb3b9ea-aa2a-4d2f-bfca-7ac94c6516e1"
   },
   "outputs": [
    {
     "data": {
      "text/html": [
       "<div>\n",
       "<style scoped>\n",
       "    .dataframe tbody tr th:only-of-type {\n",
       "        vertical-align: middle;\n",
       "    }\n",
       "\n",
       "    .dataframe tbody tr th {\n",
       "        vertical-align: top;\n",
       "    }\n",
       "\n",
       "    .dataframe thead th {\n",
       "        text-align: right;\n",
       "    }\n",
       "</style>\n",
       "<table border=\"1\" class=\"dataframe\">\n",
       "  <thead>\n",
       "    <tr style=\"text-align: right;\">\n",
       "      <th></th>\n",
       "      <th>id</th>\n",
       "      <th>title</th>\n",
       "      <th>tagline</th>\n",
       "      <th>release_date</th>\n",
       "      <th>genres</th>\n",
       "      <th>belongs_to_collection</th>\n",
       "      <th>original_language</th>\n",
       "      <th>budget_musd</th>\n",
       "      <th>revenue_musd</th>\n",
       "      <th>production_companies</th>\n",
       "      <th>production_countries</th>\n",
       "      <th>vote_count</th>\n",
       "      <th>vote_average</th>\n",
       "      <th>popularity</th>\n",
       "      <th>runtime</th>\n",
       "      <th>overview</th>\n",
       "      <th>spoken_languages</th>\n",
       "      <th>poster_path</th>\n",
       "      <th>cast</th>\n",
       "      <th>crew</th>\n",
       "    </tr>\n",
       "  </thead>\n",
       "  <tbody>\n",
       "    <tr>\n",
       "      <th>0</th>\n",
       "      <td>862</td>\n",
       "      <td>Toy Story</td>\n",
       "      <td>NaN</td>\n",
       "      <td>1995-10-30</td>\n",
       "      <td>Animation|Comedy|Family</td>\n",
       "      <td>Toy Story Collection</td>\n",
       "      <td>en</td>\n",
       "      <td>30.0</td>\n",
       "      <td>373.554033</td>\n",
       "      <td>Pixar Animation Studios</td>\n",
       "      <td>United States of America</td>\n",
       "      <td>5415.0</td>\n",
       "      <td>7.7</td>\n",
       "      <td>21.946943</td>\n",
       "      <td>81.0</td>\n",
       "      <td>Led by Woody, Andy's toys live happily in his ...</td>\n",
       "      <td>English</td>\n",
       "      <td>&lt;img src='http://image.tmdb.org/t/p/w185//rhIR...</td>\n",
       "      <td>[{'cast_id': 14, 'character': 'Woody (voice)',...</td>\n",
       "      <td>[{'credit_id': '52fe4284c3a36847f8024f49', 'de...</td>\n",
       "    </tr>\n",
       "    <tr>\n",
       "      <th>1</th>\n",
       "      <td>8844</td>\n",
       "      <td>Jumanji</td>\n",
       "      <td>Roll the dice and unleash the excitement!</td>\n",
       "      <td>1995-12-15</td>\n",
       "      <td>Adventure|Fantasy|Family</td>\n",
       "      <td>NaN</td>\n",
       "      <td>en</td>\n",
       "      <td>65.0</td>\n",
       "      <td>262.797249</td>\n",
       "      <td>TriStar Pictures|Teitler Film|Interscope Commu...</td>\n",
       "      <td>United States of America</td>\n",
       "      <td>2413.0</td>\n",
       "      <td>6.9</td>\n",
       "      <td>17.015539</td>\n",
       "      <td>104.0</td>\n",
       "      <td>When siblings Judy and Peter discover an encha...</td>\n",
       "      <td>English|Français</td>\n",
       "      <td>&lt;img src='http://image.tmdb.org/t/p/w185//vzmL...</td>\n",
       "      <td>[{'cast_id': 1, 'character': 'Alan Parrish', '...</td>\n",
       "      <td>[{'credit_id': '52fe44bfc3a36847f80a7cd1', 'de...</td>\n",
       "    </tr>\n",
       "    <tr>\n",
       "      <th>2</th>\n",
       "      <td>15602</td>\n",
       "      <td>Grumpier Old Men</td>\n",
       "      <td>Still Yelling. Still Fighting. Still Ready for...</td>\n",
       "      <td>1995-12-22</td>\n",
       "      <td>Romance|Comedy</td>\n",
       "      <td>Grumpy Old Men Collection</td>\n",
       "      <td>en</td>\n",
       "      <td>NaN</td>\n",
       "      <td>NaN</td>\n",
       "      <td>Warner Bros.|Lancaster Gate</td>\n",
       "      <td>United States of America</td>\n",
       "      <td>92.0</td>\n",
       "      <td>6.5</td>\n",
       "      <td>11.712900</td>\n",
       "      <td>101.0</td>\n",
       "      <td>A family wedding reignites the ancient feud be...</td>\n",
       "      <td>English</td>\n",
       "      <td>&lt;img src='http://image.tmdb.org/t/p/w185//6ksm...</td>\n",
       "      <td>[{'cast_id': 2, 'character': 'Max Goldman', 'c...</td>\n",
       "      <td>[{'credit_id': '52fe466a9251416c75077a89', 'de...</td>\n",
       "    </tr>\n",
       "  </tbody>\n",
       "</table>\n",
       "</div>"
      ],
      "text/plain": [
       "      id  ...                                               crew\n",
       "0    862  ...  [{'credit_id': '52fe4284c3a36847f8024f49', 'de...\n",
       "1   8844  ...  [{'credit_id': '52fe44bfc3a36847f80a7cd1', 'de...\n",
       "2  15602  ...  [{'credit_id': '52fe466a9251416c75077a89', 'de...\n",
       "\n",
       "[3 rows x 20 columns]"
      ]
     },
     "execution_count": 47,
     "metadata": {
      "tags": []
     },
     "output_type": "execute_result"
    }
   ],
   "source": [
    "movies_full.head(3)"
   ]
  },
  {
   "cell_type": "markdown",
   "metadata": {
    "id": "NBQ2erq4Hpf2"
   },
   "source": [
    "## Cleaning and Transforming Nested Columns"
   ]
  },
  {
   "cell_type": "markdown",
   "metadata": {},
   "source": [
    "### Cast Column"
   ]
  },
  {
   "cell_type": "code",
   "execution_count": 11,
   "metadata": {
    "id": "vckHqbpnJ5uX"
   },
   "outputs": [],
   "source": [
    "movies_full['cast'] = movies_full['cast'].apply(lambda x: ast.literal_eval(x) if isinstance(x,str) else np.nan)"
   ]
  },
  {
   "cell_type": "code",
   "execution_count": null,
   "metadata": {
    "colab": {
     "base_uri": "https://localhost:8080/"
    },
    "id": "n9sdySzeKzo5",
    "outputId": "85edde98-f191-4431-d2b8-af446e1bc84f"
   },
   "outputs": [
    {
     "name": "stdout",
     "output_type": "stream",
     "text": [
      "[{'cast_id': 14,\n",
      "  'character': 'Woody (voice)',\n",
      "  'credit_id': '52fe4284c3a36847f8024f95',\n",
      "  'gender': 2,\n",
      "  'id': 31,\n",
      "  'name': 'Tom Hanks',\n",
      "  'order': 0,\n",
      "  'profile_path': '/pQFoyx7rp09CJTAb932F2g8Nlho.jpg'},\n",
      " {'cast_id': 15,\n",
      "  'character': 'Buzz Lightyear (voice)',\n",
      "  'credit_id': '52fe4284c3a36847f8024f99',\n",
      "  'gender': 2,\n",
      "  'id': 12898,\n",
      "  'name': 'Tim Allen',\n",
      "  'order': 1,\n",
      "  'profile_path': '/uX2xVf6pMmPepxnvFWyBtjexzgY.jpg'}]\n"
     ]
    }
   ],
   "source": [
    "from pprint import pprint\n",
    "pprint(movies_full['cast'][0][:2])"
   ]
  },
  {
   "cell_type": "code",
   "execution_count": 14,
   "metadata": {
    "id": "fCmvYguiLKHw"
   },
   "outputs": [],
   "source": [
    "# Determine cast size \n",
    "\n",
    "movies_full['cast_size'] = movies_full['cast'].apply(lambda x: len(x))"
   ]
  },
  {
   "cell_type": "code",
   "execution_count": 13,
   "metadata": {
    "id": "enN7Hk5BLuar"
   },
   "outputs": [],
   "source": [
    "# Extract actor names \n",
    "\n",
    "movies_full['cast'] = movies_full['cast'].apply(lambda x: \"|\".join([actor['name'] for actor in x]) if isinstance(x, list) else np.nan)"
   ]
  },
  {
   "cell_type": "code",
   "execution_count": 15,
   "metadata": {
    "colab": {
     "base_uri": "https://localhost:8080/",
     "height": 35
    },
    "id": "Unn1PXJyMLb3",
    "outputId": "1c868259-a810-4727-a38f-f49874d6c4d5"
   },
   "outputs": [
    {
     "data": {
      "text/plain": [
       "'Tom Hanks|Tim Allen|Don Rickles|Jim Varney|Wallace Shawn|John Ratzenberger|Annie Potts|John Morris|Erik von Detten|Laurie Metcalf|R. Lee Ermey|Sarah Freeman|Penn Jillette'"
      ]
     },
     "execution_count": 15,
     "metadata": {},
     "output_type": "execute_result"
    }
   ],
   "source": [
    "movies_full['cast'][0]"
   ]
  },
  {
   "cell_type": "code",
   "execution_count": 16,
   "metadata": {
    "id": "FYDdED6SHpf4"
   },
   "outputs": [],
   "source": [
    "movies_full.cast.replace(\"\", np.nan, inplace = True) #Encode empty strings a missing"
   ]
  },
  {
   "cell_type": "markdown",
   "metadata": {
    "id": "dn89ioeYHpf4"
   },
   "source": [
    "### \"Crew\" Column"
   ]
  },
  {
   "cell_type": "code",
   "execution_count": 17,
   "metadata": {
    "id": "WQ0ZOV24OSgr"
   },
   "outputs": [],
   "source": [
    "movies_full['crew'] = movies_full['crew'].apply(lambda x: ast.literal_eval(x) if isinstance(x,str) else np.nan)"
   ]
  },
  {
   "cell_type": "code",
   "execution_count": null,
   "metadata": {
    "colab": {
     "base_uri": "https://localhost:8080/"
    },
    "id": "h8ObcGZuO9OF",
    "outputId": "8e458aa0-c940-4a46-866e-d5e948ba759e"
   },
   "outputs": [
    {
     "name": "stdout",
     "output_type": "stream",
     "text": [
      "[{'credit_id': '52fe4284c3a36847f8024f49',\n",
      "  'department': 'Directing',\n",
      "  'gender': 2,\n",
      "  'id': 7879,\n",
      "  'job': 'Director',\n",
      "  'name': 'John Lasseter',\n",
      "  'profile_path': '/7EdqiNbr4FRjIhKHyPPdFfEEEFG.jpg'},\n",
      " {'credit_id': '52fe4284c3a36847f8024f4f',\n",
      "  'department': 'Writing',\n",
      "  'gender': 2,\n",
      "  'id': 12891,\n",
      "  'job': 'Screenplay',\n",
      "  'name': 'Joss Whedon',\n",
      "  'profile_path': '/dTiVsuaTVTeGmvkhcyJvKp2A5kr.jpg'}]\n"
     ]
    }
   ],
   "source": [
    "pprint(movies_full.crew[0][:2])"
   ]
  },
  {
   "cell_type": "code",
   "execution_count": 23,
   "metadata": {
    "id": "fK5NbR7rPj9j"
   },
   "outputs": [],
   "source": [
    "movies_full['crew_size'] = movies_full['crew'].apply(lambda x: len(x))"
   ]
  },
  {
   "cell_type": "code",
   "execution_count": 22,
   "metadata": {
    "id": "Zae-pVVYVLap"
   },
   "outputs": [],
   "source": [
    "def get_director(x):\n",
    "    for i in x:\n",
    "        if i['job'] == 'Director':\n",
    "            return i['name']\n",
    "    return np.nan\n",
    "\n",
    "movies_full[\"director\"] = movies_full.crew.apply(get_director) "
   ]
  },
  {
   "cell_type": "markdown",
   "metadata": {
    "id": "9NUm7uzcHpf5"
   },
   "source": [
    "## Final Steps"
   ]
  },
  {
   "cell_type": "code",
   "execution_count": 24,
   "metadata": {
    "id": "Mn31we0sHpf6"
   },
   "outputs": [],
   "source": [
    "movies_full.drop(columns=['crew'],inplace=True)"
   ]
  },
  {
   "cell_type": "code",
   "execution_count": 25,
   "metadata": {},
   "outputs": [
    {
     "data": {
      "text/html": [
       "<div>\n",
       "<style scoped>\n",
       "    .dataframe tbody tr th:only-of-type {\n",
       "        vertical-align: middle;\n",
       "    }\n",
       "\n",
       "    .dataframe tbody tr th {\n",
       "        vertical-align: top;\n",
       "    }\n",
       "\n",
       "    .dataframe thead th {\n",
       "        text-align: right;\n",
       "    }\n",
       "</style>\n",
       "<table border=\"1\" class=\"dataframe\">\n",
       "  <thead>\n",
       "    <tr style=\"text-align: right;\">\n",
       "      <th></th>\n",
       "      <th>id</th>\n",
       "      <th>title</th>\n",
       "      <th>tagline</th>\n",
       "      <th>release_date</th>\n",
       "      <th>genres</th>\n",
       "      <th>belongs_to_collection</th>\n",
       "      <th>original_language</th>\n",
       "      <th>budget_musd</th>\n",
       "      <th>revenue_musd</th>\n",
       "      <th>production_companies</th>\n",
       "      <th>...</th>\n",
       "      <th>vote_average</th>\n",
       "      <th>popularity</th>\n",
       "      <th>runtime</th>\n",
       "      <th>overview</th>\n",
       "      <th>spoken_languages</th>\n",
       "      <th>poster_path</th>\n",
       "      <th>cast</th>\n",
       "      <th>cast_size</th>\n",
       "      <th>crew_size</th>\n",
       "      <th>director</th>\n",
       "    </tr>\n",
       "  </thead>\n",
       "  <tbody>\n",
       "    <tr>\n",
       "      <th>0</th>\n",
       "      <td>862</td>\n",
       "      <td>Toy Story</td>\n",
       "      <td>NaN</td>\n",
       "      <td>1995-10-30</td>\n",
       "      <td>Animation|Comedy|Family</td>\n",
       "      <td>Toy Story Collection</td>\n",
       "      <td>en</td>\n",
       "      <td>30.0</td>\n",
       "      <td>373.554033</td>\n",
       "      <td>Pixar Animation Studios</td>\n",
       "      <td>...</td>\n",
       "      <td>7.7</td>\n",
       "      <td>21.946943</td>\n",
       "      <td>81.0</td>\n",
       "      <td>Led by Woody, Andy's toys live happily in his ...</td>\n",
       "      <td>English</td>\n",
       "      <td>&lt;img src='http://image.tmdb.org/t/p/w185//rhIR...</td>\n",
       "      <td>Tom Hanks|Tim Allen|Don Rickles|Jim Varney|Wal...</td>\n",
       "      <td>170</td>\n",
       "      <td>106</td>\n",
       "      <td>John Lasseter</td>\n",
       "    </tr>\n",
       "    <tr>\n",
       "      <th>1</th>\n",
       "      <td>8844</td>\n",
       "      <td>Jumanji</td>\n",
       "      <td>Roll the dice and unleash the excitement!</td>\n",
       "      <td>1995-12-15</td>\n",
       "      <td>Adventure|Fantasy|Family</td>\n",
       "      <td>NaN</td>\n",
       "      <td>en</td>\n",
       "      <td>65.0</td>\n",
       "      <td>262.797249</td>\n",
       "      <td>TriStar Pictures|Teitler Film|Interscope Commu...</td>\n",
       "      <td>...</td>\n",
       "      <td>6.9</td>\n",
       "      <td>17.015539</td>\n",
       "      <td>104.0</td>\n",
       "      <td>When siblings Judy and Peter discover an encha...</td>\n",
       "      <td>English|Français</td>\n",
       "      <td>&lt;img src='http://image.tmdb.org/t/p/w185//vzmL...</td>\n",
       "      <td>Robin Williams|Jonathan Hyde|Kirsten Dunst|Bra...</td>\n",
       "      <td>381</td>\n",
       "      <td>16</td>\n",
       "      <td>Joe Johnston</td>\n",
       "    </tr>\n",
       "    <tr>\n",
       "      <th>2</th>\n",
       "      <td>15602</td>\n",
       "      <td>Grumpier Old Men</td>\n",
       "      <td>Still Yelling. Still Fighting. Still Ready for...</td>\n",
       "      <td>1995-12-22</td>\n",
       "      <td>Romance|Comedy</td>\n",
       "      <td>Grumpy Old Men Collection</td>\n",
       "      <td>en</td>\n",
       "      <td>NaN</td>\n",
       "      <td>NaN</td>\n",
       "      <td>Warner Bros.|Lancaster Gate</td>\n",
       "      <td>...</td>\n",
       "      <td>6.5</td>\n",
       "      <td>11.712900</td>\n",
       "      <td>101.0</td>\n",
       "      <td>A family wedding reignites the ancient feud be...</td>\n",
       "      <td>English</td>\n",
       "      <td>&lt;img src='http://image.tmdb.org/t/p/w185//6ksm...</td>\n",
       "      <td>Walter Matthau|Jack Lemmon|Ann-Margret|Sophia ...</td>\n",
       "      <td>94</td>\n",
       "      <td>4</td>\n",
       "      <td>Howard Deutch</td>\n",
       "    </tr>\n",
       "    <tr>\n",
       "      <th>3</th>\n",
       "      <td>31357</td>\n",
       "      <td>Waiting to Exhale</td>\n",
       "      <td>Friends are the people who let you be yourself...</td>\n",
       "      <td>1995-12-22</td>\n",
       "      <td>Comedy|Drama|Romance</td>\n",
       "      <td>NaN</td>\n",
       "      <td>en</td>\n",
       "      <td>16.0</td>\n",
       "      <td>81.452156</td>\n",
       "      <td>Twentieth Century Fox Film Corporation</td>\n",
       "      <td>...</td>\n",
       "      <td>6.1</td>\n",
       "      <td>3.859495</td>\n",
       "      <td>127.0</td>\n",
       "      <td>Cheated on, mistreated and stepped on, the wom...</td>\n",
       "      <td>English</td>\n",
       "      <td>&lt;img src='http://image.tmdb.org/t/p/w185//16XO...</td>\n",
       "      <td>Whitney Houston|Angela Bassett|Loretta Devine|...</td>\n",
       "      <td>149</td>\n",
       "      <td>10</td>\n",
       "      <td>Forest Whitaker</td>\n",
       "    </tr>\n",
       "    <tr>\n",
       "      <th>4</th>\n",
       "      <td>11862</td>\n",
       "      <td>Father of the Bride Part II</td>\n",
       "      <td>Just When His World Is Back To Normal... He's ...</td>\n",
       "      <td>1995-02-10</td>\n",
       "      <td>Comedy</td>\n",
       "      <td>Father of the Bride Collection</td>\n",
       "      <td>en</td>\n",
       "      <td>NaN</td>\n",
       "      <td>76.578911</td>\n",
       "      <td>Sandollar Productions|Touchstone Pictures</td>\n",
       "      <td>...</td>\n",
       "      <td>5.7</td>\n",
       "      <td>8.387519</td>\n",
       "      <td>106.0</td>\n",
       "      <td>Just when George Banks has recovered from his ...</td>\n",
       "      <td>English</td>\n",
       "      <td>&lt;img src='http://image.tmdb.org/t/p/w185//e64s...</td>\n",
       "      <td>Steve Martin|Diane Keaton|Martin Short|Kimberl...</td>\n",
       "      <td>176</td>\n",
       "      <td>7</td>\n",
       "      <td>Charles Shyer</td>\n",
       "    </tr>\n",
       "  </tbody>\n",
       "</table>\n",
       "<p>5 rows × 22 columns</p>\n",
       "</div>"
      ],
      "text/plain": [
       "      id                        title  \\\n",
       "0    862                    Toy Story   \n",
       "1   8844                      Jumanji   \n",
       "2  15602             Grumpier Old Men   \n",
       "3  31357            Waiting to Exhale   \n",
       "4  11862  Father of the Bride Part II   \n",
       "\n",
       "                                             tagline release_date  \\\n",
       "0                                                NaN   1995-10-30   \n",
       "1          Roll the dice and unleash the excitement!   1995-12-15   \n",
       "2  Still Yelling. Still Fighting. Still Ready for...   1995-12-22   \n",
       "3  Friends are the people who let you be yourself...   1995-12-22   \n",
       "4  Just When His World Is Back To Normal... He's ...   1995-02-10   \n",
       "\n",
       "                     genres           belongs_to_collection original_language  \\\n",
       "0   Animation|Comedy|Family            Toy Story Collection                en   \n",
       "1  Adventure|Fantasy|Family                             NaN                en   \n",
       "2            Romance|Comedy       Grumpy Old Men Collection                en   \n",
       "3      Comedy|Drama|Romance                             NaN                en   \n",
       "4                    Comedy  Father of the Bride Collection                en   \n",
       "\n",
       "   budget_musd  revenue_musd  \\\n",
       "0         30.0    373.554033   \n",
       "1         65.0    262.797249   \n",
       "2          NaN           NaN   \n",
       "3         16.0     81.452156   \n",
       "4          NaN     76.578911   \n",
       "\n",
       "                                production_companies  ... vote_average  \\\n",
       "0                            Pixar Animation Studios  ...          7.7   \n",
       "1  TriStar Pictures|Teitler Film|Interscope Commu...  ...          6.9   \n",
       "2                        Warner Bros.|Lancaster Gate  ...          6.5   \n",
       "3             Twentieth Century Fox Film Corporation  ...          6.1   \n",
       "4          Sandollar Productions|Touchstone Pictures  ...          5.7   \n",
       "\n",
       "   popularity  runtime                                           overview  \\\n",
       "0   21.946943     81.0  Led by Woody, Andy's toys live happily in his ...   \n",
       "1   17.015539    104.0  When siblings Judy and Peter discover an encha...   \n",
       "2   11.712900    101.0  A family wedding reignites the ancient feud be...   \n",
       "3    3.859495    127.0  Cheated on, mistreated and stepped on, the wom...   \n",
       "4    8.387519    106.0  Just when George Banks has recovered from his ...   \n",
       "\n",
       "   spoken_languages                                        poster_path  \\\n",
       "0           English  <img src='http://image.tmdb.org/t/p/w185//rhIR...   \n",
       "1  English|Français  <img src='http://image.tmdb.org/t/p/w185//vzmL...   \n",
       "2           English  <img src='http://image.tmdb.org/t/p/w185//6ksm...   \n",
       "3           English  <img src='http://image.tmdb.org/t/p/w185//16XO...   \n",
       "4           English  <img src='http://image.tmdb.org/t/p/w185//e64s...   \n",
       "\n",
       "                                                cast cast_size crew_size  \\\n",
       "0  Tom Hanks|Tim Allen|Don Rickles|Jim Varney|Wal...       170       106   \n",
       "1  Robin Williams|Jonathan Hyde|Kirsten Dunst|Bra...       381        16   \n",
       "2  Walter Matthau|Jack Lemmon|Ann-Margret|Sophia ...        94         4   \n",
       "3  Whitney Houston|Angela Bassett|Loretta Devine|...       149        10   \n",
       "4  Steve Martin|Diane Keaton|Martin Short|Kimberl...       176         7   \n",
       "\n",
       "          director  \n",
       "0    John Lasseter  \n",
       "1     Joe Johnston  \n",
       "2    Howard Deutch  \n",
       "3  Forest Whitaker  \n",
       "4    Charles Shyer  \n",
       "\n",
       "[5 rows x 22 columns]"
      ]
     },
     "execution_count": 25,
     "metadata": {},
     "output_type": "execute_result"
    }
   ],
   "source": [
    "movies_full.head()"
   ]
  }
 ],
 "metadata": {
  "colab": {
   "collapsed_sections": [],
   "name": "Mergin Data (Movies Dataset.ipynb",
   "provenance": []
  },
  "kernelspec": {
   "display_name": "Python 3",
   "language": "python",
   "name": "python3"
  },
  "language_info": {
   "codemirror_mode": {
    "name": "ipython",
    "version": 3
   },
   "file_extension": ".py",
   "mimetype": "text/x-python",
   "name": "python",
   "nbconvert_exporter": "python",
   "pygments_lexer": "ipython3",
   "version": "3.8.5"
  }
 },
 "nbformat": 4,
 "nbformat_minor": 4
}
