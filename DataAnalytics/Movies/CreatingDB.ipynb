{
 "cells": [
  {
   "cell_type": "markdown",
   "metadata": {
    "id": "9E_3y_ppXXKO"
   },
   "source": [
    "# Imports "
   ]
  },
  {
   "cell_type": "code",
   "execution_count": 2,
   "metadata": {},
   "outputs": [],
   "source": [
    "import pandas as pd\n",
    "pd.options.display.max_rows = 4\n",
    "import json\n",
    "import sqlite3 as sq3"
   ]
  },
  {
   "cell_type": "markdown",
   "metadata": {
    "id": "n1mVhsclXXKO"
   },
   "source": [
    "# Data"
   ]
  },
  {
   "cell_type": "code",
   "execution_count": 3,
   "metadata": {
    "id": "PFfsyhitXXKO"
   },
   "outputs": [],
   "source": [
    "with open(r\"C:\\Users\\CPL17\\OneDrive\\Documents\\Data\\some_movies.json\") as f:\n",
    "    data = json.load(f)"
   ]
  },
  {
   "cell_type": "code",
   "execution_count": 4,
   "metadata": {
    "id": "2xMZ2gPFXXKP"
   },
   "outputs": [],
   "source": [
    "df = pd.json_normalize(data, sep = \"_\")"
   ]
  },
  {
   "cell_type": "markdown",
   "metadata": {
    "colab": {
     "base_uri": "https://localhost:8080/",
     "height": 168
    },
    "id": "l8NCJc6RXXKP",
    "outputId": "8b250562-c0ab-4606-e5f9-1a990276e265"
   },
   "source": [
    "df.head(1)"
   ]
  },
  {
   "cell_type": "markdown",
   "metadata": {},
   "source": [
    "# Create Tables"
   ]
  },
  {
   "cell_type": "code",
   "execution_count": 10,
   "metadata": {
    "id": "tL-Q91OgXXKP"
   },
   "outputs": [],
   "source": [
    "movies = df[[\"id\", \"title\", \"revenue\", \"budget\", \"belongs_to_collection_name\", \"release_date\"]].copy()"
   ]
  },
  {
   "cell_type": "code",
   "execution_count": 11,
   "metadata": {
    "id": "-vPNK7NdXXKQ"
   },
   "outputs": [],
   "source": [
    "movies.release_date = pd.to_datetime(df.release_date)\n",
    "movies.revenue = df.revenue/1000000\n",
    "movies.budget = df.budget/1000000"
   ]
  },
  {
   "cell_type": "code",
   "execution_count": 12,
   "metadata": {
    "id": "SkrzLcvzXXKQ"
   },
   "outputs": [],
   "source": [
    "votes = df[[\"id\", \"vote_count\", \"vote_average\"]].copy()"
   ]
  },
  {
   "cell_type": "code",
   "execution_count": 13,
   "metadata": {
    "id": "iroF_GQTXXKQ"
   },
   "outputs": [],
   "source": [
    "genres = pd.json_normalize(data = data, record_path = \"genres\", meta = \"id\", record_prefix = \"genre_\")"
   ]
  },
  {
   "cell_type": "code",
   "execution_count": 14,
   "metadata": {
    "id": "BM7lDM-OXXKR"
   },
   "outputs": [],
   "source": [
    "prod = pd.json_normalize(data = data, record_path = \"production_companies\", meta = \"id\", record_prefix = \"comp_\")"
   ]
  },
  {
   "cell_type": "markdown",
   "metadata": {
    "id": "lPdcKTt1Ynqx"
   },
   "source": [
    "# Connect to and add tables to a database"
   ]
  },
  {
   "cell_type": "code",
   "execution_count": 15,
   "metadata": {
    "id": "DmBRcw4yXXKR"
   },
   "outputs": [],
   "source": [
    "con = sq3.connect(\"movies.db\")"
   ]
  },
  {
   "cell_type": "code",
   "execution_count": 16,
   "metadata": {
    "id": "8tV4QMeTXXKR"
   },
   "outputs": [],
   "source": [
    "movies.to_sql(\"Movies\", con, index = False)\n",
    "votes.to_sql(\"Votes\", con, index = False)\n",
    "genres.to_sql(\"Genres\", con, index = False)\n",
    "prod.to_sql(\"Prod\", con, index = False)"
   ]
  },
  {
   "cell_type": "code",
   "execution_count": null,
   "metadata": {
    "colab": {
     "base_uri": "https://localhost:8080/"
    },
    "id": "b45tmzySXXKS",
    "outputId": "9ad57258-244f-4c99-b9e8-71812f6bb4f9"
   },
   "outputs": [
    {
     "data": {
      "text/plain": [
       "[('table',\n",
       "  'Movies',\n",
       "  'Movies',\n",
       "  2,\n",
       "  'CREATE TABLE \"Movies\" (\\n\"id\" INTEGER,\\n  \"title\" TEXT,\\n  \"revenue\" REAL,\\n  \"budget\" REAL,\\n  \"belongs_to_collection_name\" TEXT,\\n  \"release_date\" TIMESTAMP\\n)'),\n",
       " ('table',\n",
       "  'Votes',\n",
       "  'Votes',\n",
       "  3,\n",
       "  'CREATE TABLE \"Votes\" (\\n\"id\" INTEGER,\\n  \"vote_count\" INTEGER,\\n  \"vote_average\" REAL\\n)'),\n",
       " ('table',\n",
       "  'Genres',\n",
       "  'Genres',\n",
       "  4,\n",
       "  'CREATE TABLE \"Genres\" (\\n\"genre_id\" INTEGER,\\n  \"genre_name\" TEXT,\\n  \"id\" INTEGER\\n)'),\n",
       " ('table',\n",
       "  'Prod',\n",
       "  'Prod',\n",
       "  5,\n",
       "  'CREATE TABLE \"Prod\" (\\n\"comp_id\" INTEGER,\\n  \"comp_logo_path\" TEXT,\\n  \"comp_name\" TEXT,\\n  \"comp_origin_country\" TEXT,\\n  \"id\" INTEGER\\n)')]"
      ]
     },
     "execution_count": 26,
     "metadata": {
      "tags": []
     },
     "output_type": "execute_result"
    }
   ],
   "source": [
    "#Tables \n",
    "\n",
    "con.execute(\"Select * FROM sqlite_master\").fetchall()"
   ]
  },
  {
   "cell_type": "code",
   "execution_count": null,
   "metadata": {
    "colab": {
     "base_uri": "https://localhost:8080/"
    },
    "id": "gNUhJiHPXXKS",
    "outputId": "8583cbc0-270c-4ce6-cdc7-53e5a731d13b"
   },
   "outputs": [
    {
     "data": {
      "text/plain": [
       "[('Genres',), ('Movies',), ('Prod',), ('Votes',)]"
      ]
     },
     "execution_count": 27,
     "metadata": {
      "tags": []
     },
     "output_type": "execute_result"
    }
   ],
   "source": [
    "#Table names \n",
    "con.execute(\"SELECT name FROM sqlite_master WHERE type='table' ORDER BY name\").fetchall()"
   ]
  },
  {
   "cell_type": "markdown",
   "metadata": {
    "id": "v0PrfMHmXXKT"
   },
   "source": [
    "## Loading Data from SQLite Databases into DataFrames"
   ]
  },
  {
   "cell_type": "code",
   "execution_count": null,
   "metadata": {
    "colab": {
     "base_uri": "https://localhost:8080/",
     "height": 204
    },
    "id": "fpYcILbzXXKT",
    "outputId": "c3b346d3-358b-430d-a28c-0ff2898a9238"
   },
   "outputs": [
    {
     "data": {
      "text/html": [
       "<div>\n",
       "<style scoped>\n",
       "    .dataframe tbody tr th:only-of-type {\n",
       "        vertical-align: middle;\n",
       "    }\n",
       "\n",
       "    .dataframe tbody tr th {\n",
       "        vertical-align: top;\n",
       "    }\n",
       "\n",
       "    .dataframe thead th {\n",
       "        text-align: right;\n",
       "    }\n",
       "</style>\n",
       "<table border=\"1\" class=\"dataframe\">\n",
       "  <thead>\n",
       "    <tr style=\"text-align: right;\">\n",
       "      <th></th>\n",
       "      <th>id</th>\n",
       "      <th>title</th>\n",
       "      <th>revenue</th>\n",
       "      <th>budget</th>\n",
       "      <th>belongs_to_collection_name</th>\n",
       "      <th>release_date</th>\n",
       "    </tr>\n",
       "  </thead>\n",
       "  <tbody>\n",
       "    <tr>\n",
       "      <th>0</th>\n",
       "      <td>299534</td>\n",
       "      <td>Avengers: Endgame</td>\n",
       "      <td>2797.800564</td>\n",
       "      <td>356.0</td>\n",
       "      <td>The Avengers Collection</td>\n",
       "      <td>2019-04-24 00:00:00</td>\n",
       "    </tr>\n",
       "    <tr>\n",
       "      <th>1</th>\n",
       "      <td>19995</td>\n",
       "      <td>Avatar</td>\n",
       "      <td>2787.965087</td>\n",
       "      <td>237.0</td>\n",
       "      <td>Avatar Collection</td>\n",
       "      <td>2009-12-10 00:00:00</td>\n",
       "    </tr>\n",
       "    <tr>\n",
       "      <th>2</th>\n",
       "      <td>140607</td>\n",
       "      <td>Star Wars: The Force Awakens</td>\n",
       "      <td>2068.223624</td>\n",
       "      <td>245.0</td>\n",
       "      <td>Star Wars Collection</td>\n",
       "      <td>2015-12-15 00:00:00</td>\n",
       "    </tr>\n",
       "    <tr>\n",
       "      <th>3</th>\n",
       "      <td>299536</td>\n",
       "      <td>Avengers: Infinity War</td>\n",
       "      <td>2046.239637</td>\n",
       "      <td>300.0</td>\n",
       "      <td>The Avengers Collection</td>\n",
       "      <td>2018-04-25 00:00:00</td>\n",
       "    </tr>\n",
       "    <tr>\n",
       "      <th>4</th>\n",
       "      <td>597</td>\n",
       "      <td>Titanic</td>\n",
       "      <td>1845.034188</td>\n",
       "      <td>200.0</td>\n",
       "      <td>None</td>\n",
       "      <td>1997-11-18 00:00:00</td>\n",
       "    </tr>\n",
       "  </tbody>\n",
       "</table>\n",
       "</div>"
      ],
      "text/plain": [
       "       id  ...         release_date\n",
       "0  299534  ...  2019-04-24 00:00:00\n",
       "1   19995  ...  2009-12-10 00:00:00\n",
       "2  140607  ...  2015-12-15 00:00:00\n",
       "3  299536  ...  2018-04-25 00:00:00\n",
       "4     597  ...  1997-11-18 00:00:00\n",
       "\n",
       "[5 rows x 6 columns]"
      ]
     },
     "execution_count": 32,
     "metadata": {
      "tags": []
     },
     "output_type": "execute_result"
    }
   ],
   "source": [
    "pd.read_sql(\"SELECT * FROM Movies\", con).head()"
   ]
  },
  {
   "cell_type": "code",
   "execution_count": null,
   "metadata": {
    "colab": {
     "base_uri": "https://localhost:8080/",
     "height": 173
    },
    "id": "-WFBSi3GXXKT",
    "outputId": "2c1d7a58-ab53-4b3c-af6f-fa2a70304965"
   },
   "outputs": [
    {
     "data": {
      "text/html": [
       "<div>\n",
       "<style scoped>\n",
       "    .dataframe tbody tr th:only-of-type {\n",
       "        vertical-align: middle;\n",
       "    }\n",
       "\n",
       "    .dataframe tbody tr th {\n",
       "        vertical-align: top;\n",
       "    }\n",
       "\n",
       "    .dataframe thead th {\n",
       "        text-align: right;\n",
       "    }\n",
       "</style>\n",
       "<table border=\"1\" class=\"dataframe\">\n",
       "  <thead>\n",
       "    <tr style=\"text-align: right;\">\n",
       "      <th></th>\n",
       "      <th>title</th>\n",
       "      <th>revenue</th>\n",
       "      <th>budget</th>\n",
       "      <th>belongs_to_collection_name</th>\n",
       "      <th>release_date</th>\n",
       "    </tr>\n",
       "    <tr>\n",
       "      <th>id</th>\n",
       "      <th></th>\n",
       "      <th></th>\n",
       "      <th></th>\n",
       "      <th></th>\n",
       "      <th></th>\n",
       "    </tr>\n",
       "  </thead>\n",
       "  <tbody>\n",
       "    <tr>\n",
       "      <th>299534</th>\n",
       "      <td>Avengers: Endgame</td>\n",
       "      <td>2797.800564</td>\n",
       "      <td>356.0</td>\n",
       "      <td>The Avengers Collection</td>\n",
       "      <td>2019-04-24</td>\n",
       "    </tr>\n",
       "    <tr>\n",
       "      <th>19995</th>\n",
       "      <td>Avatar</td>\n",
       "      <td>2787.965087</td>\n",
       "      <td>237.0</td>\n",
       "      <td>Avatar Collection</td>\n",
       "      <td>2009-12-10</td>\n",
       "    </tr>\n",
       "    <tr>\n",
       "      <th>140607</th>\n",
       "      <td>Star Wars: The Force Awakens</td>\n",
       "      <td>2068.223624</td>\n",
       "      <td>245.0</td>\n",
       "      <td>Star Wars Collection</td>\n",
       "      <td>2015-12-15</td>\n",
       "    </tr>\n",
       "  </tbody>\n",
       "</table>\n",
       "</div>"
      ],
      "text/plain": [
       "                               title  ...  release_date\n",
       "id                                    ...              \n",
       "299534             Avengers: Endgame  ...    2019-04-24\n",
       "19995                         Avatar  ...    2009-12-10\n",
       "140607  Star Wars: The Force Awakens  ...    2015-12-15\n",
       "\n",
       "[3 rows x 5 columns]"
      ]
     },
     "execution_count": 33,
     "metadata": {
      "tags": []
     },
     "output_type": "execute_result"
    }
   ],
   "source": [
    "df = pd.read_sql(\"SELECT * FROM Movies\", con, index_col = \"id\", parse_dates = \"release_date\")\n",
    "df.head(3)"
   ]
  },
  {
   "cell_type": "markdown",
   "metadata": {
    "id": "7WHDZb0OXXKU"
   },
   "source": [
    "##  Some Simple SQL Queries"
   ]
  },
  {
   "cell_type": "code",
   "execution_count": null,
   "metadata": {
    "colab": {
     "base_uri": "https://localhost:8080/",
     "height": 233
    },
    "id": "pDDWhsPKXXKV",
    "outputId": "c93684f0-ad25-4c54-b0a8-3f8a672589b1"
   },
   "outputs": [
    {
     "data": {
      "text/html": [
       "<div>\n",
       "<style scoped>\n",
       "    .dataframe tbody tr th:only-of-type {\n",
       "        vertical-align: middle;\n",
       "    }\n",
       "\n",
       "    .dataframe tbody tr th {\n",
       "        vertical-align: top;\n",
       "    }\n",
       "\n",
       "    .dataframe thead th {\n",
       "        text-align: right;\n",
       "    }\n",
       "</style>\n",
       "<table border=\"1\" class=\"dataframe\">\n",
       "  <thead>\n",
       "    <tr style=\"text-align: right;\">\n",
       "      <th></th>\n",
       "      <th>id</th>\n",
       "      <th>title</th>\n",
       "      <th>revenue</th>\n",
       "      <th>budget</th>\n",
       "      <th>belongs_to_collection_name</th>\n",
       "      <th>release_date</th>\n",
       "    </tr>\n",
       "  </thead>\n",
       "  <tbody>\n",
       "    <tr>\n",
       "      <th>0</th>\n",
       "      <td>299534</td>\n",
       "      <td>Avengers: Endgame</td>\n",
       "      <td>2797.800564</td>\n",
       "      <td>356.0</td>\n",
       "      <td>The Avengers Collection</td>\n",
       "      <td>2019-04-24 00:00:00</td>\n",
       "    </tr>\n",
       "    <tr>\n",
       "      <th>1</th>\n",
       "      <td>19995</td>\n",
       "      <td>Avatar</td>\n",
       "      <td>2787.965087</td>\n",
       "      <td>237.0</td>\n",
       "      <td>Avatar Collection</td>\n",
       "      <td>2009-12-10 00:00:00</td>\n",
       "    </tr>\n",
       "    <tr>\n",
       "      <th>...</th>\n",
       "      <td>...</td>\n",
       "      <td>...</td>\n",
       "      <td>...</td>\n",
       "      <td>...</td>\n",
       "      <td>...</td>\n",
       "      <td>...</td>\n",
       "    </tr>\n",
       "    <tr>\n",
       "      <th>16</th>\n",
       "      <td>321612</td>\n",
       "      <td>Beauty and the Beast</td>\n",
       "      <td>1263.521126</td>\n",
       "      <td>160.0</td>\n",
       "      <td>None</td>\n",
       "      <td>2017-03-16 00:00:00</td>\n",
       "    </tr>\n",
       "    <tr>\n",
       "      <th>17</th>\n",
       "      <td>260513</td>\n",
       "      <td>Incredibles 2</td>\n",
       "      <td>1241.891456</td>\n",
       "      <td>200.0</td>\n",
       "      <td>The Incredibles Collection</td>\n",
       "      <td>2018-06-14 00:00:00</td>\n",
       "    </tr>\n",
       "  </tbody>\n",
       "</table>\n",
       "<p>18 rows × 6 columns</p>\n",
       "</div>"
      ],
      "text/plain": [
       "        id  ...         release_date\n",
       "0   299534  ...  2019-04-24 00:00:00\n",
       "1    19995  ...  2009-12-10 00:00:00\n",
       "..     ...  ...                  ...\n",
       "16  321612  ...  2017-03-16 00:00:00\n",
       "17  260513  ...  2018-06-14 00:00:00\n",
       "\n",
       "[18 rows x 6 columns]"
      ]
     },
     "execution_count": 41,
     "metadata": {
      "tags": []
     },
     "output_type": "execute_result"
    }
   ],
   "source": [
    "pd.read_sql(\"SELECT * \\\n",
    "            FROM Movies\", con)"
   ]
  },
  {
   "cell_type": "code",
   "execution_count": null,
   "metadata": {
    "colab": {
     "base_uri": "https://localhost:8080/"
    },
    "id": "hcgVR0TzXXKV",
    "outputId": "7f7cee5c-c06b-49ce-eefa-e6a204e40a47"
   },
   "outputs": [
    {
     "data": {
      "text/plain": [
       "29748.575327000002"
      ]
     },
     "execution_count": 44,
     "metadata": {
      "tags": []
     },
     "output_type": "execute_result"
    }
   ],
   "source": [
    "con.execute(\"SELECT sum(revenue) FROM Movies\").fetchall()[0][0]"
   ]
  },
  {
   "cell_type": "markdown",
   "metadata": {
    "id": "xJCUIjoLXXKW"
   },
   "source": [
    "## Some more SQL Queries"
   ]
  },
  {
   "cell_type": "code",
   "execution_count": null,
   "metadata": {
    "colab": {
     "base_uri": "https://localhost:8080/",
     "height": 111
    },
    "id": "DI5ofVj2XXKX",
    "outputId": "507f3227-3d60-4e9f-8017-cceb6a985081"
   },
   "outputs": [
    {
     "data": {
      "text/html": [
       "<div>\n",
       "<style scoped>\n",
       "    .dataframe tbody tr th:only-of-type {\n",
       "        vertical-align: middle;\n",
       "    }\n",
       "\n",
       "    .dataframe tbody tr th {\n",
       "        vertical-align: top;\n",
       "    }\n",
       "\n",
       "    .dataframe thead th {\n",
       "        text-align: right;\n",
       "    }\n",
       "</style>\n",
       "<table border=\"1\" class=\"dataframe\">\n",
       "  <thead>\n",
       "    <tr style=\"text-align: right;\">\n",
       "      <th></th>\n",
       "      <th>id</th>\n",
       "      <th>title</th>\n",
       "      <th>revenue</th>\n",
       "      <th>budget</th>\n",
       "      <th>belongs_to_collection_name</th>\n",
       "      <th>release_date</th>\n",
       "    </tr>\n",
       "  </thead>\n",
       "  <tbody>\n",
       "    <tr>\n",
       "      <th>0</th>\n",
       "      <td>135397</td>\n",
       "      <td>Jurassic World</td>\n",
       "      <td>1671.713208</td>\n",
       "      <td>150.0</td>\n",
       "      <td>Jurassic Park Collection</td>\n",
       "      <td>2015-06-06 00:00:00</td>\n",
       "    </tr>\n",
       "    <tr>\n",
       "      <th>1</th>\n",
       "      <td>168259</td>\n",
       "      <td>Furious 7</td>\n",
       "      <td>1515.047671</td>\n",
       "      <td>190.0</td>\n",
       "      <td>The Fast and the Furious Collection</td>\n",
       "      <td>2015-04-01 00:00:00</td>\n",
       "    </tr>\n",
       "  </tbody>\n",
       "</table>\n",
       "</div>"
      ],
      "text/plain": [
       "       id  ...         release_date\n",
       "0  135397  ...  2015-06-06 00:00:00\n",
       "1  168259  ...  2015-04-01 00:00:00\n",
       "\n",
       "[2 rows x 6 columns]"
      ]
     },
     "execution_count": 54,
     "metadata": {
      "tags": []
     },
     "output_type": "execute_result"
    }
   ],
   "source": [
    "pd.read_sql(\"SELECT * FROM Movies WHERE revenue > 1500 AND budget < 200\", con)"
   ]
  },
  {
   "cell_type": "code",
   "execution_count": null,
   "metadata": {
    "colab": {
     "base_uri": "https://localhost:8080/",
     "height": 80
    },
    "id": "oRec3hrHXXKX",
    "outputId": "5a2ec287-9cf1-454f-db00-061ccb2e176b"
   },
   "outputs": [
    {
     "data": {
      "text/html": [
       "<div>\n",
       "<style scoped>\n",
       "    .dataframe tbody tr th:only-of-type {\n",
       "        vertical-align: middle;\n",
       "    }\n",
       "\n",
       "    .dataframe tbody tr th {\n",
       "        vertical-align: top;\n",
       "    }\n",
       "\n",
       "    .dataframe thead th {\n",
       "        text-align: right;\n",
       "    }\n",
       "</style>\n",
       "<table border=\"1\" class=\"dataframe\">\n",
       "  <thead>\n",
       "    <tr style=\"text-align: right;\">\n",
       "      <th></th>\n",
       "      <th>MIN(budget)</th>\n",
       "    </tr>\n",
       "  </thead>\n",
       "  <tbody>\n",
       "    <tr>\n",
       "      <th>0</th>\n",
       "      <td>125.0</td>\n",
       "    </tr>\n",
       "  </tbody>\n",
       "</table>\n",
       "</div>"
      ],
      "text/plain": [
       "   MIN(budget)\n",
       "0        125.0"
      ]
     },
     "execution_count": 55,
     "metadata": {
      "tags": []
     },
     "output_type": "execute_result"
    }
   ],
   "source": [
    "pd.read_sql(\"SELECT MIN(budget) FROM Movies WHERE revenue > 1250\", con)"
   ]
  },
  {
   "cell_type": "markdown",
   "metadata": {
    "id": "Lq8vRZm9XXKY"
   },
   "source": [
    "## Join Queries"
   ]
  },
  {
   "cell_type": "code",
   "execution_count": 17,
   "metadata": {
    "id": "AZCqgKRDXXKZ"
   },
   "outputs": [
    {
     "data": {
      "text/html": [
       "<div>\n",
       "<style scoped>\n",
       "    .dataframe tbody tr th:only-of-type {\n",
       "        vertical-align: middle;\n",
       "    }\n",
       "\n",
       "    .dataframe tbody tr th {\n",
       "        vertical-align: top;\n",
       "    }\n",
       "\n",
       "    .dataframe thead th {\n",
       "        text-align: right;\n",
       "    }\n",
       "</style>\n",
       "<table border=\"1\" class=\"dataframe\">\n",
       "  <thead>\n",
       "    <tr style=\"text-align: right;\">\n",
       "      <th></th>\n",
       "      <th>id</th>\n",
       "      <th>title</th>\n",
       "      <th>revenue</th>\n",
       "      <th>budget</th>\n",
       "      <th>belongs_to_collection_name</th>\n",
       "      <th>release_date</th>\n",
       "      <th>id</th>\n",
       "      <th>vote_count</th>\n",
       "      <th>vote_average</th>\n",
       "    </tr>\n",
       "  </thead>\n",
       "  <tbody>\n",
       "    <tr>\n",
       "      <th>0</th>\n",
       "      <td>299534</td>\n",
       "      <td>Avengers: Endgame</td>\n",
       "      <td>2797.800564</td>\n",
       "      <td>356.0</td>\n",
       "      <td>The Avengers Collection</td>\n",
       "      <td>2019-04-24 00:00:00</td>\n",
       "      <td>299534</td>\n",
       "      <td>12607</td>\n",
       "      <td>8.3</td>\n",
       "    </tr>\n",
       "    <tr>\n",
       "      <th>1</th>\n",
       "      <td>19995</td>\n",
       "      <td>Avatar</td>\n",
       "      <td>2787.965087</td>\n",
       "      <td>237.0</td>\n",
       "      <td>Avatar Collection</td>\n",
       "      <td>2009-12-10 00:00:00</td>\n",
       "      <td>19995</td>\n",
       "      <td>21000</td>\n",
       "      <td>7.4</td>\n",
       "    </tr>\n",
       "    <tr>\n",
       "      <th>...</th>\n",
       "      <td>...</td>\n",
       "      <td>...</td>\n",
       "      <td>...</td>\n",
       "      <td>...</td>\n",
       "      <td>...</td>\n",
       "      <td>...</td>\n",
       "      <td>...</td>\n",
       "      <td>...</td>\n",
       "      <td>...</td>\n",
       "    </tr>\n",
       "    <tr>\n",
       "      <th>16</th>\n",
       "      <td>321612</td>\n",
       "      <td>Beauty and the Beast</td>\n",
       "      <td>1263.521126</td>\n",
       "      <td>160.0</td>\n",
       "      <td>None</td>\n",
       "      <td>2017-03-16 00:00:00</td>\n",
       "      <td>321612</td>\n",
       "      <td>12203</td>\n",
       "      <td>6.9</td>\n",
       "    </tr>\n",
       "    <tr>\n",
       "      <th>17</th>\n",
       "      <td>260513</td>\n",
       "      <td>Incredibles 2</td>\n",
       "      <td>1241.891456</td>\n",
       "      <td>200.0</td>\n",
       "      <td>The Incredibles Collection</td>\n",
       "      <td>2018-06-14 00:00:00</td>\n",
       "      <td>260513</td>\n",
       "      <td>8147</td>\n",
       "      <td>7.5</td>\n",
       "    </tr>\n",
       "  </tbody>\n",
       "</table>\n",
       "<p>18 rows × 9 columns</p>\n",
       "</div>"
      ],
      "text/plain": [
       "        id                 title      revenue  budget  \\\n",
       "0   299534     Avengers: Endgame  2797.800564   356.0   \n",
       "1    19995                Avatar  2787.965087   237.0   \n",
       "..     ...                   ...          ...     ...   \n",
       "16  321612  Beauty and the Beast  1263.521126   160.0   \n",
       "17  260513         Incredibles 2  1241.891456   200.0   \n",
       "\n",
       "    belongs_to_collection_name         release_date      id  vote_count  \\\n",
       "0      The Avengers Collection  2019-04-24 00:00:00  299534       12607   \n",
       "1            Avatar Collection  2009-12-10 00:00:00   19995       21000   \n",
       "..                         ...                  ...     ...         ...   \n",
       "16                        None  2017-03-16 00:00:00  321612       12203   \n",
       "17  The Incredibles Collection  2018-06-14 00:00:00  260513        8147   \n",
       "\n",
       "    vote_average  \n",
       "0            8.3  \n",
       "1            7.4  \n",
       "..           ...  \n",
       "16           6.9  \n",
       "17           7.5  \n",
       "\n",
       "[18 rows x 9 columns]"
      ]
     },
     "execution_count": 17,
     "metadata": {},
     "output_type": "execute_result"
    }
   ],
   "source": [
    "pd.read_sql(\"SELECT * \\\n",
    "            FROM Movies \\\n",
    "            JOIN Votes \\\n",
    "            ON Movies.id=Votes.id\", con)"
   ]
  },
  {
   "cell_type": "code",
   "execution_count": 18,
   "metadata": {
    "id": "TPhx6eRIXXKZ"
   },
   "outputs": [
    {
     "data": {
      "text/html": [
       "<div>\n",
       "<style scoped>\n",
       "    .dataframe tbody tr th:only-of-type {\n",
       "        vertical-align: middle;\n",
       "    }\n",
       "\n",
       "    .dataframe tbody tr th {\n",
       "        vertical-align: top;\n",
       "    }\n",
       "\n",
       "    .dataframe thead th {\n",
       "        text-align: right;\n",
       "    }\n",
       "</style>\n",
       "<table border=\"1\" class=\"dataframe\">\n",
       "  <thead>\n",
       "    <tr style=\"text-align: right;\">\n",
       "      <th></th>\n",
       "      <th>title</th>\n",
       "      <th>vote_average</th>\n",
       "    </tr>\n",
       "    <tr>\n",
       "      <th>id</th>\n",
       "      <th></th>\n",
       "      <th></th>\n",
       "    </tr>\n",
       "  </thead>\n",
       "  <tbody>\n",
       "    <tr>\n",
       "      <th>299534</th>\n",
       "      <td>Avengers: Endgame</td>\n",
       "      <td>8.3</td>\n",
       "    </tr>\n",
       "    <tr>\n",
       "      <th>19995</th>\n",
       "      <td>Avatar</td>\n",
       "      <td>7.4</td>\n",
       "    </tr>\n",
       "    <tr>\n",
       "      <th>...</th>\n",
       "      <td>...</td>\n",
       "      <td>...</td>\n",
       "    </tr>\n",
       "    <tr>\n",
       "      <th>321612</th>\n",
       "      <td>Beauty and the Beast</td>\n",
       "      <td>6.9</td>\n",
       "    </tr>\n",
       "    <tr>\n",
       "      <th>260513</th>\n",
       "      <td>Incredibles 2</td>\n",
       "      <td>7.5</td>\n",
       "    </tr>\n",
       "  </tbody>\n",
       "</table>\n",
       "<p>18 rows × 2 columns</p>\n",
       "</div>"
      ],
      "text/plain": [
       "                       title  vote_average\n",
       "id                                        \n",
       "299534     Avengers: Endgame           8.3\n",
       "19995                 Avatar           7.4\n",
       "...                      ...           ...\n",
       "321612  Beauty and the Beast           6.9\n",
       "260513         Incredibles 2           7.5\n",
       "\n",
       "[18 rows x 2 columns]"
      ]
     },
     "execution_count": 18,
     "metadata": {},
     "output_type": "execute_result"
    }
   ],
   "source": [
    "pd.read_sql(\"SELECT Movies.id, Movies.title, Votes.vote_average \\\n",
    "            FROM Movies \\\n",
    "            JOIN Votes \\\n",
    "            ON Movies.id=Votes.id\", con, index_col = \"id\")"
   ]
  },
  {
   "cell_type": "code",
   "execution_count": 19,
   "metadata": {
    "id": "uRf9f_HZXXKa",
    "scrolled": true
   },
   "outputs": [
    {
     "data": {
      "text/html": [
       "<div>\n",
       "<style scoped>\n",
       "    .dataframe tbody tr th:only-of-type {\n",
       "        vertical-align: middle;\n",
       "    }\n",
       "\n",
       "    .dataframe tbody tr th {\n",
       "        vertical-align: top;\n",
       "    }\n",
       "\n",
       "    .dataframe thead th {\n",
       "        text-align: right;\n",
       "    }\n",
       "</style>\n",
       "<table border=\"1\" class=\"dataframe\">\n",
       "  <thead>\n",
       "    <tr style=\"text-align: right;\">\n",
       "      <th></th>\n",
       "      <th>title</th>\n",
       "      <th>budget</th>\n",
       "      <th>vote_average</th>\n",
       "    </tr>\n",
       "    <tr>\n",
       "      <th>id</th>\n",
       "      <th></th>\n",
       "      <th></th>\n",
       "      <th></th>\n",
       "    </tr>\n",
       "  </thead>\n",
       "  <tbody>\n",
       "    <tr>\n",
       "      <th>12445</th>\n",
       "      <td>Harry Potter and the Deathly Hallows: Part 2</td>\n",
       "      <td>125.0</td>\n",
       "      <td>8.1</td>\n",
       "    </tr>\n",
       "    <tr>\n",
       "      <th>299536</th>\n",
       "      <td>Avengers: Infinity War</td>\n",
       "      <td>300.0</td>\n",
       "      <td>8.3</td>\n",
       "    </tr>\n",
       "    <tr>\n",
       "      <th>299534</th>\n",
       "      <td>Avengers: Endgame</td>\n",
       "      <td>356.0</td>\n",
       "      <td>8.3</td>\n",
       "    </tr>\n",
       "  </tbody>\n",
       "</table>\n",
       "</div>"
      ],
      "text/plain": [
       "                                               title  budget  vote_average\n",
       "id                                                                        \n",
       "12445   Harry Potter and the Deathly Hallows: Part 2   125.0           8.1\n",
       "299536                        Avengers: Infinity War   300.0           8.3\n",
       "299534                             Avengers: Endgame   356.0           8.3"
      ]
     },
     "execution_count": 19,
     "metadata": {},
     "output_type": "execute_result"
    }
   ],
   "source": [
    "pd.read_sql(\"SELECT Movies.id, Movies.title, Movies.budget, Votes.vote_average \\\n",
    "            FROM Movies \\\n",
    "            JOIN Votes \\\n",
    "            ON Movies.id=Votes.id \\\n",
    "            WHERE Votes.vote_average > 8 \\\n",
    "            ORDER BY Movies.budget ASC\", con, index_col = \"id\")"
   ]
  },
  {
   "cell_type": "markdown",
   "metadata": {
    "id": "wxtnaIthXXKa"
   },
   "source": [
    "## Final Case Study"
   ]
  },
  {
   "cell_type": "code",
   "execution_count": null,
   "metadata": {},
   "outputs": [],
   "source": [
    "# Highest revenue production companies"
   ]
  },
  {
   "cell_type": "code",
   "execution_count": 22,
   "metadata": {
    "id": "IyowFRsGXXKb"
   },
   "outputs": [
    {
     "data": {
      "text/html": [
       "<div>\n",
       "<style scoped>\n",
       "    .dataframe tbody tr th:only-of-type {\n",
       "        vertical-align: middle;\n",
       "    }\n",
       "\n",
       "    .dataframe tbody tr th {\n",
       "        vertical-align: top;\n",
       "    }\n",
       "\n",
       "    .dataframe thead th {\n",
       "        text-align: right;\n",
       "    }\n",
       "</style>\n",
       "<table border=\"1\" class=\"dataframe\">\n",
       "  <thead>\n",
       "    <tr style=\"text-align: right;\">\n",
       "      <th></th>\n",
       "      <th>comp_id</th>\n",
       "      <th>comp_logo_path</th>\n",
       "      <th>comp_name</th>\n",
       "      <th>comp_origin_country</th>\n",
       "      <th>id</th>\n",
       "    </tr>\n",
       "  </thead>\n",
       "  <tbody>\n",
       "    <tr>\n",
       "      <th>0</th>\n",
       "      <td>420</td>\n",
       "      <td>/hUzeosd33nzE5MCNsZxCGEKTXaQ.png</td>\n",
       "      <td>Marvel Studios</td>\n",
       "      <td>US</td>\n",
       "      <td>299534</td>\n",
       "    </tr>\n",
       "    <tr>\n",
       "      <th>1</th>\n",
       "      <td>444</td>\n",
       "      <td>/42UPdZl6B2cFXgNUASR8hSt9mpS.png</td>\n",
       "      <td>Dune Entertainment</td>\n",
       "      <td>US</td>\n",
       "      <td>19995</td>\n",
       "    </tr>\n",
       "    <tr>\n",
       "      <th>...</th>\n",
       "      <td>...</td>\n",
       "      <td>...</td>\n",
       "      <td>...</td>\n",
       "      <td>...</td>\n",
       "      <td>...</td>\n",
       "    </tr>\n",
       "    <tr>\n",
       "      <th>50</th>\n",
       "      <td>2</td>\n",
       "      <td>/wdrCwmRnLFJhEoH8GSfymY85KHT.png</td>\n",
       "      <td>Walt Disney Pictures</td>\n",
       "      <td>US</td>\n",
       "      <td>260513</td>\n",
       "    </tr>\n",
       "    <tr>\n",
       "      <th>51</th>\n",
       "      <td>3</td>\n",
       "      <td>/1TjvGVDMYsj6JBxOAkUHpPEwLf7.png</td>\n",
       "      <td>Pixar</td>\n",
       "      <td>US</td>\n",
       "      <td>260513</td>\n",
       "    </tr>\n",
       "  </tbody>\n",
       "</table>\n",
       "<p>52 rows × 5 columns</p>\n",
       "</div>"
      ],
      "text/plain": [
       "    comp_id                    comp_logo_path             comp_name  \\\n",
       "0       420  /hUzeosd33nzE5MCNsZxCGEKTXaQ.png        Marvel Studios   \n",
       "1       444  /42UPdZl6B2cFXgNUASR8hSt9mpS.png    Dune Entertainment   \n",
       "..      ...                               ...                   ...   \n",
       "50        2  /wdrCwmRnLFJhEoH8GSfymY85KHT.png  Walt Disney Pictures   \n",
       "51        3  /1TjvGVDMYsj6JBxOAkUHpPEwLf7.png                 Pixar   \n",
       "\n",
       "   comp_origin_country      id  \n",
       "0                   US  299534  \n",
       "1                   US   19995  \n",
       "..                 ...     ...  \n",
       "50                  US  260513  \n",
       "51                  US  260513  \n",
       "\n",
       "[52 rows x 5 columns]"
      ]
     },
     "execution_count": 22,
     "metadata": {},
     "output_type": "execute_result"
    }
   ],
   "source": [
    "pd.read_sql(\"SELECT * FROM Prod\", con)"
   ]
  },
  {
   "cell_type": "code",
   "execution_count": 23,
   "metadata": {
    "id": "lH8wR08ZXXKb"
   },
   "outputs": [
    {
     "data": {
      "text/html": [
       "<div>\n",
       "<style scoped>\n",
       "    .dataframe tbody tr th:only-of-type {\n",
       "        vertical-align: middle;\n",
       "    }\n",
       "\n",
       "    .dataframe tbody tr th {\n",
       "        vertical-align: top;\n",
       "    }\n",
       "\n",
       "    .dataframe thead th {\n",
       "        text-align: right;\n",
       "    }\n",
       "</style>\n",
       "<table border=\"1\" class=\"dataframe\">\n",
       "  <thead>\n",
       "    <tr style=\"text-align: right;\">\n",
       "      <th></th>\n",
       "      <th>id</th>\n",
       "      <th>comp_name</th>\n",
       "      <th>revenue</th>\n",
       "      <th>title</th>\n",
       "    </tr>\n",
       "  </thead>\n",
       "  <tbody>\n",
       "    <tr>\n",
       "      <th>0</th>\n",
       "      <td>299534</td>\n",
       "      <td>Marvel Studios</td>\n",
       "      <td>2797.800564</td>\n",
       "      <td>Avengers: Endgame</td>\n",
       "    </tr>\n",
       "    <tr>\n",
       "      <th>1</th>\n",
       "      <td>19995</td>\n",
       "      <td>Dune Entertainment</td>\n",
       "      <td>2787.965087</td>\n",
       "      <td>Avatar</td>\n",
       "    </tr>\n",
       "    <tr>\n",
       "      <th>...</th>\n",
       "      <td>...</td>\n",
       "      <td>...</td>\n",
       "      <td>...</td>\n",
       "      <td>...</td>\n",
       "    </tr>\n",
       "    <tr>\n",
       "      <th>50</th>\n",
       "      <td>260513</td>\n",
       "      <td>Walt Disney Pictures</td>\n",
       "      <td>1241.891456</td>\n",
       "      <td>Incredibles 2</td>\n",
       "    </tr>\n",
       "    <tr>\n",
       "      <th>51</th>\n",
       "      <td>260513</td>\n",
       "      <td>Pixar</td>\n",
       "      <td>1241.891456</td>\n",
       "      <td>Incredibles 2</td>\n",
       "    </tr>\n",
       "  </tbody>\n",
       "</table>\n",
       "<p>52 rows × 4 columns</p>\n",
       "</div>"
      ],
      "text/plain": [
       "        id             comp_name      revenue              title\n",
       "0   299534        Marvel Studios  2797.800564  Avengers: Endgame\n",
       "1    19995    Dune Entertainment  2787.965087             Avatar\n",
       "..     ...                   ...          ...                ...\n",
       "50  260513  Walt Disney Pictures  1241.891456      Incredibles 2\n",
       "51  260513                 Pixar  1241.891456      Incredibles 2\n",
       "\n",
       "[52 rows x 4 columns]"
      ]
     },
     "execution_count": 23,
     "metadata": {},
     "output_type": "execute_result"
    }
   ],
   "source": [
    "df = pd.read_sql(\"SELECT Prod.id, Prod.comp_name, Movies.revenue, Movies.title \\\n",
    "            FROM Prod \\\n",
    "            LEFT JOIN Movies \\\n",
    "            ON Prod.id=Movies.id\", con)\n",
    "df"
   ]
  },
  {
   "cell_type": "code",
   "execution_count": 26,
   "metadata": {
    "id": "uJLaelCqXXKb"
   },
   "outputs": [
    {
     "data": {
      "text/plain": [
       "comp_name\n",
       "Walt Disney Pictures    9446.618940\n",
       "Marvel Studios          9115.740912\n",
       "                           ...     \n",
       "Mandeville Films        1263.521126\n",
       "Pixar                   1241.891456\n",
       "Name: revenue, Length: 31, dtype: float64"
      ]
     },
     "execution_count": 26,
     "metadata": {},
     "output_type": "execute_result"
    }
   ],
   "source": [
    "df.groupby(\"comp_name\").revenue.sum().sort_values(ascending = False)"
   ]
  },
  {
   "cell_type": "code",
   "execution_count": null,
   "metadata": {},
   "outputs": [],
   "source": [
    "# Highest grossing genres"
   ]
  },
  {
   "cell_type": "code",
   "execution_count": 27,
   "metadata": {
    "id": "OJXpX-2AXXKb"
   },
   "outputs": [
    {
     "data": {
      "text/html": [
       "<div>\n",
       "<style scoped>\n",
       "    .dataframe tbody tr th:only-of-type {\n",
       "        vertical-align: middle;\n",
       "    }\n",
       "\n",
       "    .dataframe tbody tr th {\n",
       "        vertical-align: top;\n",
       "    }\n",
       "\n",
       "    .dataframe thead th {\n",
       "        text-align: right;\n",
       "    }\n",
       "</style>\n",
       "<table border=\"1\" class=\"dataframe\">\n",
       "  <thead>\n",
       "    <tr style=\"text-align: right;\">\n",
       "      <th></th>\n",
       "      <th>id</th>\n",
       "      <th>genre_name</th>\n",
       "      <th>revenue</th>\n",
       "      <th>title</th>\n",
       "    </tr>\n",
       "  </thead>\n",
       "  <tbody>\n",
       "    <tr>\n",
       "      <th>0</th>\n",
       "      <td>299534</td>\n",
       "      <td>Adventure</td>\n",
       "      <td>2797.800564</td>\n",
       "      <td>Avengers: Endgame</td>\n",
       "    </tr>\n",
       "    <tr>\n",
       "      <th>1</th>\n",
       "      <td>299534</td>\n",
       "      <td>Science Fiction</td>\n",
       "      <td>2797.800564</td>\n",
       "      <td>Avengers: Endgame</td>\n",
       "    </tr>\n",
       "    <tr>\n",
       "      <th>...</th>\n",
       "      <td>...</td>\n",
       "      <td>...</td>\n",
       "      <td>...</td>\n",
       "      <td>...</td>\n",
       "    </tr>\n",
       "    <tr>\n",
       "      <th>53</th>\n",
       "      <td>260513</td>\n",
       "      <td>Animation</td>\n",
       "      <td>1241.891456</td>\n",
       "      <td>Incredibles 2</td>\n",
       "    </tr>\n",
       "    <tr>\n",
       "      <th>54</th>\n",
       "      <td>260513</td>\n",
       "      <td>Family</td>\n",
       "      <td>1241.891456</td>\n",
       "      <td>Incredibles 2</td>\n",
       "    </tr>\n",
       "  </tbody>\n",
       "</table>\n",
       "<p>55 rows × 4 columns</p>\n",
       "</div>"
      ],
      "text/plain": [
       "        id       genre_name      revenue              title\n",
       "0   299534        Adventure  2797.800564  Avengers: Endgame\n",
       "1   299534  Science Fiction  2797.800564  Avengers: Endgame\n",
       "..     ...              ...          ...                ...\n",
       "53  260513        Animation  1241.891456      Incredibles 2\n",
       "54  260513           Family  1241.891456      Incredibles 2\n",
       "\n",
       "[55 rows x 4 columns]"
      ]
     },
     "execution_count": 27,
     "metadata": {},
     "output_type": "execute_result"
    }
   ],
   "source": [
    "df2 = pd.read_sql(\"SELECT Genres.id, Genres.genre_name, Movies.revenue, Movies.title \\\n",
    "            FROM Genres \\\n",
    "            LEFT JOIN Movies \\\n",
    "            ON Genres.id=Movies.id\", con)\n",
    "df2"
   ]
  },
  {
   "cell_type": "code",
   "execution_count": 28,
   "metadata": {
    "id": "nMJ3U6uGXXKc"
   },
   "outputs": [
    {
     "data": {
      "text/plain": [
       "genre_name\n",
       "Adventure    25124.972342\n",
       "Action       21036.581432\n",
       "                 ...     \n",
       "Romance       3108.555314\n",
       "Drama         1845.034188\n",
       "Name: revenue, Length: 9, dtype: float64"
      ]
     },
     "execution_count": 28,
     "metadata": {},
     "output_type": "execute_result"
    }
   ],
   "source": [
    "df2.groupby(\"genre_name\").revenue.sum().sort_values(ascending = False)"
   ]
  }
 ],
 "metadata": {
  "colab": {
   "collapsed_sections": [],
   "name": "Pandas_SQL.ipynb",
   "provenance": []
  },
  "kernelspec": {
   "display_name": "Python 3",
   "language": "python",
   "name": "python3"
  },
  "language_info": {
   "codemirror_mode": {
    "name": "ipython",
    "version": 3
   },
   "file_extension": ".py",
   "mimetype": "text/x-python",
   "name": "python",
   "nbconvert_exporter": "python",
   "pygments_lexer": "ipython3",
   "version": "3.8.5"
  }
 },
 "nbformat": 4,
 "nbformat_minor": 4
}
