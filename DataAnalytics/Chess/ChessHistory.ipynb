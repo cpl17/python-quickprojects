{
 "cells": [
  {
   "cell_type": "code",
   "execution_count": null,
   "source": [],
   "outputs": [],
   "metadata": {}
  },
  {
   "cell_type": "markdown",
   "source": [
    "# Project Overview"
   ],
   "metadata": {}
  },
  {
   "cell_type": "markdown",
   "source": [
    "By some accounts, in the St. Petersburg 1914 chess tournament, the title \"Grandmaster\" was formally conferred by Russian Tsar Nicholas II, who had partially funded the tournament. The Tsar reportedly awarded the title to the five finalists: Emanuel Lasker, José Raúl Capablanca, Alexander Alekhine, Siegbert Tarrasch, and Frank Marshall."
   ],
   "metadata": {}
  },
  {
   "cell_type": "markdown",
   "source": [
    "## Questions\r\n",
    "\r\n",
    "1. Basic characteristics of Grandmasters\r\n",
    "2. Observe geographical distribution \r\n",
    "3. Observe geographical distribution over time\r\n",
    "4. First woman grandmaster \r\n",
    "5. Oldest in the top 1000 \r\n",
    "6. Younguest grandmasters (over time)"
   ],
   "metadata": {}
  },
  {
   "cell_type": "markdown",
   "source": [
    "# Imports"
   ],
   "metadata": {}
  },
  {
   "cell_type": "code",
   "execution_count": 1,
   "source": [
    "from bs4 import BeautifulSoup\r\n",
    "import requests\r\n",
    "import lxml\r\n",
    "\r\n",
    "import pandas as pd\r\n",
    "import matplotlib.pyplot as plt\r\n",
    "\r\n",
    "import requests\r\n",
    "import numpy as np"
   ],
   "outputs": [],
   "metadata": {}
  },
  {
   "cell_type": "markdown",
   "source": [
    "# Data Gathering"
   ],
   "metadata": {}
  },
  {
   "cell_type": "markdown",
   "source": [
    "Scrape list of grandmasters, along with basic demographics, from Wikipedia.\r\n",
    "\r\n",
    "This can easily be done with _pd.read_html()_ but was done as shown for practice. "
   ],
   "metadata": {}
  },
  {
   "cell_type": "code",
   "execution_count": 3,
   "source": [
    "response = requests.get(url=\"https://en.wikipedia.org/wiki/List_of_chess_grandmasters\")\r\n",
    "page = response.text"
   ],
   "outputs": [],
   "metadata": {}
  },
  {
   "cell_type": "code",
   "execution_count": 4,
   "source": [
    "soup = BeautifulSoup(page, \"lxml\")"
   ],
   "outputs": [],
   "metadata": {}
  },
  {
   "cell_type": "code",
   "execution_count": 5,
   "source": [
    "# Table with relevant information \r\n",
    "table = soup.find(\"table\", id=\"grandmasters\")"
   ],
   "outputs": [],
   "metadata": {}
  },
  {
   "cell_type": "code",
   "execution_count": 6,
   "source": [
    "# Get header info \r\n",
    "\r\n",
    "header_tag = table.find(\"tr\")"
   ],
   "outputs": [],
   "metadata": {}
  },
  {
   "cell_type": "code",
   "execution_count": 224,
   "source": [
    "print(header_tag.text)"
   ],
   "outputs": [
    {
     "output_type": "stream",
     "name": "stdout",
     "text": [
      "\n",
      "Name\n",
      "FIDE ID\n",
      "Birthday\n",
      "Birthplace\n",
      "Died\n",
      "TitleYear\n",
      "Federation\n",
      "Sex\n",
      "Notes\n",
      "\n"
     ]
    }
   ],
   "metadata": {}
  },
  {
   "cell_type": "code",
   "execution_count": 7,
   "source": [
    "headers = header_tag.text.split(\"\\n\")[1:-1]"
   ],
   "outputs": [],
   "metadata": {}
  },
  {
   "cell_type": "code",
   "execution_count": 8,
   "source": [
    "# Get Grandmaster info\r\n",
    "\r\n",
    "gm_tags = table.find_all('tr')[2:]"
   ],
   "outputs": [],
   "metadata": {}
  },
  {
   "cell_type": "code",
   "execution_count": 9,
   "source": [
    "# Create DataFrame\r\n",
    "\r\n",
    "data = {column_name: [] for column_name in headers}\r\n",
    "\r\n",
    "gms_info = [tag.text.strip(\"\\n\").split(\"\\n\") for tag in gm_tags] \r\n",
    "\r\n",
    "for gm_info in gms_info:\r\n",
    "    for item in list(zip(headers, gm_info)):\r\n",
    "        data[item[0]].append(item[1]) \r\n",
    "\r\n",
    "gm_df = pd.DataFrame(data) \r\n",
    "\r\n",
    "gm_df.head()"
   ],
   "outputs": [
    {
     "output_type": "execute_result",
     "data": {
      "text/plain": [
       "                  Name   FIDE ID        Born Birthplace Died TitleYear  \\\n",
       "0       Aagaard, Jacob   1401815  1973-07-31   Hørsholm           2007   \n",
       "1        Abasov, Nijat  13402960  1995-05-14       Baku           2011   \n",
       "2     Abbasifar, Hasan  12501000  1972-09-12     Shiraz           2013   \n",
       "3       Abbasov, Farid  13400665  1979-01-31       Baku           2007   \n",
       "4  Abdumalik, Zhansaya  13703544  2000-01-12     Almaty           2021   \n",
       "\n",
       "   Federation Sex                                             Notes  \n",
       "0     Denmark   M  Di Felice; title application; currently Scotland  \n",
       "1  Azerbaijan   M                      Di Felice; title application  \n",
       "2        Iran   M              Di Felice; title application[note 1]  \n",
       "3  Azerbaijan   M                      Di Felice; title application  \n",
       "4  Kazakhstan   F                                 title application  "
      ],
      "text/html": [
       "<div>\n",
       "<style scoped>\n",
       "    .dataframe tbody tr th:only-of-type {\n",
       "        vertical-align: middle;\n",
       "    }\n",
       "\n",
       "    .dataframe tbody tr th {\n",
       "        vertical-align: top;\n",
       "    }\n",
       "\n",
       "    .dataframe thead th {\n",
       "        text-align: right;\n",
       "    }\n",
       "</style>\n",
       "<table border=\"1\" class=\"dataframe\">\n",
       "  <thead>\n",
       "    <tr style=\"text-align: right;\">\n",
       "      <th></th>\n",
       "      <th>Name</th>\n",
       "      <th>FIDE ID</th>\n",
       "      <th>Born</th>\n",
       "      <th>Birthplace</th>\n",
       "      <th>Died</th>\n",
       "      <th>TitleYear</th>\n",
       "      <th>Federation</th>\n",
       "      <th>Sex</th>\n",
       "      <th>Notes</th>\n",
       "    </tr>\n",
       "  </thead>\n",
       "  <tbody>\n",
       "    <tr>\n",
       "      <th>0</th>\n",
       "      <td>Aagaard, Jacob</td>\n",
       "      <td>1401815</td>\n",
       "      <td>1973-07-31</td>\n",
       "      <td>Hørsholm</td>\n",
       "      <td></td>\n",
       "      <td>2007</td>\n",
       "      <td>Denmark</td>\n",
       "      <td>M</td>\n",
       "      <td>Di Felice; title application; currently Scotland</td>\n",
       "    </tr>\n",
       "    <tr>\n",
       "      <th>1</th>\n",
       "      <td>Abasov, Nijat</td>\n",
       "      <td>13402960</td>\n",
       "      <td>1995-05-14</td>\n",
       "      <td>Baku</td>\n",
       "      <td></td>\n",
       "      <td>2011</td>\n",
       "      <td>Azerbaijan</td>\n",
       "      <td>M</td>\n",
       "      <td>Di Felice; title application</td>\n",
       "    </tr>\n",
       "    <tr>\n",
       "      <th>2</th>\n",
       "      <td>Abbasifar, Hasan</td>\n",
       "      <td>12501000</td>\n",
       "      <td>1972-09-12</td>\n",
       "      <td>Shiraz</td>\n",
       "      <td></td>\n",
       "      <td>2013</td>\n",
       "      <td>Iran</td>\n",
       "      <td>M</td>\n",
       "      <td>Di Felice; title application[note 1]</td>\n",
       "    </tr>\n",
       "    <tr>\n",
       "      <th>3</th>\n",
       "      <td>Abbasov, Farid</td>\n",
       "      <td>13400665</td>\n",
       "      <td>1979-01-31</td>\n",
       "      <td>Baku</td>\n",
       "      <td></td>\n",
       "      <td>2007</td>\n",
       "      <td>Azerbaijan</td>\n",
       "      <td>M</td>\n",
       "      <td>Di Felice; title application</td>\n",
       "    </tr>\n",
       "    <tr>\n",
       "      <th>4</th>\n",
       "      <td>Abdumalik, Zhansaya</td>\n",
       "      <td>13703544</td>\n",
       "      <td>2000-01-12</td>\n",
       "      <td>Almaty</td>\n",
       "      <td></td>\n",
       "      <td>2021</td>\n",
       "      <td>Kazakhstan</td>\n",
       "      <td>F</td>\n",
       "      <td>title application</td>\n",
       "    </tr>\n",
       "  </tbody>\n",
       "</table>\n",
       "</div>"
      ]
     },
     "metadata": {},
     "execution_count": 9
    }
   ],
   "metadata": {}
  },
  {
   "cell_type": "code",
   "execution_count": 10,
   "source": [
    "gm_df.drop(\"Notes\", axis=1, inplace=True)"
   ],
   "outputs": [],
   "metadata": {}
  },
  {
   "cell_type": "markdown",
   "source": [
    "# Data Exploration (Preliminary)"
   ],
   "metadata": {}
  },
  {
   "cell_type": "code",
   "execution_count": 229,
   "source": [
    "gm_df.shape"
   ],
   "outputs": [
    {
     "output_type": "execute_result",
     "data": {
      "text/plain": [
       "(1932, 8)"
      ]
     },
     "metadata": {},
     "execution_count": 229
    }
   ],
   "metadata": {}
  },
  {
   "cell_type": "code",
   "execution_count": 13,
   "source": [
    "gm_df.info()   # Missing Values encoded as empty strings"
   ],
   "outputs": [
    {
     "output_type": "stream",
     "name": "stdout",
     "text": [
      "<class 'pandas.core.frame.DataFrame'>\n",
      "RangeIndex: 1939 entries, 0 to 1938\n",
      "Data columns (total 8 columns):\n",
      " #   Column      Non-Null Count  Dtype \n",
      "---  ------      --------------  ----- \n",
      " 0   Name        1939 non-null   object\n",
      " 1   FIDE ID     1939 non-null   object\n",
      " 2   Born        1939 non-null   object\n",
      " 3   Birthplace  1939 non-null   object\n",
      " 4   Died        1939 non-null   object\n",
      " 5   TitleYear   1939 non-null   object\n",
      " 6   Federation  1939 non-null   object\n",
      " 7   Sex         1939 non-null   object\n",
      "dtypes: object(8)\n",
      "memory usage: 121.3+ KB\n"
     ]
    }
   ],
   "metadata": {}
  },
  {
   "cell_type": "markdown",
   "source": [
    "# Data Prepartions"
   ],
   "metadata": {}
  },
  {
   "cell_type": "code",
   "execution_count": 14,
   "source": [
    "gm_df[['Born', 'Died', 'TitleYear']] = gm_df[['Born', 'Died', 'TitleYear']].apply(pd.to_datetime)\r\n",
    "gm_df.dtypes"
   ],
   "outputs": [
    {
     "output_type": "execute_result",
     "data": {
      "text/plain": [
       "Name                  object\n",
       "FIDE ID               object\n",
       "Born          datetime64[ns]\n",
       "Birthplace            object\n",
       "Died          datetime64[ns]\n",
       "TitleYear     datetime64[ns]\n",
       "Federation            object\n",
       "Sex                   object\n",
       "dtype: object"
      ]
     },
     "metadata": {},
     "execution_count": 14
    }
   ],
   "metadata": {}
  },
  {
   "cell_type": "markdown",
   "source": [
    "# Data Investigation"
   ],
   "metadata": {}
  },
  {
   "cell_type": "markdown",
   "source": [
    "### Early Grandmasters"
   ],
   "metadata": {}
  },
  {
   "cell_type": "code",
   "execution_count": 19,
   "source": [
    "# Oldest Grandmasters in batch of First titles\r\n",
    "\r\n",
    "first_year = gm_df.TitleYear.min() \r\n",
    "\r\n",
    "gm_df[gm_df.TitleYear == first_year].sort_values(\"Born\")[:10]"
   ],
   "outputs": [
    {
     "output_type": "execute_result",
     "data": {
      "text/plain": [
       "                      Name FIDE ID       Born     Birthplace       Died  \\\n",
       "1111       Mieses, Jacques         1865-02-27        Leipzig 1954-02-23   \n",
       "1069         Maróczy, Géza         1870-03-03         Szeged 1951-05-29   \n",
       "1465     Rubinstein, Akiba         1880-12-01       Stawiski 1961-03-15   \n",
       "179       Bernstein, Ossip         1882-10-02       Zhytomyr 1962-11-30   \n",
       "385         Duras, Oldřich         1882-10-30         Prague 1957-01-05   \n",
       "1800         Vidmar, Milan         1885-06-22      Ljubljana 1962-10-09   \n",
       "1700  Tartakower, Savielly         1887-02-21  Rostov-on-Don 1956-02-05   \n",
       "877          Kostić, Boris         1887-02-24          Vršac 1963-11-03   \n",
       "975     Levenfish, Grigory         1889-03-21       Petrokov 1961-02-09   \n",
       "587        Grünfeld, Ernst         1893-11-21         Vienna 1962-04-03   \n",
       "\n",
       "      TitleYear       Federation Sex  \n",
       "1111 1950-01-01          England   M  \n",
       "1069 1950-01-01          Hungary   M  \n",
       "1465 1950-01-01           Poland   M  \n",
       "179  1950-01-01           France   M  \n",
       "385  1950-01-01  Czecho­slovakia   M  \n",
       "1800 1950-01-01       Yugoslavia   M  \n",
       "1700 1950-01-01           France   M  \n",
       "877  1950-01-01       Yugoslavia   M  \n",
       "975  1950-01-01     Soviet Union   M  \n",
       "587  1950-01-01          Austria   M  "
      ],
      "text/html": [
       "<div>\n",
       "<style scoped>\n",
       "    .dataframe tbody tr th:only-of-type {\n",
       "        vertical-align: middle;\n",
       "    }\n",
       "\n",
       "    .dataframe tbody tr th {\n",
       "        vertical-align: top;\n",
       "    }\n",
       "\n",
       "    .dataframe thead th {\n",
       "        text-align: right;\n",
       "    }\n",
       "</style>\n",
       "<table border=\"1\" class=\"dataframe\">\n",
       "  <thead>\n",
       "    <tr style=\"text-align: right;\">\n",
       "      <th></th>\n",
       "      <th>Name</th>\n",
       "      <th>FIDE ID</th>\n",
       "      <th>Born</th>\n",
       "      <th>Birthplace</th>\n",
       "      <th>Died</th>\n",
       "      <th>TitleYear</th>\n",
       "      <th>Federation</th>\n",
       "      <th>Sex</th>\n",
       "    </tr>\n",
       "  </thead>\n",
       "  <tbody>\n",
       "    <tr>\n",
       "      <th>1111</th>\n",
       "      <td>Mieses, Jacques</td>\n",
       "      <td></td>\n",
       "      <td>1865-02-27</td>\n",
       "      <td>Leipzig</td>\n",
       "      <td>1954-02-23</td>\n",
       "      <td>1950-01-01</td>\n",
       "      <td>England</td>\n",
       "      <td>M</td>\n",
       "    </tr>\n",
       "    <tr>\n",
       "      <th>1069</th>\n",
       "      <td>Maróczy, Géza</td>\n",
       "      <td></td>\n",
       "      <td>1870-03-03</td>\n",
       "      <td>Szeged</td>\n",
       "      <td>1951-05-29</td>\n",
       "      <td>1950-01-01</td>\n",
       "      <td>Hungary</td>\n",
       "      <td>M</td>\n",
       "    </tr>\n",
       "    <tr>\n",
       "      <th>1465</th>\n",
       "      <td>Rubinstein, Akiba</td>\n",
       "      <td></td>\n",
       "      <td>1880-12-01</td>\n",
       "      <td>Stawiski</td>\n",
       "      <td>1961-03-15</td>\n",
       "      <td>1950-01-01</td>\n",
       "      <td>Poland</td>\n",
       "      <td>M</td>\n",
       "    </tr>\n",
       "    <tr>\n",
       "      <th>179</th>\n",
       "      <td>Bernstein, Ossip</td>\n",
       "      <td></td>\n",
       "      <td>1882-10-02</td>\n",
       "      <td>Zhytomyr</td>\n",
       "      <td>1962-11-30</td>\n",
       "      <td>1950-01-01</td>\n",
       "      <td>France</td>\n",
       "      <td>M</td>\n",
       "    </tr>\n",
       "    <tr>\n",
       "      <th>385</th>\n",
       "      <td>Duras, Oldřich</td>\n",
       "      <td></td>\n",
       "      <td>1882-10-30</td>\n",
       "      <td>Prague</td>\n",
       "      <td>1957-01-05</td>\n",
       "      <td>1950-01-01</td>\n",
       "      <td>Czecho­slovakia</td>\n",
       "      <td>M</td>\n",
       "    </tr>\n",
       "    <tr>\n",
       "      <th>1800</th>\n",
       "      <td>Vidmar, Milan</td>\n",
       "      <td></td>\n",
       "      <td>1885-06-22</td>\n",
       "      <td>Ljubljana</td>\n",
       "      <td>1962-10-09</td>\n",
       "      <td>1950-01-01</td>\n",
       "      <td>Yugoslavia</td>\n",
       "      <td>M</td>\n",
       "    </tr>\n",
       "    <tr>\n",
       "      <th>1700</th>\n",
       "      <td>Tartakower, Savielly</td>\n",
       "      <td></td>\n",
       "      <td>1887-02-21</td>\n",
       "      <td>Rostov-on-Don</td>\n",
       "      <td>1956-02-05</td>\n",
       "      <td>1950-01-01</td>\n",
       "      <td>France</td>\n",
       "      <td>M</td>\n",
       "    </tr>\n",
       "    <tr>\n",
       "      <th>877</th>\n",
       "      <td>Kostić, Boris</td>\n",
       "      <td></td>\n",
       "      <td>1887-02-24</td>\n",
       "      <td>Vršac</td>\n",
       "      <td>1963-11-03</td>\n",
       "      <td>1950-01-01</td>\n",
       "      <td>Yugoslavia</td>\n",
       "      <td>M</td>\n",
       "    </tr>\n",
       "    <tr>\n",
       "      <th>975</th>\n",
       "      <td>Levenfish, Grigory</td>\n",
       "      <td></td>\n",
       "      <td>1889-03-21</td>\n",
       "      <td>Petrokov</td>\n",
       "      <td>1961-02-09</td>\n",
       "      <td>1950-01-01</td>\n",
       "      <td>Soviet Union</td>\n",
       "      <td>M</td>\n",
       "    </tr>\n",
       "    <tr>\n",
       "      <th>587</th>\n",
       "      <td>Grünfeld, Ernst</td>\n",
       "      <td></td>\n",
       "      <td>1893-11-21</td>\n",
       "      <td>Vienna</td>\n",
       "      <td>1962-04-03</td>\n",
       "      <td>1950-01-01</td>\n",
       "      <td>Austria</td>\n",
       "      <td>M</td>\n",
       "    </tr>\n",
       "  </tbody>\n",
       "</table>\n",
       "</div>"
      ]
     },
     "metadata": {},
     "execution_count": 19
    }
   ],
   "metadata": {}
  },
  {
   "cell_type": "code",
   "execution_count": 233,
   "source": [
    "(gm_df['Died'] < gm_df['TitleYear']).any()"
   ],
   "outputs": [
    {
     "output_type": "execute_result",
     "data": {
      "text/plain": [
       "False"
      ]
     },
     "metadata": {},
     "execution_count": 233
    }
   ],
   "metadata": {}
  },
  {
   "cell_type": "markdown",
   "source": [
    "After FIDE reorganized post WW2, the title of GM was given to 27 players total in 1950. Some of whom were currently the world's best, others who used to be. No posthumous titles were awarded - leaving out greats such as former world champions  Steinitz, Lasker, Capablanca, and Alekhine. "
   ],
   "metadata": {}
  },
  {
   "cell_type": "markdown",
   "source": [
    "### Age Characteristics "
   ],
   "metadata": {}
  },
  {
   "cell_type": "markdown",
   "source": [
    "The average age of new grandmasters over time "
   ],
   "metadata": {}
  },
  {
   "cell_type": "code",
   "execution_count": 21,
   "source": [
    "gm_df[\"age\"] = (gm_df.TitleYear - gm_df.Born)\r\n",
    "\r\n",
    "age_over_time = gm_df.groupby('TitleYear').agg({'age':pd.Series.mean}).apply(lambda x: (x.dt.days/365))\r\n",
    "\r\n",
    "age_over_time.head(3)"
   ],
   "outputs": [
    {
     "output_type": "execute_result",
     "data": {
      "text/plain": [
       "                  age\n",
       "TitleYear            \n",
       "1950-01-01  48.794521\n",
       "1951-01-01  44.843836\n",
       "1952-01-01  30.353425"
      ],
      "text/html": [
       "<div>\n",
       "<style scoped>\n",
       "    .dataframe tbody tr th:only-of-type {\n",
       "        vertical-align: middle;\n",
       "    }\n",
       "\n",
       "    .dataframe tbody tr th {\n",
       "        vertical-align: top;\n",
       "    }\n",
       "\n",
       "    .dataframe thead th {\n",
       "        text-align: right;\n",
       "    }\n",
       "</style>\n",
       "<table border=\"1\" class=\"dataframe\">\n",
       "  <thead>\n",
       "    <tr style=\"text-align: right;\">\n",
       "      <th></th>\n",
       "      <th>age</th>\n",
       "    </tr>\n",
       "    <tr>\n",
       "      <th>TitleYear</th>\n",
       "      <th></th>\n",
       "    </tr>\n",
       "  </thead>\n",
       "  <tbody>\n",
       "    <tr>\n",
       "      <th>1950-01-01</th>\n",
       "      <td>48.794521</td>\n",
       "    </tr>\n",
       "    <tr>\n",
       "      <th>1951-01-01</th>\n",
       "      <td>44.843836</td>\n",
       "    </tr>\n",
       "    <tr>\n",
       "      <th>1952-01-01</th>\n",
       "      <td>30.353425</td>\n",
       "    </tr>\n",
       "  </tbody>\n",
       "</table>\n",
       "</div>"
      ]
     },
     "metadata": {},
     "execution_count": 21
    }
   ],
   "metadata": {}
  },
  {
   "cell_type": "code",
   "execution_count": 235,
   "source": [
    "rolling_average = age_over_time[\"age\"].rolling(3).mean()\r\n",
    "rolling_average"
   ],
   "outputs": [
    {
     "output_type": "execute_result",
     "data": {
      "text/plain": [
       "TitleYear\n",
       "1950-01-01          NaN\n",
       "1951-01-01          NaN\n",
       "1952-01-01    41.330594\n",
       "1953-01-01    39.483105\n",
       "1954-01-01    37.763470\n",
       "                ...    \n",
       "2017-01-01    22.610959\n",
       "2018-01-01    22.669406\n",
       "2019-01-01    22.953425\n",
       "2020-01-01    23.315982\n",
       "2021-01-01    21.971689\n",
       "Name: age, Length: 71, dtype: float64"
      ]
     },
     "metadata": {},
     "execution_count": 235
    }
   ],
   "metadata": {}
  },
  {
   "cell_type": "code",
   "execution_count": 236,
   "source": [
    "# Create nice line chart\r\n",
    "\r\n",
    "plt.figure(figsize=(8, 4))\r\n",
    "plt.title('Average Age of New Grandmasters')\r\n",
    "\r\n",
    "plt.ylabel('Average Age')\r\n",
    "plt.xlabel('Year')\r\n",
    "\r\n",
    "plt.grid(color='grey')\r\n",
    "\r\n",
    "plt.plot(age_over_time.index, age_over_time['age'], color='#E6232E')\r\n",
    "plt.plot(rolling_average.index, rolling_average.values, color='skyblue', linestyle='dashed', linewidth = 3)\r\n",
    "\r\n",
    "plt.show()"
   ],
   "outputs": [
    {
     "output_type": "display_data",
     "data": {
      "text/plain": [
       "<Figure size 576x288 with 1 Axes>"
      ],
      "image/png": "[encoded data removed]"
     },
     "metadata": {
      "needs_background": "light"
     }
    }
   ],
   "metadata": {}
  },
  {
   "cell_type": "markdown",
   "source": [
    "The number of titles awarded each year"
   ],
   "metadata": {}
  },
  {
   "cell_type": "code",
   "execution_count": 237,
   "source": [
    "number_titles = gm_df.groupby(\"TitleYear\").agg({\"Name\":pd.Series.count}).rename({\"Name\":\"Number of Titles\"},axis=1)\r\n",
    "number_titles.head()"
   ],
   "outputs": [
    {
     "output_type": "execute_result",
     "data": {
      "text/plain": [
       "            Number of Titles\n",
       "TitleYear                   \n",
       "1950-01-01                27\n",
       "1951-01-01                 2\n",
       "1952-01-01                 6\n",
       "1953-01-01                 4\n",
       "1954-01-01                 5"
      ],
      "text/html": [
       "<div>\n",
       "<style scoped>\n",
       "    .dataframe tbody tr th:only-of-type {\n",
       "        vertical-align: middle;\n",
       "    }\n",
       "\n",
       "    .dataframe tbody tr th {\n",
       "        vertical-align: top;\n",
       "    }\n",
       "\n",
       "    .dataframe thead th {\n",
       "        text-align: right;\n",
       "    }\n",
       "</style>\n",
       "<table border=\"1\" class=\"dataframe\">\n",
       "  <thead>\n",
       "    <tr style=\"text-align: right;\">\n",
       "      <th></th>\n",
       "      <th>Number of Titles</th>\n",
       "    </tr>\n",
       "    <tr>\n",
       "      <th>TitleYear</th>\n",
       "      <th></th>\n",
       "    </tr>\n",
       "  </thead>\n",
       "  <tbody>\n",
       "    <tr>\n",
       "      <th>1950-01-01</th>\n",
       "      <td>27</td>\n",
       "    </tr>\n",
       "    <tr>\n",
       "      <th>1951-01-01</th>\n",
       "      <td>2</td>\n",
       "    </tr>\n",
       "    <tr>\n",
       "      <th>1952-01-01</th>\n",
       "      <td>6</td>\n",
       "    </tr>\n",
       "    <tr>\n",
       "      <th>1953-01-01</th>\n",
       "      <td>4</td>\n",
       "    </tr>\n",
       "    <tr>\n",
       "      <th>1954-01-01</th>\n",
       "      <td>5</td>\n",
       "    </tr>\n",
       "  </tbody>\n",
       "</table>\n",
       "</div>"
      ]
     },
     "metadata": {},
     "execution_count": 237
    }
   ],
   "metadata": {}
  },
  {
   "cell_type": "code",
   "execution_count": 238,
   "source": [
    "# Create nice line chart\r\n",
    "\r\n",
    "plt.figure(figsize=(8, 4))\r\n",
    "plt.title('Average Age vs Titles Awarded Per Year')\r\n",
    "\r\n",
    "ax1 = plt.gca()\r\n",
    "ax2 = plt.twinx()\r\n",
    "\r\n",
    "ax1.set_xlabel('Year')\r\n",
    "ax1.set_ylabel('Average Age')\r\n",
    "ax2.set_ylabel('Number of Titles Awarded')\r\n",
    "\r\n",
    "\r\n",
    "plt.grid(color='grey')\r\n",
    "\r\n",
    "# ax1.plot(age_over_time.index, age_over_time['age'], color='#E6232E')\r\n",
    "\r\n",
    "ax1.plot(rolling_average.index, rolling_average.values, 'r')\r\n",
    "ax2.plot(number_titles.index, number_titles.values, '--b')\r\n",
    "\r\n",
    "plt.show()"
   ],
   "outputs": [
    {
     "output_type": "display_data",
     "data": {
      "text/plain": [
       "<Figure size 576x288 with 2 Axes>"
      ],
      "image/png": "[encoded data removed]"
     },
     "metadata": {
      "needs_background": "light"
     }
    }
   ],
   "metadata": {}
  },
  {
   "cell_type": "markdown",
   "source": [
    "### Youngest Grandmaster Across Time"
   ],
   "metadata": {}
  },
  {
   "cell_type": "code",
   "execution_count": 239,
   "source": [
    "#Youngest Each Year\r\n",
    "\r\n",
    "youngest_each_year = gm_df.sort_values(by=['TitleYear','age']).groupby('TitleYear').agg({'age':pd.Series.min})\r\n",
    "youngest_each_year.head(3)"
   ],
   "outputs": [
    {
     "output_type": "execute_result",
     "data": {
      "text/plain": [
       "                  age\n",
       "TitleYear            \n",
       "1950-01-01  9448 days\n",
       "1951-01-01 10195 days\n",
       "1952-01-01  8233 days"
      ],
      "text/html": [
       "<div>\n",
       "<style scoped>\n",
       "    .dataframe tbody tr th:only-of-type {\n",
       "        vertical-align: middle;\n",
       "    }\n",
       "\n",
       "    .dataframe tbody tr th {\n",
       "        vertical-align: top;\n",
       "    }\n",
       "\n",
       "    .dataframe thead th {\n",
       "        text-align: right;\n",
       "    }\n",
       "</style>\n",
       "<table border=\"1\" class=\"dataframe\">\n",
       "  <thead>\n",
       "    <tr style=\"text-align: right;\">\n",
       "      <th></th>\n",
       "      <th>age</th>\n",
       "    </tr>\n",
       "    <tr>\n",
       "      <th>TitleYear</th>\n",
       "      <th></th>\n",
       "    </tr>\n",
       "  </thead>\n",
       "  <tbody>\n",
       "    <tr>\n",
       "      <th>1950-01-01</th>\n",
       "      <td>9448 days</td>\n",
       "    </tr>\n",
       "    <tr>\n",
       "      <th>1951-01-01</th>\n",
       "      <td>10195 days</td>\n",
       "    </tr>\n",
       "    <tr>\n",
       "      <th>1952-01-01</th>\n",
       "      <td>8233 days</td>\n",
       "    </tr>\n",
       "  </tbody>\n",
       "</table>\n",
       "</div>"
      ]
     },
     "metadata": {},
     "execution_count": 239
    }
   ],
   "metadata": {}
  },
  {
   "cell_type": "code",
   "execution_count": 240,
   "source": [
    "#Find index for current youngest at each year\r\n",
    "\r\n",
    "indexer = [(youngest_each_year.loc[year] <= youngest_each_year[:year].min()).values[0] for year in youngest_each_year.index] #Boolean Array\r\n",
    "ages_to_select = youngest_each_year[indexer].age.to_list()"
   ],
   "outputs": [],
   "metadata": {}
  },
  {
   "cell_type": "code",
   "execution_count": 241,
   "source": [
    "youngest_grandmasters = gm_df[gm_df[\"age\"].isin(ages_to_select)].drop_duplicates(subset=['age'])\r\n",
    "youngest_grandmasters.sort_values('TitleYear')"
   ],
   "outputs": [
    {
     "output_type": "execute_result",
     "data": {
      "text/plain": [
       "                               Name   FIDE ID   Birthday      Birthplace  \\\n",
       "233                Bronstein, David   4101359 1924-02-19  Belaya Tserkov   \n",
       "1317              Petrosian, Tigran           1929-06-17         Tbilisi   \n",
       "1618                 Spassky, Boris    600024 1937-01-30       Leningrad   \n",
       "453   Fischer, Robert James (Bobby)   2000016 1943-03-09         Chicago   \n",
       "963                     Leko, Peter    703303 1979-09-08        Subotica   \n",
       "116                 Bacrot, Étienne    605506 1983-01-22           Lille   \n",
       "1389              Radjabov, Teimour  13400924 1987-03-12            Baku   \n",
       "785                Karjakin, Sergey  14109603 1990-01-12      Simferopol   \n",
       "1194               Negi, Parimarjan   5016690 1993-02-09       New Delhi   \n",
       "1364              Praggna­nandhaa R  25059530 2005-08-10         Chennai   \n",
       "\n",
       "           Died  TitleYear     Federation Sex       age  \n",
       "233  2006-12-05 1950-01-01   Soviet Union   M 9448 days  \n",
       "1317 1984-08-13 1952-01-01   Soviet Union   M 8233 days  \n",
       "1618        NaT 1955-01-01         Russia   M 6545 days  \n",
       "453  2008-01-17 1958-01-01  United States   M 5412 days  \n",
       "963         NaT 1994-01-01        Hungary   M 5229 days  \n",
       "116         NaT 1997-01-01         France   M 5093 days  \n",
       "1389        NaT 2001-01-01     Azerbaijan   M 5044 days  \n",
       "785         NaT 2003-01-01        Ukraine   M 4737 days  \n",
       "1194        NaT 2006-01-01          India   M 4709 days  \n",
       "1364        NaT 2018-01-01          India   M 4527 days  "
      ],
      "text/html": [
       "<div>\n",
       "<style scoped>\n",
       "    .dataframe tbody tr th:only-of-type {\n",
       "        vertical-align: middle;\n",
       "    }\n",
       "\n",
       "    .dataframe tbody tr th {\n",
       "        vertical-align: top;\n",
       "    }\n",
       "\n",
       "    .dataframe thead th {\n",
       "        text-align: right;\n",
       "    }\n",
       "</style>\n",
       "<table border=\"1\" class=\"dataframe\">\n",
       "  <thead>\n",
       "    <tr style=\"text-align: right;\">\n",
       "      <th></th>\n",
       "      <th>Name</th>\n",
       "      <th>FIDE ID</th>\n",
       "      <th>Birthday</th>\n",
       "      <th>Birthplace</th>\n",
       "      <th>Died</th>\n",
       "      <th>TitleYear</th>\n",
       "      <th>Federation</th>\n",
       "      <th>Sex</th>\n",
       "      <th>age</th>\n",
       "    </tr>\n",
       "  </thead>\n",
       "  <tbody>\n",
       "    <tr>\n",
       "      <th>233</th>\n",
       "      <td>Bronstein, David</td>\n",
       "      <td>4101359</td>\n",
       "      <td>1924-02-19</td>\n",
       "      <td>Belaya Tserkov</td>\n",
       "      <td>2006-12-05</td>\n",
       "      <td>1950-01-01</td>\n",
       "      <td>Soviet Union</td>\n",
       "      <td>M</td>\n",
       "      <td>9448 days</td>\n",
       "    </tr>\n",
       "    <tr>\n",
       "      <th>1317</th>\n",
       "      <td>Petrosian, Tigran</td>\n",
       "      <td></td>\n",
       "      <td>1929-06-17</td>\n",
       "      <td>Tbilisi</td>\n",
       "      <td>1984-08-13</td>\n",
       "      <td>1952-01-01</td>\n",
       "      <td>Soviet Union</td>\n",
       "      <td>M</td>\n",
       "      <td>8233 days</td>\n",
       "    </tr>\n",
       "    <tr>\n",
       "      <th>1618</th>\n",
       "      <td>Spassky, Boris</td>\n",
       "      <td>600024</td>\n",
       "      <td>1937-01-30</td>\n",
       "      <td>Leningrad</td>\n",
       "      <td>NaT</td>\n",
       "      <td>1955-01-01</td>\n",
       "      <td>Russia</td>\n",
       "      <td>M</td>\n",
       "      <td>6545 days</td>\n",
       "    </tr>\n",
       "    <tr>\n",
       "      <th>453</th>\n",
       "      <td>Fischer, Robert James (Bobby)</td>\n",
       "      <td>2000016</td>\n",
       "      <td>1943-03-09</td>\n",
       "      <td>Chicago</td>\n",
       "      <td>2008-01-17</td>\n",
       "      <td>1958-01-01</td>\n",
       "      <td>United States</td>\n",
       "      <td>M</td>\n",
       "      <td>5412 days</td>\n",
       "    </tr>\n",
       "    <tr>\n",
       "      <th>963</th>\n",
       "      <td>Leko, Peter</td>\n",
       "      <td>703303</td>\n",
       "      <td>1979-09-08</td>\n",
       "      <td>Subotica</td>\n",
       "      <td>NaT</td>\n",
       "      <td>1994-01-01</td>\n",
       "      <td>Hungary</td>\n",
       "      <td>M</td>\n",
       "      <td>5229 days</td>\n",
       "    </tr>\n",
       "    <tr>\n",
       "      <th>116</th>\n",
       "      <td>Bacrot, Étienne</td>\n",
       "      <td>605506</td>\n",
       "      <td>1983-01-22</td>\n",
       "      <td>Lille</td>\n",
       "      <td>NaT</td>\n",
       "      <td>1997-01-01</td>\n",
       "      <td>France</td>\n",
       "      <td>M</td>\n",
       "      <td>5093 days</td>\n",
       "    </tr>\n",
       "    <tr>\n",
       "      <th>1389</th>\n",
       "      <td>Radjabov, Teimour</td>\n",
       "      <td>13400924</td>\n",
       "      <td>1987-03-12</td>\n",
       "      <td>Baku</td>\n",
       "      <td>NaT</td>\n",
       "      <td>2001-01-01</td>\n",
       "      <td>Azerbaijan</td>\n",
       "      <td>M</td>\n",
       "      <td>5044 days</td>\n",
       "    </tr>\n",
       "    <tr>\n",
       "      <th>785</th>\n",
       "      <td>Karjakin, Sergey</td>\n",
       "      <td>14109603</td>\n",
       "      <td>1990-01-12</td>\n",
       "      <td>Simferopol</td>\n",
       "      <td>NaT</td>\n",
       "      <td>2003-01-01</td>\n",
       "      <td>Ukraine</td>\n",
       "      <td>M</td>\n",
       "      <td>4737 days</td>\n",
       "    </tr>\n",
       "    <tr>\n",
       "      <th>1194</th>\n",
       "      <td>Negi, Parimarjan</td>\n",
       "      <td>5016690</td>\n",
       "      <td>1993-02-09</td>\n",
       "      <td>New Delhi</td>\n",
       "      <td>NaT</td>\n",
       "      <td>2006-01-01</td>\n",
       "      <td>India</td>\n",
       "      <td>M</td>\n",
       "      <td>4709 days</td>\n",
       "    </tr>\n",
       "    <tr>\n",
       "      <th>1364</th>\n",
       "      <td>Praggna­nandhaa R</td>\n",
       "      <td>25059530</td>\n",
       "      <td>2005-08-10</td>\n",
       "      <td>Chennai</td>\n",
       "      <td>NaT</td>\n",
       "      <td>2018-01-01</td>\n",
       "      <td>India</td>\n",
       "      <td>M</td>\n",
       "      <td>4527 days</td>\n",
       "    </tr>\n",
       "  </tbody>\n",
       "</table>\n",
       "</div>"
      ]
     },
     "metadata": {},
     "execution_count": 241
    }
   ],
   "metadata": {}
  },
  {
   "cell_type": "markdown",
   "source": [
    "### Grandmaster by Location"
   ],
   "metadata": {}
  },
  {
   "cell_type": "code",
   "execution_count": 242,
   "source": [
    "# Most Popular Countries \r\n",
    "\r\n",
    "gm_df['Federation'].value_counts().sort_values(ascending=False)[:10]"
   ],
   "outputs": [
    {
     "output_type": "execute_result",
     "data": {
      "text/plain": [
       "Russia           252\n",
       "Ukraine          102\n",
       "Soviet Union      97\n",
       "United States     79\n",
       "Germany           79\n",
       "Hungary           66\n",
       "India             66\n",
       "Poland            51\n",
       "China             50\n",
       "Spain             48\n",
       "Name: Federation, dtype: int64"
      ]
     },
     "metadata": {},
     "execution_count": 242
    }
   ],
   "metadata": {}
  },
  {
   "cell_type": "code",
   "execution_count": 25,
   "source": [
    "country_counts = gm_df['Federation'].value_counts()\r\n",
    "country_counts = pd.DataFrame(country_counts).reset_index().rename({'index':'Country','Federation':'Count'}, axis=1)\r\n",
    "country_counts.head()"
   ],
   "outputs": [
    {
     "output_type": "execute_result",
     "data": {
      "text/plain": [
       "         Country  Count\n",
       "0         Russia    252\n",
       "1        Ukraine    102\n",
       "2   Soviet Union     97\n",
       "3        Germany     79\n",
       "4  United States     79"
      ],
      "text/html": [
       "<div>\n",
       "<style scoped>\n",
       "    .dataframe tbody tr th:only-of-type {\n",
       "        vertical-align: middle;\n",
       "    }\n",
       "\n",
       "    .dataframe tbody tr th {\n",
       "        vertical-align: top;\n",
       "    }\n",
       "\n",
       "    .dataframe thead th {\n",
       "        text-align: right;\n",
       "    }\n",
       "</style>\n",
       "<table border=\"1\" class=\"dataframe\">\n",
       "  <thead>\n",
       "    <tr style=\"text-align: right;\">\n",
       "      <th></th>\n",
       "      <th>Country</th>\n",
       "      <th>Count</th>\n",
       "    </tr>\n",
       "  </thead>\n",
       "  <tbody>\n",
       "    <tr>\n",
       "      <th>0</th>\n",
       "      <td>Russia</td>\n",
       "      <td>252</td>\n",
       "    </tr>\n",
       "    <tr>\n",
       "      <th>1</th>\n",
       "      <td>Ukraine</td>\n",
       "      <td>102</td>\n",
       "    </tr>\n",
       "    <tr>\n",
       "      <th>2</th>\n",
       "      <td>Soviet Union</td>\n",
       "      <td>97</td>\n",
       "    </tr>\n",
       "    <tr>\n",
       "      <th>3</th>\n",
       "      <td>Germany</td>\n",
       "      <td>79</td>\n",
       "    </tr>\n",
       "    <tr>\n",
       "      <th>4</th>\n",
       "      <td>United States</td>\n",
       "      <td>79</td>\n",
       "    </tr>\n",
       "  </tbody>\n",
       "</table>\n",
       "</div>"
      ]
     },
     "metadata": {},
     "execution_count": 25
    }
   ],
   "metadata": {}
  },
  {
   "cell_type": "code",
   "execution_count": 23,
   "source": [
    "# Get Country Codes \r\n",
    "\r\n",
    "def get_country_code(country):\r\n",
    "    \r\n",
    "    URL = f\"https://restcountries.eu/rest/v2/name/{country}\"\r\n",
    "    response = requests.get(url=URL)\r\n",
    "    if response.status_code == 200:\r\n",
    "        data = response.json()\r\n",
    "        # If only one name found \r\n",
    "        if len(data) == 1:\r\n",
    "            return data[0][\"alpha3Code\"]\r\n",
    "        \r\n",
    "        # If multiple found \r\n",
    "        else:\r\n",
    "            URL = f\"https://restcountries.eu/rest/v2/name/{country}/?fullText=True\"\r\n",
    "            response = requests.get(url=URL)\r\n",
    "            \r\n",
    "            if response.status_code == 200:\r\n",
    "                data = response.json()\r\n",
    "                return data[0]['alpha3Code']\r\n",
    "            \r\n",
    "            else:\r\n",
    "                return \"multiple partial matches\"\r\n",
    "                \r\n",
    "    else:\r\n",
    "        return np.nan\r\n",
    "        "
   ],
   "outputs": [],
   "metadata": {}
  },
  {
   "cell_type": "code",
   "execution_count": 26,
   "source": [
    "country_counts['Locations'] = country_counts.Country.map(get_country_code)"
   ],
   "outputs": [],
   "metadata": {}
  },
  {
   "cell_type": "code",
   "execution_count": 27,
   "source": [
    "country_counts[country_counts['Locations'].isin([np.nan, \"multiple partial matches\"])]"
   ],
   "outputs": [
    {
     "output_type": "execute_result",
     "data": {
      "text/plain": [
       "                  Country  Count                 Locations\n",
       "2            Soviet Union     97                       NaN\n",
       "4           United States     79  multiple partial matches\n",
       "11             Yugoslavia     45                       NaN\n",
       "13                England     43                       NaN\n",
       "29                   Iran     17  multiple partial matches\n",
       "39           West Germany     13                       NaN\n",
       "45        Czecho­slovakia     11                       NaN\n",
       "50        North Macedonia      8                       NaN\n",
       "64               Scotland      5                       NaN\n",
       "66           East Germany      4                       NaN\n",
       "88  Serbia and Montenegro      1                       NaN\n",
       "93                Moldava      1                       NaN"
      ],
      "text/html": [
       "<div>\n",
       "<style scoped>\n",
       "    .dataframe tbody tr th:only-of-type {\n",
       "        vertical-align: middle;\n",
       "    }\n",
       "\n",
       "    .dataframe tbody tr th {\n",
       "        vertical-align: top;\n",
       "    }\n",
       "\n",
       "    .dataframe thead th {\n",
       "        text-align: right;\n",
       "    }\n",
       "</style>\n",
       "<table border=\"1\" class=\"dataframe\">\n",
       "  <thead>\n",
       "    <tr style=\"text-align: right;\">\n",
       "      <th></th>\n",
       "      <th>Country</th>\n",
       "      <th>Count</th>\n",
       "      <th>Locations</th>\n",
       "    </tr>\n",
       "  </thead>\n",
       "  <tbody>\n",
       "    <tr>\n",
       "      <th>2</th>\n",
       "      <td>Soviet Union</td>\n",
       "      <td>97</td>\n",
       "      <td>NaN</td>\n",
       "    </tr>\n",
       "    <tr>\n",
       "      <th>4</th>\n",
       "      <td>United States</td>\n",
       "      <td>79</td>\n",
       "      <td>multiple partial matches</td>\n",
       "    </tr>\n",
       "    <tr>\n",
       "      <th>11</th>\n",
       "      <td>Yugoslavia</td>\n",
       "      <td>45</td>\n",
       "      <td>NaN</td>\n",
       "    </tr>\n",
       "    <tr>\n",
       "      <th>13</th>\n",
       "      <td>England</td>\n",
       "      <td>43</td>\n",
       "      <td>NaN</td>\n",
       "    </tr>\n",
       "    <tr>\n",
       "      <th>29</th>\n",
       "      <td>Iran</td>\n",
       "      <td>17</td>\n",
       "      <td>multiple partial matches</td>\n",
       "    </tr>\n",
       "    <tr>\n",
       "      <th>39</th>\n",
       "      <td>West Germany</td>\n",
       "      <td>13</td>\n",
       "      <td>NaN</td>\n",
       "    </tr>\n",
       "    <tr>\n",
       "      <th>45</th>\n",
       "      <td>Czecho­slovakia</td>\n",
       "      <td>11</td>\n",
       "      <td>NaN</td>\n",
       "    </tr>\n",
       "    <tr>\n",
       "      <th>50</th>\n",
       "      <td>North Macedonia</td>\n",
       "      <td>8</td>\n",
       "      <td>NaN</td>\n",
       "    </tr>\n",
       "    <tr>\n",
       "      <th>64</th>\n",
       "      <td>Scotland</td>\n",
       "      <td>5</td>\n",
       "      <td>NaN</td>\n",
       "    </tr>\n",
       "    <tr>\n",
       "      <th>66</th>\n",
       "      <td>East Germany</td>\n",
       "      <td>4</td>\n",
       "      <td>NaN</td>\n",
       "    </tr>\n",
       "    <tr>\n",
       "      <th>88</th>\n",
       "      <td>Serbia and Montenegro</td>\n",
       "      <td>1</td>\n",
       "      <td>NaN</td>\n",
       "    </tr>\n",
       "    <tr>\n",
       "      <th>93</th>\n",
       "      <td>Moldava</td>\n",
       "      <td>1</td>\n",
       "      <td>NaN</td>\n",
       "    </tr>\n",
       "  </tbody>\n",
       "</table>\n",
       "</div>"
      ]
     },
     "metadata": {},
     "execution_count": 27
    }
   ],
   "metadata": {}
  },
  {
   "cell_type": "code",
   "execution_count": 28,
   "source": [
    "mapping = {\r\n",
    "    \"Country\": {\r\n",
    "        \"United States\": \"United States of America\",\r\n",
    "        \"England\": \"United Kingdom of Great Britain and Northern Ireland\",\r\n",
    "        \"Iran\": \"Iran (Islamic Republic of)\",\r\n",
    "        \r\n",
    "        \"Serbia and Montenegro\": \"Serbia\", \r\n",
    "        \"Yugoslavia\": \"Serbia\", \r\n",
    "        \"West Germany\": \"Germany\", \r\n",
    "        \"East Germany\": \"Germany\", \r\n",
    "        \"Soviet Union\": \"Russia\"\r\n",
    "    }\r\n",
    "}\r\n",
    "\r\n",
    "country_counts = country_counts.replace(mapping)\r\n",
    "country_counts = country_counts.groupby(\"Country\",).agg({\"Count\":pd.Series.sum, \"Locations\":pd.Series.sample}).reset_index()"
   ],
   "outputs": [],
   "metadata": {}
  },
  {
   "cell_type": "code",
   "execution_count": 29,
   "source": [
    "for country in [\"United States of America\",\"United Kingdom of Great Britain and Northern Ireland\",\"Iran (Islamic Republic of)\"]:\r\n",
    "    country_counts.loc[country_counts[\"Country\"]==country,'Locations'] = get_country_code(country)        "
   ],
   "outputs": [],
   "metadata": {}
  },
  {
   "cell_type": "code",
   "execution_count": 246,
   "source": [
    "# Create geographic map of World"
   ],
   "outputs": [],
   "metadata": {}
  },
  {
   "cell_type": "code",
   "execution_count": 32,
   "source": [
    "# import plotly.express as px\r\n",
    "\r\n",
    "# fig = px.choropleth(data_frame=country_counts,\r\n",
    "#                          locations='Locations',\r\n",
    "#                          color='Count',\r\n",
    "#                          hover_name='Country', \r\n",
    "#                         color_continuous_scale=px.colors.sequential.Darkmint)\r\n",
    "\r\n",
    " \r\n",
    "# fig.update_layout(coloraxis_showscale=True,)\r\n",
    " \r\n",
    "# fig.show()\r\n"
   ],
   "outputs": [],
   "metadata": {}
  },
  {
   "cell_type": "markdown",
   "source": [
    "### Female Grandmasters"
   ],
   "metadata": {}
  },
  {
   "cell_type": "code",
   "execution_count": null,
   "source": [
    "# Female Grandmasters \r\n",
    "\r\n",
    "gm_df[gm_df[\"Sex\"] == \"F\"].sort_values(\"TitleYear\")[:5]"
   ],
   "outputs": [],
   "metadata": {}
  },
  {
   "cell_type": "code",
   "execution_count": null,
   "source": [
    "# Any American Woman GM's\r\n",
    "\r\n",
    "((gm_df[\"Sex\"] == \"F\") & (gm_df[\"Federation\"] == \"United States\")).any()"
   ],
   "outputs": [],
   "metadata": {}
  },
  {
   "cell_type": "code",
   "execution_count": null,
   "source": [
    "gm_df[(gm_df[\"Sex\"] == \"F\") & (gm_df[\"Federation\"] == \"United States\")]"
   ],
   "outputs": [],
   "metadata": {}
  }
 ],
 "metadata": {
  "kernelspec": {
   "name": "python3",
   "display_name": "Python 3.8.5 64-bit ('base': conda)"
  },
  "language_info": {
   "codemirror_mode": {
    "name": "ipython",
    "version": 3
   },
   "file_extension": ".py",
   "mimetype": "text/x-python",
   "name": "python",
   "nbconvert_exporter": "python",
   "pygments_lexer": "ipython3",
   "version": "3.8.5"
  },
  "interpreter": {
   "hash": "643efc6330f133b8931fd3ca40ec99efa38206b3889d304866f3e28b5b532e89"
  }
 },
 "nbformat": 4,
 "nbformat_minor": 4
}